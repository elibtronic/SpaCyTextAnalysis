{
  "cells": [
    {
      "cell_type": "markdown",
      "metadata": {
        "id": "a_cnBtYjnuWT"
      },
      "source": [
        "# spaCy Basics with Winnie Beam \n",
        "This notebook demonstrates various functionalities available through spaCy Python package for natural language processing, by applying it to the Winnie Beam Diary.\n",
        "\n",
        "## What Can spaCy Do? \n",
        "\n",
        "- [Tokenization and (some) Lexical Attributes](#tokens-lex-atts)\n",
        "    - Lexical attributes include:\n",
        "        - Part-of-speech\n",
        "        - Named Entity Recognition\n",
        "        - Lemmatization (the root form of the word ex. buying and bought both have the lemma \"buy\")\n",
        "        - *Morphological features (ex. verb form, mood, tense) (not covered in examples)\n",
        "        - Noun chunks\n",
        "        - Sentence segmentation\n",
        "    - Also includes a little bit of info on displaCy and displaying dependency graphs and other types of displaCy visualizations.\n",
        "\n",
        "-  [Matching with the `Matcher`](#matcher)\n",
        "    - can match using the attributes determined by pipeline\n",
        "        - entity types\n",
        "        - parts of speech etc\n",
        "    - this section presents some examples of that in Winnie Beam using the `Matcher` and the `DependencyMatcher` which matches using the dependency grammar structure\n",
        "    - can specify custom callback functions for match rules (no code example, documentation with examples linked)\n",
        "    - can match direct phrases with `PhraseMatcher` (not shown in examples)\n",
        "        - useful for finite lists of things \n",
        "\n",
        "- [Word Vectors and Semantic Similarity](#word-vec-sem-sim)\n",
        "\n",
        "- [Pipelines and Custom Components](#pipelines-components)\n",
        "    - includes info on how to customize what processing is done by the NLP object\n",
        "    - how to create custom components for the NLP pipeline \n",
        "    - how to efficiently process lots of documents\n",
        "\n",
        "- [Training Models](#training)\n",
        "    - some brief notes on sentiment analysis\n",
        "    - a toy example of training a model using spacy, using a similar tiny dataset as presented in the Text Analysis basics workshop\n",
        "\n",
        "- [Readability](#readability)\n",
        "    - uses a spaCy Universe package (`TextDescriptives`) to quickly calculate a variety of text readability measures\n",
        "    - brief notes about each score and how to interpret its results are presented, as well as an example for each "
      ]
    },
    {
      "cell_type": "code",
      "execution_count": null,
      "metadata": {
        "colab": {
          "base_uri": "https://localhost:8080/"
        },
        "collapsed": true,
        "id": "FiUynIka1x9q",
        "outputId": "e0876e43-7b84-4187-bcbe-f5b3febede7e"
      },
      "outputs": [],
      "source": [
        "# install spacy 3.2.0 (any other 3.X version will likely work also)\n",
        "!pip install spacy==3.2.0\n",
        "# if doing anything with word vectors use en_core_web_md or higher as the language model\n",
        "# run this cell then hit ctrl-m-. to restart the runtime then proceed\n",
        "!python -m spacy download en_core_web_md"
      ]
    },
    {
      "cell_type": "code",
      "execution_count": null,
      "metadata": {
        "colab": {
          "base_uri": "https://localhost:8080/"
        },
        "id": "urBRV3Z2XGn9",
        "outputId": "11fd1910-1293-40ab-fac7-68e2314609d0"
      },
      "outputs": [],
      "source": [
        "# to check spacy version -- there are substantial differences between the 2.X and 3.X versions\n",
        "!python -c \"import spacy; print(spacy.__version__)\""
      ]
    },
    {
      "cell_type": "code",
      "execution_count": null,
      "metadata": {
        "colab": {
          "base_uri": "https://localhost:8080/",
          "height": 580
        },
        "id": "YSBYtZNtnrAQ",
        "outputId": "1ceff8e2-25e6-48b2-af3a-42bc0ad8e0e4"
      },
      "outputs": [
        {
          "data": {
            "text/html": [
              "\n",
              "  <div id=\"df-8b7376ea-d626-4dd6-82b6-1be7a5a1a6fd\">\n",
              "    <div class=\"colab-df-container\">\n",
              "      <div>\n",
              "<style scoped>\n",
              "    .dataframe tbody tr th:only-of-type {\n",
              "        vertical-align: middle;\n",
              "    }\n",
              "\n",
              "    .dataframe tbody tr th {\n",
              "        vertical-align: top;\n",
              "    }\n",
              "\n",
              "    .dataframe thead th {\n",
              "        text-align: right;\n",
              "    }\n",
              "</style>\n",
              "<table border=\"1\" class=\"dataframe\">\n",
              "  <thead>\n",
              "    <tr style=\"text-align: right;\">\n",
              "      <th></th>\n",
              "      <th>page</th>\n",
              "      <th>date</th>\n",
              "      <th>entry</th>\n",
              "    </tr>\n",
              "  </thead>\n",
              "  <tbody>\n",
              "    <tr>\n",
              "      <th>0</th>\n",
              "      <td>7</td>\n",
              "      <td>1900-01-01</td>\n",
              "      <td>New Year. First day of 1900 Charlie Merritt died at Grand Forks British Columbia yesterday of typhoid fever. To-day is election day and pap went up about 3 o'clock and did not get back until nearly 10. He brought us some candy chocolate drops. We had a very fat goose for dinner, not a very young one. Had to have good teeth.</td>\n",
              "    </tr>\n",
              "    <tr>\n",
              "      <th>1</th>\n",
              "      <td>7</td>\n",
              "      <td>1900-01-02</td>\n",
              "      <td>Went uptown in afternoon. Was up to Eckardt's but Miss Macfarlane was not there so I did not get what I wanted. Called at office and Nettie came home with me for tea. Mr Carman came over and borrowed my Mildred books. Then Leta came &amp; borrowed my German Grammar as she forgot hers &amp; left it at school before holiday. Papa, mamma, Nettie &amp; I played crokinole. Mamma &amp; I beat. The 2nd Contingent left for Toronto today to go to South Africa. Dr King's som went.</td>\n",
              "    </tr>\n",
              "    <tr>\n",
              "      <th>2</th>\n",
              "      <td>8</td>\n",
              "      <td>1900-01-03</td>\n",
              "      <td>Mrs Trusty was here washing School started to-day, but I was not going this week. Mamma went to the church and then to Mrs Chatfields Took her the church books. The queen Street Baptist church had a service of praise this evening. Mrs Chapman is organist &amp; Mrs Read-Muir sang Mrs George Armstrong has a daughter was born on New Year's day.</td>\n",
              "    </tr>\n",
              "    <tr>\n",
              "      <th>3</th>\n",
              "      <td>8</td>\n",
              "      <td>1900-01-04</td>\n",
              "      <td>Went over to Carman's to have Ella go with me to Dunn's greenhouse. We went about half past three. I brought a primrose Miss Chaplin was in there. Mamma went to Mrs Klotz at home Beatrice helped. Papa &amp; I went to Sunday School entertainment at night. Had a very long programme. There was a dialogue called \"Aunt Ketty's shopping which was good, and a shaving scene. Mr perry gave a tableful of prizes away. Beatrice came home with us. They had a drill of girls &amp; they sang \"Soldiers of the Queen\"</td>\n",
              "    </tr>\n",
              "    <tr>\n",
              "      <th>4</th>\n",
              "      <td>9</td>\n",
              "      <td>1900-01-05</td>\n",
              "      <td>Sweep day. I read \"At the Camerons\" in the \"Harper's Young People\" when mamma was sweeping. We had a beggar in afternoon asking for a few cents as he had a long way to go. Rats! Went over to Lee's in afternoon after eggs. Took a \"Young Ladies Journal\" Mrs Pay lent me. Her kitty has a sore tail. Mrs Malcolmson came after eggs when I was there. She got large sum of 2. Had some candy at night.</td>\n",
              "    </tr>\n",
              "  </tbody>\n",
              "</table>\n",
              "</div>\n",
              "      <button class=\"colab-df-convert\" onclick=\"convertToInteractive('df-8b7376ea-d626-4dd6-82b6-1be7a5a1a6fd')\"\n",
              "              title=\"Convert this dataframe to an interactive table.\"\n",
              "              style=\"display:none;\">\n",
              "        \n",
              "  <svg xmlns=\"http://www.w3.org/2000/svg\" height=\"24px\"viewBox=\"0 0 24 24\"\n",
              "       width=\"24px\">\n",
              "    <path d=\"M0 0h24v24H0V0z\" fill=\"none\"/>\n",
              "    <path d=\"M18.56 5.44l.94 2.06.94-2.06 2.06-.94-2.06-.94-.94-2.06-.94 2.06-2.06.94zm-11 1L8.5 8.5l.94-2.06 2.06-.94-2.06-.94L8.5 2.5l-.94 2.06-2.06.94zm10 10l.94 2.06.94-2.06 2.06-.94-2.06-.94-.94-2.06-.94 2.06-2.06.94z\"/><path d=\"M17.41 7.96l-1.37-1.37c-.4-.4-.92-.59-1.43-.59-.52 0-1.04.2-1.43.59L10.3 9.45l-7.72 7.72c-.78.78-.78 2.05 0 2.83L4 21.41c.39.39.9.59 1.41.59.51 0 1.02-.2 1.41-.59l7.78-7.78 2.81-2.81c.8-.78.8-2.07 0-2.86zM5.41 20L4 18.59l7.72-7.72 1.47 1.35L5.41 20z\"/>\n",
              "  </svg>\n",
              "      </button>\n",
              "      \n",
              "  <style>\n",
              "    .colab-df-container {\n",
              "      display:flex;\n",
              "      flex-wrap:wrap;\n",
              "      gap: 12px;\n",
              "    }\n",
              "\n",
              "    .colab-df-convert {\n",
              "      background-color: #E8F0FE;\n",
              "      border: none;\n",
              "      border-radius: 50%;\n",
              "      cursor: pointer;\n",
              "      display: none;\n",
              "      fill: #1967D2;\n",
              "      height: 32px;\n",
              "      padding: 0 0 0 0;\n",
              "      width: 32px;\n",
              "    }\n",
              "\n",
              "    .colab-df-convert:hover {\n",
              "      background-color: #E2EBFA;\n",
              "      box-shadow: 0px 1px 2px rgba(60, 64, 67, 0.3), 0px 1px 3px 1px rgba(60, 64, 67, 0.15);\n",
              "      fill: #174EA6;\n",
              "    }\n",
              "\n",
              "    [theme=dark] .colab-df-convert {\n",
              "      background-color: #3B4455;\n",
              "      fill: #D2E3FC;\n",
              "    }\n",
              "\n",
              "    [theme=dark] .colab-df-convert:hover {\n",
              "      background-color: #434B5C;\n",
              "      box-shadow: 0px 1px 3px 1px rgba(0, 0, 0, 0.15);\n",
              "      filter: drop-shadow(0px 1px 2px rgba(0, 0, 0, 0.3));\n",
              "      fill: #FFFFFF;\n",
              "    }\n",
              "  </style>\n",
              "\n",
              "      <script>\n",
              "        const buttonEl =\n",
              "          document.querySelector('#df-8b7376ea-d626-4dd6-82b6-1be7a5a1a6fd button.colab-df-convert');\n",
              "        buttonEl.style.display =\n",
              "          google.colab.kernel.accessAllowed ? 'block' : 'none';\n",
              "\n",
              "        async function convertToInteractive(key) {\n",
              "          const element = document.querySelector('#df-8b7376ea-d626-4dd6-82b6-1be7a5a1a6fd');\n",
              "          const dataTable =\n",
              "            await google.colab.kernel.invokeFunction('convertToInteractive',\n",
              "                                                     [key], {});\n",
              "          if (!dataTable) return;\n",
              "\n",
              "          const docLinkHtml = 'Like what you see? Visit the ' +\n",
              "            '<a target=\"_blank\" href=https://colab.research.google.com/notebooks/data_table.ipynb>data table notebook</a>'\n",
              "            + ' to learn more about interactive tables.';\n",
              "          element.innerHTML = '';\n",
              "          dataTable['output_type'] = 'display_data';\n",
              "          await google.colab.output.renderOutput(dataTable, element);\n",
              "          const docLink = document.createElement('div');\n",
              "          docLink.innerHTML = docLinkHtml;\n",
              "          element.appendChild(docLink);\n",
              "        }\n",
              "      </script>\n",
              "    </div>\n",
              "  </div>\n",
              "  "
            ],
            "text/plain": [
              "   page  ...                                                                                                                                                                                                                                                                                                                                                                                                                                                                                                             entry\n",
              "0     7  ...                                                                                                                                                                             New Year. First day of 1900 Charlie Merritt died at Grand Forks British Columbia yesterday of typhoid fever. To-day is election day and pap went up about 3 o'clock and did not get back until nearly 10. He brought us some candy chocolate drops. We had a very fat goose for dinner, not a very young one. Had to have good teeth.\n",
              "1     7  ...                                       Went uptown in afternoon. Was up to Eckardt's but Miss Macfarlane was not there so I did not get what I wanted. Called at office and Nettie came home with me for tea. Mr Carman came over and borrowed my Mildred books. Then Leta came & borrowed my German Grammar as she forgot hers & left it at school before holiday. Papa, mamma, Nettie & I played crokinole. Mamma & I beat. The 2nd Contingent left for Toronto today to go to South Africa. Dr King's som went.\n",
              "2     8  ...                                                                                                                                                               Mrs Trusty was here washing School started to-day, but I was not going this week. Mamma went to the church and then to Mrs Chatfields Took her the church books. The queen Street Baptist church had a service of praise this evening. Mrs Chapman is organist & Mrs Read-Muir sang Mrs George Armstrong has a daughter was born on New Year's day.\n",
              "3     8  ...  Went over to Carman's to have Ella go with me to Dunn's greenhouse. We went about half past three. I brought a primrose Miss Chaplin was in there. Mamma went to Mrs Klotz at home Beatrice helped. Papa & I went to Sunday School entertainment at night. Had a very long programme. There was a dialogue called \"Aunt Ketty's shopping which was good, and a shaving scene. Mr perry gave a tableful of prizes away. Beatrice came home with us. They had a drill of girls & they sang \"Soldiers of the Queen\"\n",
              "4     9  ...                                                                                                         Sweep day. I read \"At the Camerons\" in the \"Harper's Young People\" when mamma was sweeping. We had a beggar in afternoon asking for a few cents as he had a long way to go. Rats! Went over to Lee's in afternoon after eggs. Took a \"Young Ladies Journal\" Mrs Pay lent me. Her kitty has a sore tail. Mrs Malcolmson came after eggs when I was there. She got large sum of 2. Had some candy at night.\n",
              "\n",
              "[5 rows x 3 columns]"
            ]
          },
          "execution_count": 3,
          "metadata": {},
          "output_type": "execute_result"
        }
      ],
      "source": [
        "import spacy \n",
        "from spacy import displacy # for visualizing! \n",
        "# use \"en_core_web_sm\" if not using word vectors \n",
        "nlp = spacy.load(\"en_core_web_md\") #change to \"en_core_web_md\" to use word vectors, this will take time to load in\n",
        "\n",
        "# load pandas and matplotlib\n",
        "import pandas as pd # for the dataframe\n",
        "import matplotlib.pyplot as plt # for charting the analysis\n",
        "\n",
        "# ensure our previews show lots of info\n",
        "pd.set_option('display.max_colwidth', 999)\n",
        "\n",
        "# get the corpus\n",
        "winnie_corpus = pd.read_csv('https://raw.githubusercontent.com/BrockDSL/Text_Analysis_with_Python/master/winnie_corpus.txt', header = None, delimiter=\"\\t\")\n",
        "# label the corpus dataframes\n",
        "winnie_corpus.columns = [\"page\", \"date\", \"entry\"]\n",
        "# change the data-type for date to be a date\n",
        "winnie_corpus['date'] = pd.to_datetime(winnie_corpus['date'])\n",
        "# change data-type for entries to be strings\n",
        "winnie_corpus['entry'] = winnie_corpus.entry.astype(str)\n",
        "\n",
        "# preview corpus\n",
        "winnie_corpus.head()"
      ]
    },
    {
      "cell_type": "markdown",
      "metadata": {
        "id": "fw6Q0weHojwy"
      },
      "source": [
        "<a name=\"tokens-lex-atts\"></a>\n",
        "## Tokenizing + Lexical Attributes\n",
        "\n"
      ]
    },
    {
      "cell_type": "code",
      "execution_count": null,
      "metadata": {
        "colab": {
          "base_uri": "https://localhost:8080/"
        },
        "id": "H9H3j8Tfo9Ue",
        "outputId": "99c4814e-eac9-404d-bcca-7be69fb6fd1b"
      },
      "outputs": [
        {
          "name": "stdout",
          "output_type": "stream",
          "text": [
            "Original text:  New Year. First day of 1900 Charlie Merritt died at Grand Forks British Columbia yesterday of typhoid fever. To-day is election day and pap went up about 3 o'clock and did not get back until nearly 10. He brought us some candy chocolate drops. We had a very fat goose for dinner, not a very young one. Had to have good teeth.\n",
            "\n",
            "New\n",
            "Year\n",
            ".\n",
            "First\n",
            "day\n",
            "of\n",
            "1900\n",
            "Charlie\n",
            "Merritt\n",
            "died\n",
            "at\n",
            "Grand\n",
            "Forks\n",
            "British\n",
            "Columbia\n",
            "yesterday\n",
            "of\n",
            "typhoid\n",
            "fever\n",
            ".\n",
            "To\n",
            "-\n",
            "day\n",
            "is\n",
            "election\n",
            "day\n",
            "and\n",
            "pap\n",
            "went\n",
            "up\n",
            "about\n",
            "3\n",
            "o'clock\n",
            "and\n",
            "did\n",
            "not\n",
            "get\n",
            "back\n",
            "until\n",
            "nearly\n",
            "10\n",
            ".\n",
            "He\n",
            "brought\n",
            "us\n",
            "some\n",
            "candy\n",
            "chocolate\n",
            "drops\n",
            ".\n",
            "We\n",
            "had\n",
            "a\n",
            "very\n",
            "fat\n",
            "goose\n",
            "for\n",
            "dinner\n",
            ",\n",
            "not\n",
            "a\n",
            "very\n",
            "young\n",
            "one\n",
            ".\n",
            "Had\n",
            "to\n",
            "have\n",
            "good\n",
            "teeth\n",
            ".\n"
          ]
        }
      ],
      "source": [
        "entry = winnie_corpus.entry[0] # for the purposes of demonstration let's just look at this entry\n",
        "doc = nlp(entry)\n",
        "\n",
        "print(\"Original text: \", entry)\n",
        "print()\n",
        "\n",
        "for token in doc:\n",
        "    print(token)"
      ]
    },
    {
      "cell_type": "markdown",
      "metadata": {
        "id": "tjkTKXcTrVSh"
      },
      "source": [
        "The tokenizer breaks down the text into tokens, these tokens are either words (\"goose\", \"o'clock\") or punctutation (\".\", \",\").\n",
        "\n",
        "Let's see some of the info we can get about these tokens! \n"
      ]
    },
    {
      "cell_type": "code",
      "execution_count": null,
      "metadata": {
        "colab": {
          "base_uri": "https://localhost:8080/"
        },
        "id": "4S_aTV8UrYBY",
        "outputId": "dc1d43ab-4ca6-4d1c-86c9-10380d43d192"
      },
      "outputs": [
        {
          "name": "stdout",
          "output_type": "stream",
          "text": [
            "Text\t Part-of-speech\t  Dependency\tLike-Number\n",
            "\n",
            "New         PROPN         compound  \tFalse\n",
            "Year        PROPN         ROOT      \tFalse\n",
            ".           PUNCT         punct     \tFalse\n",
            "First       ADJ           amod      \tTrue\n",
            "day         NOUN          npadvmod  \tFalse\n",
            "of          ADP           prep      \tFalse\n",
            "1900        NUM           pobj      \tTrue\n",
            "Charlie     PROPN         compound  \tFalse\n",
            "Merritt     PROPN         nsubj     \tFalse\n",
            "died        VERB          ROOT      \tFalse\n",
            "at          ADP           prep      \tFalse\n",
            "Grand       PROPN         compound  \tFalse\n",
            "Forks       PROPN         compound  \tFalse\n",
            "British     PROPN         compound  \tFalse\n",
            "Columbia    PROPN         pobj      \tFalse\n",
            "yesterday   NOUN          npadvmod  \tFalse\n",
            "of          ADP           prep      \tFalse\n",
            "typhoid     NOUN          compound  \tFalse\n",
            "fever       NOUN          pobj      \tFalse\n",
            ".           PUNCT         punct     \tFalse\n",
            "To          ADP           nsubj     \tFalse\n",
            "-           PUNCT         punct     \tFalse\n",
            "day         NOUN          pobj      \tFalse\n",
            "is          AUX           ROOT      \tFalse\n",
            "election    NOUN          compound  \tFalse\n",
            "day         NOUN          attr      \tFalse\n",
            "and         CCONJ         cc        \tFalse\n",
            "pap         NOUN          nsubj     \tFalse\n",
            "went        VERB          conj      \tFalse\n",
            "up          ADP           prt       \tFalse\n",
            "about       ADP           advmod    \tFalse\n",
            "3           NUM           nummod    \tTrue\n",
            "o'clock     NOUN          npadvmod  \tFalse\n",
            "and         CCONJ         cc        \tFalse\n",
            "did         AUX           aux       \tFalse\n",
            "not         PART          neg       \tFalse\n",
            "get         VERB          conj      \tFalse\n",
            "back        ADV           advmod    \tFalse\n",
            "until       ADP           prep      \tFalse\n",
            "nearly      ADV           advmod    \tFalse\n",
            "10          NUM           pobj      \tTrue\n",
            ".           PUNCT         punct     \tFalse\n",
            "He          PRON          nsubj     \tFalse\n",
            "brought     VERB          ROOT      \tFalse\n",
            "us          PRON          dative    \tFalse\n",
            "some        DET           det       \tFalse\n",
            "candy       NOUN          compound  \tFalse\n",
            "chocolate   NOUN          nsubj     \tFalse\n",
            "drops       VERB          ccomp     \tFalse\n",
            ".           PUNCT         punct     \tFalse\n",
            "We          PRON          nsubj     \tFalse\n",
            "had         VERB          ROOT      \tFalse\n",
            "a           DET           det       \tFalse\n",
            "very        ADV           advmod    \tFalse\n",
            "fat         ADJ           amod      \tFalse\n",
            "goose       NOUN          dobj      \tFalse\n",
            "for         ADP           prep      \tFalse\n",
            "dinner      NOUN          pobj      \tFalse\n",
            ",           PUNCT         punct     \tFalse\n",
            "not         PART          neg       \tFalse\n",
            "a           DET           det       \tFalse\n",
            "very        ADV           advmod    \tFalse\n",
            "young       ADJ           amod      \tFalse\n",
            "one         NUM           appos     \tTrue\n",
            ".           PUNCT         punct     \tFalse\n",
            "Had         VERB          ROOT      \tFalse\n",
            "to          PART          aux       \tFalse\n",
            "have        VERB          xcomp     \tFalse\n",
            "good        ADJ           amod      \tFalse\n",
            "teeth       NOUN          dobj      \tFalse\n",
            ".           PUNCT         punct     \tFalse\n"
          ]
        }
      ],
      "source": [
        "print(\"Text\\t Part-of-speech\\t  Dependency\\tLike-Number\")\n",
        "print()\n",
        "for token in doc: \n",
        "    print(f\"{token.text:<12}{token.pos_:<14}{token.dep_:<10}\\t{token.like_num}\")"
      ]
    },
    {
      "cell_type": "code",
      "execution_count": null,
      "metadata": {
        "colab": {
          "base_uri": "https://localhost:8080/"
        },
        "id": "CaiSmcr_jM5D",
        "outputId": "ba1c413c-d424-4177-b279-3566c618561c"
      },
      "outputs": [
        {
          "name": "stdout",
          "output_type": "stream",
          "text": [
            "day\n",
            "yesterday\n",
            "typhoid\n",
            "fever\n",
            "day\n",
            "election\n",
            "day\n",
            "pap\n",
            "o'clock\n",
            "candy\n",
            "chocolate\n",
            "goose\n",
            "dinner\n",
            "teeth\n"
          ]
        }
      ],
      "source": [
        "# we can use this info to select certain types of tokens\n",
        "# for example, only print nouns \n",
        "for token in doc:\n",
        "    if token.pos_ == \"NOUN\": \n",
        "        print(token.text)"
      ]
    },
    {
      "cell_type": "markdown",
      "metadata": {
        "id": "ZHLWh19X4TDd"
      },
      "source": [
        "Each token has various attributes associated with it, that are determined and assigned as part of the NLP pipeline. Above we can see some of these attributes printed out, like the words' predicted part of speech and whether or not it is like a number (ex. \"3\" or \"three\"). \n",
        "\n",
        "The token attributes available will depend on what components are loaded into the NLP pipeline, which will be discussed further in the \"Pipelines and Custom Components\" section of the document. \n",
        "\n",
        "In addition to being able to break the document into tokens, we can also split it into sentences. (If you uncomment line 3, you'll also be able to view the dependency graphs for each sentence, which show how the words in the sentence connect to one another in the dependency grammar)."
      ]
    },
    {
      "cell_type": "code",
      "execution_count": null,
      "metadata": {
        "colab": {
          "base_uri": "https://localhost:8080/"
        },
        "id": "2WjYNfm6C90J",
        "outputId": "a49dccae-c0b5-4f6a-d534-38b705aa4e43"
      },
      "outputs": [
        {
          "name": "stdout",
          "output_type": "stream",
          "text": [
            "New Year.\n",
            "First day of 1900 Charlie Merritt died at Grand Forks British Columbia yesterday of typhoid fever.\n",
            "To-day is election day and pap went up about 3 o'clock and did not get back until nearly 10.\n",
            "He brought us some candy chocolate drops.\n",
            "We had a very fat goose for dinner, not a very young one.\n",
            "Had to have good teeth.\n"
          ]
        }
      ],
      "source": [
        "# breaking the text into sentences instead, and trying to visualize them\n",
        "for sent in doc.sents:\n",
        "    # displacy.render(sent, style=\"dep\", jupyter=True)\n",
        "    print(sent)"
      ]
    },
    {
      "cell_type": "markdown",
      "metadata": {
        "id": "kzbSadNFtZdu"
      },
      "source": [
        "We can also look for named entities in the text"
      ]
    },
    {
      "cell_type": "code",
      "execution_count": null,
      "metadata": {
        "colab": {
          "base_uri": "https://localhost:8080/"
        },
        "id": "9WXZ-FJatpqV",
        "outputId": "99bc1a25-4337-4dbc-a5d4-93afee1a135a"
      },
      "outputs": [
        {
          "name": "stdout",
          "output_type": "stream",
          "text": [
            "New Year DATE\n",
            "First day of DATE\n",
            "Charlie Merritt PERSON\n",
            "Grand Forks FAC\n",
            "British Columbia GPE\n",
            "yesterday DATE\n",
            "nearly 10 CARDINAL\n"
          ]
        }
      ],
      "source": [
        "# note that this model is detecting entities based on english text from the web\n",
        "# as such it may not be perfect (also the predictions for the small and medium models may vary!) \n",
        "for ent in doc.ents:  \n",
        "    print(ent.text, ent.label_)"
      ]
    },
    {
      "cell_type": "code",
      "execution_count": null,
      "metadata": {
        "colab": {
          "base_uri": "https://localhost:8080/",
          "height": 122
        },
        "id": "eDifBNvV5r68",
        "outputId": "06a793a4-88c9-479e-a37c-d83701e3ecf3"
      },
      "outputs": [
        {
          "data": {
            "text/html": [
              "<span class=\"tex2jax_ignore\"><div class=\"entities\" style=\"line-height: 2.5; direction: ltr\">\n",
              "<mark class=\"entity\" style=\"background: #bfe1d9; padding: 0.45em 0.6em; margin: 0 0.25em; line-height: 1; border-radius: 0.35em;\">\n",
              "    New Year\n",
              "    <span style=\"font-size: 0.8em; font-weight: bold; line-height: 1; border-radius: 0.35em; vertical-align: middle; margin-left: 0.5rem\">DATE</span>\n",
              "</mark>\n",
              ". \n",
              "<mark class=\"entity\" style=\"background: #bfe1d9; padding: 0.45em 0.6em; margin: 0 0.25em; line-height: 1; border-radius: 0.35em;\">\n",
              "    First day of\n",
              "    <span style=\"font-size: 0.8em; font-weight: bold; line-height: 1; border-radius: 0.35em; vertical-align: middle; margin-left: 0.5rem\">DATE</span>\n",
              "</mark>\n",
              " 1900 \n",
              "<mark class=\"entity\" style=\"background: #aa9cfc; padding: 0.45em 0.6em; margin: 0 0.25em; line-height: 1; border-radius: 0.35em;\">\n",
              "    Charlie Merritt\n",
              "    <span style=\"font-size: 0.8em; font-weight: bold; line-height: 1; border-radius: 0.35em; vertical-align: middle; margin-left: 0.5rem\">PERSON</span>\n",
              "</mark>\n",
              " died at \n",
              "<mark class=\"entity\" style=\"background: #ddd; padding: 0.45em 0.6em; margin: 0 0.25em; line-height: 1; border-radius: 0.35em;\">\n",
              "    Grand Forks\n",
              "    <span style=\"font-size: 0.8em; font-weight: bold; line-height: 1; border-radius: 0.35em; vertical-align: middle; margin-left: 0.5rem\">FAC</span>\n",
              "</mark>\n",
              " \n",
              "<mark class=\"entity\" style=\"background: #feca74; padding: 0.45em 0.6em; margin: 0 0.25em; line-height: 1; border-radius: 0.35em;\">\n",
              "    British Columbia\n",
              "    <span style=\"font-size: 0.8em; font-weight: bold; line-height: 1; border-radius: 0.35em; vertical-align: middle; margin-left: 0.5rem\">GPE</span>\n",
              "</mark>\n",
              " \n",
              "<mark class=\"entity\" style=\"background: #bfe1d9; padding: 0.45em 0.6em; margin: 0 0.25em; line-height: 1; border-radius: 0.35em;\">\n",
              "    yesterday\n",
              "    <span style=\"font-size: 0.8em; font-weight: bold; line-height: 1; border-radius: 0.35em; vertical-align: middle; margin-left: 0.5rem\">DATE</span>\n",
              "</mark>\n",
              " of typhoid fever. To-day is election day and pap went up about 3 o'clock and did not get back until \n",
              "<mark class=\"entity\" style=\"background: #e4e7d2; padding: 0.45em 0.6em; margin: 0 0.25em; line-height: 1; border-radius: 0.35em;\">\n",
              "    nearly 10\n",
              "    <span style=\"font-size: 0.8em; font-weight: bold; line-height: 1; border-radius: 0.35em; vertical-align: middle; margin-left: 0.5rem\">CARDINAL</span>\n",
              "</mark>\n",
              ". He brought us some candy chocolate drops. We had a very fat goose for dinner, not a very young one. Had to have good teeth.</div></span>"
            ],
            "text/plain": [
              "<IPython.core.display.HTML object>"
            ]
          },
          "metadata": {},
          "output_type": "display_data"
        }
      ],
      "source": [
        "# we can also visualize these using displaCy! \n",
        "displacy.render(doc, style=\"ent\", jupyter=True)"
      ]
    },
    {
      "cell_type": "markdown",
      "metadata": {
        "id": "ogGxlGpquoef"
      },
      "source": [
        "For more info on what these predicted labels mean, we can use `spacy.explain()`"
      ]
    },
    {
      "cell_type": "code",
      "execution_count": null,
      "metadata": {
        "colab": {
          "base_uri": "https://localhost:8080/",
          "height": 35
        },
        "id": "qmQXSYM6uxh_",
        "outputId": "58e125b1-36e9-442c-84b2-d3fb74d6130d"
      },
      "outputs": [
        {
          "data": {
            "application/vnd.google.colaboratory.intrinsic+json": {
              "type": "string"
            },
            "text/plain": [
              "'Buildings, airports, highways, bridges, etc.'"
            ]
          },
          "execution_count": 12,
          "metadata": {},
          "output_type": "execute_result"
        }
      ],
      "source": [
        "spacy.explain(\"FAC\")"
      ]
    },
    {
      "cell_type": "markdown",
      "metadata": {
        "id": "o1xZ7o73QRU0"
      },
      "source": [
        "### Noun Chunks and Named Entities"
      ]
    },
    {
      "cell_type": "code",
      "execution_count": null,
      "metadata": {
        "colab": {
          "base_uri": "https://localhost:8080/"
        },
        "id": "TDnZvyiuy610",
        "outputId": "17f5cd69-5fe0-4875-da59-8a6971c495d2"
      },
      "outputs": [
        {
          "name": "stdout",
          "output_type": "stream",
          "text": [
            "New Year\n",
            "Charlie Merritt\n",
            "Grand Forks British Columbia\n",
            "typhoid fever\n",
            "-day\n",
            "election day\n",
            "pap\n",
            "He\n",
            "us\n",
            "some candy chocolate\n",
            "We\n",
            "a very fat goose\n",
            "dinner\n",
            "good teeth\n"
          ]
        }
      ],
      "source": [
        "for chunk in doc.noun_chunks:\n",
        "    print(chunk)"
      ]
    },
    {
      "cell_type": "code",
      "execution_count": null,
      "metadata": {
        "colab": {
          "base_uri": "https://localhost:8080/",
          "height": 539
        },
        "id": "CLmszdRQzHZt",
        "outputId": "1e8e4905-c1db-4afa-ca6a-ed777758c929"
      },
      "outputs": [
        {
          "name": "stdout",
          "output_type": "stream",
          "text": [
            "school\n",
            "the afternoon\n",
            "papa mamma\n",
            "I\n",
            "The concert\n",
            "I\n",
            "anything\n",
            "I\n",
            "four singers 1 violinist\n",
            "1 pianist\n",
            "Mme Meredith soprano Miss Clary\n",
            "contralto\n",
            "Dr Carl Dufft\n",
            "Mr Town, Tenor, Miss Von Fursch violinist and Miss Koler pianist\n",
            "all\n",
            "them\n",
            "Mr Dufft\n",
            "All the ladies\n",
            "a beautiful boquet\n",
            "The first part\n",
            "L. Lehmann\n",
            "a Persian Garden\n"
          ]
        },
        {
          "data": {
            "text/html": [
              "<span class=\"tex2jax_ignore\"><div class=\"entities\" style=\"line-height: 2.5; direction: ltr\">Went to school in the afternoon. Then papa mamma &amp; I went to \n",
              "<mark class=\"entity\" style=\"background: #7aecec; padding: 0.45em 0.6em; margin: 0 0.25em; line-height: 1; border-radius: 0.35em;\">\n",
              "    the Redpath Concert Co.\n",
              "    <span style=\"font-size: 0.8em; font-weight: bold; line-height: 1; border-radius: 0.35em; vertical-align: middle; margin-left: 0.5rem\">ORG</span>\n",
              "</mark>\n",
              " The concert was fine. I never heard anything I liked as well. There were \n",
              "<mark class=\"entity\" style=\"background: #e4e7d2; padding: 0.45em 0.6em; margin: 0 0.25em; line-height: 1; border-radius: 0.35em;\">\n",
              "    four\n",
              "    <span style=\"font-size: 0.8em; font-weight: bold; line-height: 1; border-radius: 0.35em; vertical-align: middle; margin-left: 0.5rem\">CARDINAL</span>\n",
              "</mark>\n",
              " singers \n",
              "<mark class=\"entity\" style=\"background: #e4e7d2; padding: 0.45em 0.6em; margin: 0 0.25em; line-height: 1; border-radius: 0.35em;\">\n",
              "    1\n",
              "    <span style=\"font-size: 0.8em; font-weight: bold; line-height: 1; border-radius: 0.35em; vertical-align: middle; margin-left: 0.5rem\">CARDINAL</span>\n",
              "</mark>\n",
              " violinist and \n",
              "<mark class=\"entity\" style=\"background: #e4e7d2; padding: 0.45em 0.6em; margin: 0 0.25em; line-height: 1; border-radius: 0.35em;\">\n",
              "    1\n",
              "    <span style=\"font-size: 0.8em; font-weight: bold; line-height: 1; border-radius: 0.35em; vertical-align: middle; margin-left: 0.5rem\">CARDINAL</span>\n",
              "</mark>\n",
              " pianist. \n",
              "<mark class=\"entity\" style=\"background: #aa9cfc; padding: 0.45em 0.6em; margin: 0 0.25em; line-height: 1; border-radius: 0.35em;\">\n",
              "    Mme Meredith\n",
              "    <span style=\"font-size: 0.8em; font-weight: bold; line-height: 1; border-radius: 0.35em; vertical-align: middle; margin-left: 0.5rem\">PERSON</span>\n",
              "</mark>\n",
              " soprano Miss Clary, contralto. \n",
              "<mark class=\"entity\" style=\"background: #aa9cfc; padding: 0.45em 0.6em; margin: 0 0.25em; line-height: 1; border-radius: 0.35em;\">\n",
              "    Dr Carl Dufft\n",
              "    <span style=\"font-size: 0.8em; font-weight: bold; line-height: 1; border-radius: 0.35em; vertical-align: middle; margin-left: 0.5rem\">PERSON</span>\n",
              "</mark>\n",
              " basso \n",
              "<mark class=\"entity\" style=\"background: #aa9cfc; padding: 0.45em 0.6em; margin: 0 0.25em; line-height: 1; border-radius: 0.35em;\">\n",
              "    Mr Town\n",
              "    <span style=\"font-size: 0.8em; font-weight: bold; line-height: 1; border-radius: 0.35em; vertical-align: middle; margin-left: 0.5rem\">PERSON</span>\n",
              "</mark>\n",
              ", \n",
              "<mark class=\"entity\" style=\"background: #feca74; padding: 0.45em 0.6em; margin: 0 0.25em; line-height: 1; border-radius: 0.35em;\">\n",
              "    Tenor\n",
              "    <span style=\"font-size: 0.8em; font-weight: bold; line-height: 1; border-radius: 0.35em; vertical-align: middle; margin-left: 0.5rem\">GPE</span>\n",
              "</mark>\n",
              ", Miss \n",
              "<mark class=\"entity\" style=\"background: #aa9cfc; padding: 0.45em 0.6em; margin: 0 0.25em; line-height: 1; border-radius: 0.35em;\">\n",
              "    Von Fursch\n",
              "    <span style=\"font-size: 0.8em; font-weight: bold; line-height: 1; border-radius: 0.35em; vertical-align: middle; margin-left: 0.5rem\">PERSON</span>\n",
              "</mark>\n",
              " violinist and \n",
              "<mark class=\"entity\" style=\"background: #aa9cfc; padding: 0.45em 0.6em; margin: 0 0.25em; line-height: 1; border-radius: 0.35em;\">\n",
              "    Miss Koler\n",
              "    <span style=\"font-size: 0.8em; font-weight: bold; line-height: 1; border-radius: 0.35em; vertical-align: middle; margin-left: 0.5rem\">PERSON</span>\n",
              "</mark>\n",
              " pianist all of them were encored twice and Mr Dufft \n",
              "<mark class=\"entity\" style=\"background: #e4e7d2; padding: 0.45em 0.6em; margin: 0 0.25em; line-height: 1; border-radius: 0.35em;\">\n",
              "    three\n",
              "    <span style=\"font-size: 0.8em; font-weight: bold; line-height: 1; border-radius: 0.35em; vertical-align: middle; margin-left: 0.5rem\">CARDINAL</span>\n",
              "</mark>\n",
              " times. All the ladies got a beautiful boquet. The \n",
              "<mark class=\"entity\" style=\"background: #e4e7d2; padding: 0.45em 0.6em; margin: 0 0.25em; line-height: 1; border-radius: 0.35em;\">\n",
              "    first\n",
              "    <span style=\"font-size: 0.8em; font-weight: bold; line-height: 1; border-radius: 0.35em; vertical-align: middle; margin-left: 0.5rem\">ORDINAL</span>\n",
              "</mark>\n",
              " part was \n",
              "<mark class=\"entity\" style=\"background: #aa9cfc; padding: 0.45em 0.6em; margin: 0 0.25em; line-height: 1; border-radius: 0.35em;\">\n",
              "    L. Lehmann's\n",
              "    <span style=\"font-size: 0.8em; font-weight: bold; line-height: 1; border-radius: 0.35em; vertical-align: middle; margin-left: 0.5rem\">PERSON</span>\n",
              "</mark>\n",
              " &quot;\n",
              "<mark class=\"entity\" style=\"background: #f0d0ff; padding: 0.45em 0.6em; margin: 0 0.25em; line-height: 1; border-radius: 0.35em;\">\n",
              "    In a Persian Garden\n",
              "    <span style=\"font-size: 0.8em; font-weight: bold; line-height: 1; border-radius: 0.35em; vertical-align: middle; margin-left: 0.5rem\">WORK_OF_ART</span>\n",
              "</mark>\n",
              "&quot;.</div></span>"
            ],
            "text/plain": [
              "<IPython.core.display.HTML object>"
            ]
          },
          "metadata": {},
          "output_type": "display_data"
        }
      ],
      "source": [
        "doc2 = nlp(winnie_corpus.entry[22]) # similar to, but distinct from the noun_phrases of TextBlob\n",
        "for chunk in doc2.noun_chunks:\n",
        "    print(chunk)\n",
        "\n",
        "displacy.render(doc2,style=\"ent\", jupyter=True) # note that the noun chunks are similar to, but distinct from the entities"
      ]
    },
    {
      "cell_type": "code",
      "execution_count": null,
      "metadata": {
        "colab": {
          "base_uri": "https://localhost:8080/"
        },
        "id": "imHCeRIeE1nM",
        "outputId": "8b766a5b-6ed8-4253-fe95-1c7afd929597"
      },
      "outputs": [
        {
          "name": "stdout",
          "output_type": "stream",
          "text": [
            "Entities detected...\n",
            "Carman \t PERSON\n",
            "Ella \t PERSON\n",
            "Dunn \t PERSON\n",
            "Chaplin \t PERSON\n",
            "Mrs Klotz \t PERSON\n",
            "Beatrice \t ORG\n",
            "Papa & I \t ORG\n",
            "Sunday \t DATE\n",
            "night \t TIME\n",
            "Aunt Ketty's \t WORK_OF_ART\n",
            "perry \t PERSON\n",
            "Beatrice \t PERSON\n",
            "Soldiers of the Queen \t WORK_OF_ART\n"
          ]
        }
      ],
      "source": [
        "doc = nlp(winnie_corpus.entry[3])\n",
        "print(\"Entities detected...\")\n",
        "for ent in doc.ents: \n",
        "    print(ent, \"\\t\", ent.label_)"
      ]
    },
    {
      "cell_type": "markdown",
      "metadata": {
        "id": "0wRbaQ4UuPx3"
      },
      "source": [
        "<a name=\"matcher\"></a>\n",
        "## Using the Matcher\n",
        "\n",
        "The Matcher is a really powerful tool in spaCy that allows you to use rule-based matching in your texts (this process can also be used to help speed up the process of creating labelled training examples for making custom machine learning based models). The Matcher can match on a variety of attributes in a document, including those created by spaCy's statistical models (like the part-of-speech tags). \n",
        "\n",
        "Below is a very small demo. \n",
        "\n",
        "\n"
      ]
    },
    {
      "cell_type": "code",
      "execution_count": null,
      "metadata": {
        "colab": {
          "base_uri": "https://localhost:8080/"
        },
        "id": "d9M4CmDYXtxx",
        "outputId": "ee12f35e-2f6c-44a1-957d-bf48e549def4"
      },
      "outputs": [
        {
          "name": "stdout",
          "output_type": "stream",
          "text": [
            "Total matches found: 12\n",
            "Match found: Miss Chaplin\n",
            "Match found: Mrs Klotz\n",
            "Match found: Sunday School\n",
            "Match found: Aunt Ketty\n",
            "Match found: Mr perry\n",
            "Match found: Carman\n",
            "Match found: Ella\n",
            "Match found: Dunn\n",
            "Match found: Mamma\n",
            "Match found: Beatrice\n",
            "Match found: Papa\n",
            "Match found: Beatrice\n"
          ]
        }
      ],
      "source": [
        "from spacy.matcher import Matcher\n",
        "\n",
        "matcher = Matcher(nlp.vocab) # create the matcher\n",
        "\n",
        "# create patterns to match\n",
        "# here, we're looking for 1-2 proper nouns in a row\n",
        "double_propn = [{\"POS\": \"PROPN\", }, {\"POS\":\"PROPN\",\"OP\": \"?\" }] \n",
        "matcher.add(\"1-2PROPN\", [double_propn], greedy=\"LONGEST\") #setting greedy = longest we will only match the longest possible match in case of overlaps\n",
        "\n",
        "doc = nlp(winnie_corpus.entry[3])\n",
        "\n",
        "matches = matcher(doc)\n",
        "print(\"Total matches found:\", len(matches))\n",
        "\n",
        "# Iterate over the matches and print the span text\n",
        "for match_id, start, end in matches:\n",
        "    print(\"Match found:\", doc[start:end].text)"
      ]
    },
    {
      "cell_type": "code",
      "execution_count": null,
      "metadata": {
        "colab": {
          "base_uri": "https://localhost:8080/"
        },
        "id": "_AED3evdl0MZ",
        "outputId": "084fadc9-4db6-4b9e-ea21-cf27c9c0c848"
      },
      "outputs": [
        {
          "name": "stdout",
          "output_type": "stream",
          "text": [
            "mamma 330\n",
            "papa 223\n",
            "eva 81\n",
            "sunday school 55\n",
            "beatrice 53\n",
            "mrs pay 40\n",
            "lizzie 35\n",
            "ella 33\n",
            "mrs trusty 26\n",
            "mr perry 26\n",
            "lee 22\n",
            "phoebe 22\n",
            "mr read 21\n",
            "dwyer 21\n",
            "dr abbott 21\n",
            "leta 20\n",
            "mrs sullivan 19\n",
            "toronto 18\n",
            "church 18\n",
            "mrs tulley 17\n"
          ]
        }
      ],
      "source": [
        "# Attempting to apply matching on 1 or 2 proper nouns to the entire diary\n",
        "docs = nlp.pipe(winnie_corpus.entry)\n",
        "proper_noun_pairs = dict()\n",
        "for doc in docs: \n",
        "    matches = matcher(doc)\n",
        "    for match_id, start, end in matches:\n",
        "        match_id_ = doc.vocab.strings[match_id] #retrieve the string for the match_id from the string store\n",
        "        if match_id_ == \"1-2PROPN\":\n",
        "            span_text = doc[start:end].text.lower()\n",
        "            if span_text in proper_noun_pairs:\n",
        "                proper_noun_pairs[span_text] += 1\n",
        "            else:\n",
        "                proper_noun_pairs[span_text] = 1\n",
        "\n",
        "for key in sorted(proper_noun_pairs, key=proper_noun_pairs.get, reverse=True)[0:20]: \n",
        "    print(key, proper_noun_pairs[key])\n"
      ]
    },
    {
      "cell_type": "code",
      "execution_count": null,
      "metadata": {
        "colab": {
          "base_uri": "https://localhost:8080/"
        },
        "id": "sLKvD8AorULI",
        "outputId": "102bb059-746c-4009-e28e-a739e35e8a68"
      },
      "outputs": [
        {
          "name": "stdout",
          "output_type": "stream",
          "text": [
            "mamma 118\n",
            "eva 75\n",
            "night 56\n",
            "afternoon 50\n",
            "this morning 48\n",
            "two 47\n",
            "beatrice 45\n",
            "yesterday 42\n",
            "last night 37\n",
            "lizzie 35\n",
            "mamma & i 33\n",
            "sunday 31\n",
            "first 30\n",
            "this afternoon 29\n",
            "perry 26\n",
            "morning 26\n",
            "ella 25\n",
            "mrs trusty 23\n",
            "lee 23\n",
            "dwyer 22\n"
          ]
        }
      ],
      "source": [
        "# Trying the same as above but with the doc.ents\n",
        "# Note: doc.ents are the entities predicted by the statistical language model,\n",
        "#       this does not relate to the matcher, just an interesting point of comparison\n",
        "docs = nlp.pipe(winnie_corpus.entry)\n",
        "ent_frequencies = dict()\n",
        "for doc in docs:\n",
        "    for ent in doc.ents: \n",
        "        ent_ = ent.text.lower() # using the lowercase for case-insensitivity \n",
        "        if ent_ in ent_frequencies: \n",
        "            ent_frequencies[ent_]+= 1\n",
        "        else: \n",
        "            ent_frequencies[ent_] = 1\n",
        "for key in sorted(ent_frequencies, key=ent_frequencies.get, reverse=True)[0:20]: \n",
        "    print(key, ent_frequencies[key])"
      ]
    },
    {
      "cell_type": "code",
      "execution_count": null,
      "metadata": {
        "colab": {
          "base_uri": "https://localhost:8080/"
        },
        "id": "YsUuwztmdWya",
        "outputId": "9db7192d-4ea3-4e16-d19f-6824b224e554"
      },
      "outputs": [
        {
          "name": "stdout",
          "output_type": "stream",
          "text": [
            "Match found in doc 0: Charlie Merritt died\n",
            "Match found in doc 7: Alice Boyle died\n",
            "Match found in doc 14: Miss Fowler on Queen St. died\n",
            "Match found in doc 21: O'Loughlin's mother died\n",
            "Match found in doc 33: Senkler died\n",
            "Match found in doc 42: Miss Vandenburg's mother died\n",
            "Match found in doc 61: Mrs Dwyer was dying\n",
            "Match found in doc 64: Mrs Dwyer died\n",
            "Match found in doc 71: Mrs Jeeves died\n",
            "Match found in doc 87: Joubert commander of Boer forces died\n",
            "Match found in doc 121: Adam Borrowman died\n",
            "Match found in doc 149: Rollinson is dead\n",
            "Match found in doc 156: Wand is dead\n",
            "Match found in doc 157: Leitch is dead\n",
            "Match found in doc 184: R. Irwin who died\n",
            "Match found in doc 186: R. Irwin who died\n",
            "Match found in doc 205: Groome is dead\n",
            "Match found in doc 247: Inksater's little boy is dead\n",
            "Match found in doc 251: Sydney Bunting's mother died\n",
            "Match found in doc 252: Henry King of Toronto is dead\n",
            "Match found in doc 265: Mrs Milner died\n",
            "Match found in doc 299: Mrs Keating died\n",
            "Match found in doc 313: Miss Buckeley is dead. Died\n",
            "Match found in doc 320: J. P. Merritt died\n",
            "Match found in doc 321: Bessie Read's father died\n",
            "Match found in doc 323: Vale on Queen St. is dead\n",
            "Match found in doc 327: Arthur Sullivan died\n",
            "Match found in doc 330: Lee's. Miss Bird died\n",
            "Match found in doc 349: Mrs Kennedy of St. Louis died\n"
          ]
        }
      ],
      "source": [
        "# more complex application of a matching pattern. \n",
        "# 2 patterns are presented, uncomment line 10 to use both\n",
        "from spacy.matcher import Matcher\n",
        "\n",
        "matcher = Matcher(nlp.vocab) # create the matcher\n",
        "\n",
        "# matching on 1 or more proper nouns or nouns, optionally any form of the word \"be\" and any form of death, die or dead\n",
        "# you can also match on just mentions of death/dying but it is interesting to know who/what is being referenced \n",
        "death = [{\"POS\":{\"IN\": [\"PROPN\", \"NOUN\"]}, \"OP\":\"+\"}, {\"OP\":\"?\", \"LEMMA\": {\"IN\":[\"be\", \"is\"]}}, {\"LEMMA\": {\"IN\": [\"death\", \"die\", \"dead\"]}}] \n",
        "# matcher.add(\"death\", [death])\n",
        "# another approach, the number of optional tokens was chosen somewhat at random, and it is fixed at 4 so that\n",
        "#   entire entries are not matched \n",
        "person_death = [{\"ENT_TYPE\":\"PERSON\"}, {\"OP\":\"?\"}, {\"OP\":\"?\"}, {\"OP\":\"?\"}, {\"OP\":\"?\"}, {\"LEMMA\": {\"IN\": [\"death\", \"die\", \"dead\"]}}]\n",
        "matcher.add(\"person-death\", [person_death], greedy=\"LONGEST\") #flag to only output the longest match \n",
        "docs = nlp.pipe(winnie_corpus.entry)\n",
        "\n",
        "doc_num = 0\n",
        "\n",
        "for doc in docs:\n",
        "    matches = (matcher(doc))\n",
        "    # Iterate over the matches and print the span text\n",
        "    for match_id, start, end in matches:\n",
        "        print(\"Match found in doc \" +  str(doc_num) + \":\", doc[start:end].text)\n",
        "    doc_num += 1"
      ]
    },
    {
      "cell_type": "code",
      "execution_count": null,
      "metadata": {
        "colab": {
          "base_uri": "https://localhost:8080/",
          "height": 177
        },
        "id": "metm28drJ88t",
        "outputId": "c9eded1b-45ee-407f-e0c1-bb0538b45cdf"
      },
      "outputs": [
        {
          "data": {
            "text/html": [
              "<span class=\"tex2jax_ignore\"><div class=\"entities\" style=\"line-height: 2.5; direction: ltr\">\n",
              "<mark class=\"entity\" style=\"background: #aa9cfc; padding: 0.45em 0.6em; margin: 0 0.25em; line-height: 1; border-radius: 0.35em;\">\n",
              "    Mamma\n",
              "    <span style=\"font-size: 0.8em; font-weight: bold; line-height: 1; border-radius: 0.35em; vertical-align: middle; margin-left: 0.5rem\">PERSON</span>\n",
              "</mark>\n",
              " cleaned the pantry and got the plants in We went uptown in the afternoon. I had to go to \n",
              "<mark class=\"entity\" style=\"background: #aa9cfc; padding: 0.45em 0.6em; margin: 0 0.25em; line-height: 1; border-radius: 0.35em;\">\n",
              "    Miss Boyles\n",
              "    <span style=\"font-size: 0.8em; font-weight: bold; line-height: 1; border-radius: 0.35em; vertical-align: middle; margin-left: 0.5rem\">PERSON</span>\n",
              "</mark>\n",
              " to have my waist fit. Miss \n",
              "<mark class=\"entity\" style=\"background: #aa9cfc; padding: 0.45em 0.6em; margin: 0 0.25em; line-height: 1; border-radius: 0.35em;\">\n",
              "    Nelson\n",
              "    <span style=\"font-size: 0.8em; font-weight: bold; line-height: 1; border-radius: 0.35em; vertical-align: middle; margin-left: 0.5rem\">PERSON</span>\n",
              "</mark>\n",
              " has a lot of pretty paintings. We were at \n",
              "<mark class=\"entity\" style=\"background: #aa9cfc; padding: 0.45em 0.6em; margin: 0 0.25em; line-height: 1; border-radius: 0.35em;\">\n",
              "    Madame Sullivans\n",
              "    <span style=\"font-size: 0.8em; font-weight: bold; line-height: 1; border-radius: 0.35em; vertical-align: middle; margin-left: 0.5rem\">PERSON</span>\n",
              "</mark>\n",
              " about mammas skirt and she had forgotten about it. \n",
              "<mark class=\"entity\" style=\"background: #aa9cfc; padding: 0.45em 0.6em; margin: 0 0.25em; line-height: 1; border-radius: 0.35em;\">\n",
              "    Miss Buckeley\n",
              "    <span style=\"font-size: 0.8em; font-weight: bold; line-height: 1; border-radius: 0.35em; vertical-align: middle; margin-left: 0.5rem\">PERSON</span>\n",
              "</mark>\n",
              " is dead. Died \n",
              "<mark class=\"entity\" style=\"background: #bfe1d9; padding: 0.45em 0.6em; margin: 0 0.25em; line-height: 1; border-radius: 0.35em;\">\n",
              "    yesterday\n",
              "    <span style=\"font-size: 0.8em; font-weight: bold; line-height: 1; border-radius: 0.35em; vertical-align: middle; margin-left: 0.5rem\">DATE</span>\n",
              "</mark>\n",
              " \n",
              "<mark class=\"entity\" style=\"background: #bfe1d9; padding: 0.45em 0.6em; margin: 0 0.25em; line-height: 1; border-radius: 0.35em;\">\n",
              "    afternoon\n",
              "    <span style=\"font-size: 0.8em; font-weight: bold; line-height: 1; border-radius: 0.35em; vertical-align: middle; margin-left: 0.5rem\">TIME</span>\n",
              "</mark>\n",
              ". \n",
              "<mark class=\"entity\" style=\"background: #aa9cfc; padding: 0.45em 0.6em; margin: 0 0.25em; line-height: 1; border-radius: 0.35em;\">\n",
              "    Fern Healey\n",
              "    <span style=\"font-size: 0.8em; font-weight: bold; line-height: 1; border-radius: 0.35em; vertical-align: middle; margin-left: 0.5rem\">PERSON</span>\n",
              "</mark>\n",
              " came down at \n",
              "<mark class=\"entity\" style=\"background: #bfe1d9; padding: 0.45em 0.6em; margin: 0 0.25em; line-height: 1; border-radius: 0.35em;\">\n",
              "    night\n",
              "    <span style=\"font-size: 0.8em; font-weight: bold; line-height: 1; border-radius: 0.35em; vertical-align: middle; margin-left: 0.5rem\">TIME</span>\n",
              "</mark>\n",
              " to tell me Mr Penny had elected me on \n",
              "<mark class=\"entity\" style=\"background: #7aecec; padding: 0.45em 0.6em; margin: 0 0.25em; line-height: 1; border-radius: 0.35em;\">\n",
              "    the Music Committee of\n",
              "    <span style=\"font-size: 0.8em; font-weight: bold; line-height: 1; border-radius: 0.35em; vertical-align: middle; margin-left: 0.5rem\">ORG</span>\n",
              "</mark>\n",
              " the Y. P. A. and I have to go \n",
              "<mark class=\"entity\" style=\"background: #bfe1d9; padding: 0.45em 0.6em; margin: 0 0.25em; line-height: 1; border-radius: 0.35em;\">\n",
              "    Wednesday\n",
              "    <span style=\"font-size: 0.8em; font-weight: bold; line-height: 1; border-radius: 0.35em; vertical-align: middle; margin-left: 0.5rem\">DATE</span>\n",
              "</mark>\n",
              ".</div></span>"
            ],
            "text/plain": [
              "<IPython.core.display.HTML object>"
            ]
          },
          "metadata": {},
          "output_type": "display_data"
        }
      ],
      "source": [
        "# investigating some match results here\n",
        "doc = nlp(winnie_corpus.entry[313])\n",
        "displacy.render(doc, style=\"ent\", jupyter=\"True\")"
      ]
    },
    {
      "cell_type": "code",
      "execution_count": null,
      "metadata": {
        "colab": {
          "base_uri": "https://localhost:8080/",
          "height": 441
        },
        "id": "867_jW9fs65x",
        "outputId": "bfd3b90a-3d65-4852-ec8c-06e01db21427"
      },
      "outputs": [
        {
          "data": {
            "text/html": [
              "<span class=\"tex2jax_ignore\"><svg xmlns=\"http://www.w3.org/2000/svg\" xmlns:xlink=\"http://www.w3.org/1999/xlink\" xml:lang=\"en\" id=\"d86e2af5581546b99924a7eeeeb3ee57-0\" class=\"displacy\" width=\"1275\" height=\"399.5\" direction=\"ltr\" style=\"max-width: none; height: 399.5px; color: #000000; background: #ffffff; font-family: Arial; direction: ltr\">\n",
              "<text class=\"displacy-token\" fill=\"currentColor\" text-anchor=\"middle\" y=\"309.5\">\n",
              "    <tspan class=\"displacy-word\" fill=\"currentColor\" x=\"50\">Mrs.</tspan>\n",
              "    <tspan class=\"displacy-tag\" dy=\"2em\" fill=\"currentColor\" x=\"50\">PROPN</tspan>\n",
              "</text>\n",
              "\n",
              "<text class=\"displacy-token\" fill=\"currentColor\" text-anchor=\"middle\" y=\"309.5\">\n",
              "    <tspan class=\"displacy-word\" fill=\"currentColor\" x=\"225\">Kennedy</tspan>\n",
              "    <tspan class=\"displacy-tag\" dy=\"2em\" fill=\"currentColor\" x=\"225\">PROPN</tspan>\n",
              "</text>\n",
              "\n",
              "<text class=\"displacy-token\" fill=\"currentColor\" text-anchor=\"middle\" y=\"309.5\">\n",
              "    <tspan class=\"displacy-word\" fill=\"currentColor\" x=\"400\">of</tspan>\n",
              "    <tspan class=\"displacy-tag\" dy=\"2em\" fill=\"currentColor\" x=\"400\">ADP</tspan>\n",
              "</text>\n",
              "\n",
              "<text class=\"displacy-token\" fill=\"currentColor\" text-anchor=\"middle\" y=\"309.5\">\n",
              "    <tspan class=\"displacy-word\" fill=\"currentColor\" x=\"575\">St.</tspan>\n",
              "    <tspan class=\"displacy-tag\" dy=\"2em\" fill=\"currentColor\" x=\"575\">PROPN</tspan>\n",
              "</text>\n",
              "\n",
              "<text class=\"displacy-token\" fill=\"currentColor\" text-anchor=\"middle\" y=\"309.5\">\n",
              "    <tspan class=\"displacy-word\" fill=\"currentColor\" x=\"750\">Louis</tspan>\n",
              "    <tspan class=\"displacy-tag\" dy=\"2em\" fill=\"currentColor\" x=\"750\">PROPN</tspan>\n",
              "</text>\n",
              "\n",
              "<text class=\"displacy-token\" fill=\"currentColor\" text-anchor=\"middle\" y=\"309.5\">\n",
              "    <tspan class=\"displacy-word\" fill=\"currentColor\" x=\"925\">died</tspan>\n",
              "    <tspan class=\"displacy-tag\" dy=\"2em\" fill=\"currentColor\" x=\"925\">VERB</tspan>\n",
              "</text>\n",
              "\n",
              "<text class=\"displacy-token\" fill=\"currentColor\" text-anchor=\"middle\" y=\"309.5\">\n",
              "    <tspan class=\"displacy-word\" fill=\"currentColor\" x=\"1100\">yesterday</tspan>\n",
              "    <tspan class=\"displacy-tag\" dy=\"2em\" fill=\"currentColor\" x=\"1100\">NOUN</tspan>\n",
              "</text>\n",
              "\n",
              "<g class=\"displacy-arrow\">\n",
              "    <path class=\"displacy-arc\" id=\"arrow-d86e2af5581546b99924a7eeeeb3ee57-0-0\" stroke-width=\"2px\" d=\"M70,264.5 C70,177.0 215.0,177.0 215.0,264.5\" fill=\"none\" stroke=\"currentColor\"/>\n",
              "    <text dy=\"1.25em\" style=\"font-size: 0.8em; letter-spacing: 1px\">\n",
              "        <textPath xlink:href=\"#arrow-d86e2af5581546b99924a7eeeeb3ee57-0-0\" class=\"displacy-label\" startOffset=\"50%\" side=\"left\" fill=\"currentColor\" text-anchor=\"middle\">compound</textPath>\n",
              "    </text>\n",
              "    <path class=\"displacy-arrowhead\" d=\"M70,266.5 L62,254.5 78,254.5\" fill=\"currentColor\"/>\n",
              "</g>\n",
              "\n",
              "<g class=\"displacy-arrow\">\n",
              "    <path class=\"displacy-arc\" id=\"arrow-d86e2af5581546b99924a7eeeeb3ee57-0-1\" stroke-width=\"2px\" d=\"M245,264.5 C245,2.0 925.0,2.0 925.0,264.5\" fill=\"none\" stroke=\"currentColor\"/>\n",
              "    <text dy=\"1.25em\" style=\"font-size: 0.8em; letter-spacing: 1px\">\n",
              "        <textPath xlink:href=\"#arrow-d86e2af5581546b99924a7eeeeb3ee57-0-1\" class=\"displacy-label\" startOffset=\"50%\" side=\"left\" fill=\"currentColor\" text-anchor=\"middle\">nsubj</textPath>\n",
              "    </text>\n",
              "    <path class=\"displacy-arrowhead\" d=\"M245,266.5 L237,254.5 253,254.5\" fill=\"currentColor\"/>\n",
              "</g>\n",
              "\n",
              "<g class=\"displacy-arrow\">\n",
              "    <path class=\"displacy-arc\" id=\"arrow-d86e2af5581546b99924a7eeeeb3ee57-0-2\" stroke-width=\"2px\" d=\"M245,264.5 C245,177.0 390.0,177.0 390.0,264.5\" fill=\"none\" stroke=\"currentColor\"/>\n",
              "    <text dy=\"1.25em\" style=\"font-size: 0.8em; letter-spacing: 1px\">\n",
              "        <textPath xlink:href=\"#arrow-d86e2af5581546b99924a7eeeeb3ee57-0-2\" class=\"displacy-label\" startOffset=\"50%\" side=\"left\" fill=\"currentColor\" text-anchor=\"middle\">prep</textPath>\n",
              "    </text>\n",
              "    <path class=\"displacy-arrowhead\" d=\"M390.0,266.5 L398.0,254.5 382.0,254.5\" fill=\"currentColor\"/>\n",
              "</g>\n",
              "\n",
              "<g class=\"displacy-arrow\">\n",
              "    <path class=\"displacy-arc\" id=\"arrow-d86e2af5581546b99924a7eeeeb3ee57-0-3\" stroke-width=\"2px\" d=\"M595,264.5 C595,177.0 740.0,177.0 740.0,264.5\" fill=\"none\" stroke=\"currentColor\"/>\n",
              "    <text dy=\"1.25em\" style=\"font-size: 0.8em; letter-spacing: 1px\">\n",
              "        <textPath xlink:href=\"#arrow-d86e2af5581546b99924a7eeeeb3ee57-0-3\" class=\"displacy-label\" startOffset=\"50%\" side=\"left\" fill=\"currentColor\" text-anchor=\"middle\">compound</textPath>\n",
              "    </text>\n",
              "    <path class=\"displacy-arrowhead\" d=\"M595,266.5 L587,254.5 603,254.5\" fill=\"currentColor\"/>\n",
              "</g>\n",
              "\n",
              "<g class=\"displacy-arrow\">\n",
              "    <path class=\"displacy-arc\" id=\"arrow-d86e2af5581546b99924a7eeeeb3ee57-0-4\" stroke-width=\"2px\" d=\"M420,264.5 C420,89.5 745.0,89.5 745.0,264.5\" fill=\"none\" stroke=\"currentColor\"/>\n",
              "    <text dy=\"1.25em\" style=\"font-size: 0.8em; letter-spacing: 1px\">\n",
              "        <textPath xlink:href=\"#arrow-d86e2af5581546b99924a7eeeeb3ee57-0-4\" class=\"displacy-label\" startOffset=\"50%\" side=\"left\" fill=\"currentColor\" text-anchor=\"middle\">pobj</textPath>\n",
              "    </text>\n",
              "    <path class=\"displacy-arrowhead\" d=\"M745.0,266.5 L753.0,254.5 737.0,254.5\" fill=\"currentColor\"/>\n",
              "</g>\n",
              "\n",
              "<g class=\"displacy-arrow\">\n",
              "    <path class=\"displacy-arc\" id=\"arrow-d86e2af5581546b99924a7eeeeb3ee57-0-5\" stroke-width=\"2px\" d=\"M945,264.5 C945,177.0 1090.0,177.0 1090.0,264.5\" fill=\"none\" stroke=\"currentColor\"/>\n",
              "    <text dy=\"1.25em\" style=\"font-size: 0.8em; letter-spacing: 1px\">\n",
              "        <textPath xlink:href=\"#arrow-d86e2af5581546b99924a7eeeeb3ee57-0-5\" class=\"displacy-label\" startOffset=\"50%\" side=\"left\" fill=\"currentColor\" text-anchor=\"middle\">npadvmod</textPath>\n",
              "    </text>\n",
              "    <path class=\"displacy-arrowhead\" d=\"M1090.0,266.5 L1098.0,254.5 1082.0,254.5\" fill=\"currentColor\"/>\n",
              "</g>\n",
              "</svg></span>"
            ],
            "text/plain": [
              "<IPython.core.display.HTML object>"
            ]
          },
          "metadata": {},
          "output_type": "display_data"
        }
      ],
      "source": [
        "# further investigation, in the hopes of better (dependency based) matching patterns \n",
        "doc = nlp(\"Mrs. Kennedy of St. Louis died yesterday\")\n",
        "displacy.render(doc, style=\"dep\", jupyter=True)"
      ]
    },
    {
      "cell_type": "code",
      "execution_count": null,
      "metadata": {
        "colab": {
          "base_uri": "https://localhost:8080/"
        },
        "id": "jH3cqpaBy0RJ",
        "outputId": "844e09e8-0593-4449-a336-10e96f70e7a7"
      },
      "outputs": [
        {
          "name": "stdout",
          "output_type": "stream",
          "text": [
            "[(3722395896039918763, [5, 1, 0])]\n",
            "anchor_died: died\n",
            "died_subject: Kennedy\n",
            "died_sub_modifier: Mrs.\n",
            "Mrs. Kennedy of St. Louis died\n"
          ]
        }
      ],
      "source": [
        "# try to make similar matches using information from the dependency grammar\n",
        "from spacy.matcher import DependencyMatcher\n",
        "depMatcher = DependencyMatcher(nlp.vocab)\n",
        "# this pattern was determined by examining the dependency grammar displayed in the example above\n",
        "pattern = [ \n",
        "           {\n",
        "               \"RIGHT_ID\": \"anchor_died\", # unique name for the node\n",
        "               \"RIGHT_ATTRS\": {\"LOWER\": \"died\"} # token match pattern for \"died\"\n",
        "           }, \n",
        "           {\n",
        "               \"LEFT_ID\": \"anchor_died\", # the id for the node on the left (in this case, the anchor)\n",
        "               \"REL_OP\": \">\", # the anchor is the direct head of this node in the dep grammar\n",
        "               \"RIGHT_ID\": \"died_subject\", # name for this node\n",
        "               \"RIGHT_ATTRS\":{\"DEP\": \"nsubj\"}  # attributes for this token\n",
        "           },\n",
        "           {\n",
        "                \"LEFT_ID\": \"died_subject\",\n",
        "                \"REL_OP\": \">\",\n",
        "                \"RIGHT_ID\": \"died_sub_modifier\",\n",
        "                \"RIGHT_ATTRS\": {\"DEP\": \"compound\"}\n",
        "           }\n",
        "]\n",
        "depMatcher.add(\"DIED\", [pattern])\n",
        "# small test example \n",
        "doc = nlp(\"Mrs. Kennedy of St. Louis died yesterday\")\n",
        "matches = depMatcher(doc)\n",
        "print(matches)\n",
        "\n",
        "# an example of printing out match data\n",
        "# each token_id corresponds to one pattern dict\n",
        "match_id, token_ids = matches[0]\n",
        "for i in range(len(token_ids)):\n",
        "    print(pattern[i][\"RIGHT_ID\"] + \":\", doc[token_ids[i]].text)\n",
        "\n",
        "# get matches on the full text between the subject and the word died\n",
        "start = min(token_ids)\n",
        "end = max(token_ids)+1\n",
        "print(doc[start:end])"
      ]
    },
    {
      "cell_type": "code",
      "execution_count": null,
      "metadata": {
        "colab": {
          "base_uri": "https://localhost:8080/"
        },
        "id": "1CTBJdZz4DbK",
        "outputId": "7d42f0b1-bb84-454d-8eb2-9d435b5dc5c0"
      },
      "outputs": [
        {
          "name": "stdout",
          "output_type": "stream",
          "text": [
            "Match found in doc 0: Charlie Merritt died\n",
            "anchor_died: died\n",
            "died_subject: Merritt\n",
            "died_sub_modifier: Charlie\n",
            "\n",
            "Match found in doc 7: niece Alice Boyle died\n",
            "anchor_died: died\n",
            "died_subject: Boyle\n",
            "died_sub_modifier: niece\n",
            "\n",
            "Match found in doc 7: Alice Boyle died\n",
            "anchor_died: died\n",
            "died_subject: Boyle\n",
            "died_sub_modifier: Alice\n",
            "\n",
            "Match found in doc 14: Miss Fowler on Queen St. died\n",
            "anchor_died: died\n",
            "died_subject: Fowler\n",
            "died_sub_modifier: Miss\n",
            "\n",
            "Match found in doc 64: Old Mrs Dwyer died\n",
            "anchor_died: died\n",
            "died_subject: Dwyer\n",
            "died_sub_modifier: Old\n",
            "\n",
            "Match found in doc 64: Mrs Dwyer died\n",
            "anchor_died: died\n",
            "died_subject: Dwyer\n",
            "died_sub_modifier: Mrs\n",
            "\n",
            "Match found in doc 71: Mrs Jeeves died\n",
            "anchor_died: died\n",
            "died_subject: Jeeves\n",
            "died_sub_modifier: Mrs\n",
            "\n",
            "Match found in doc 87: Joubert commander of Boer forces died\n",
            "anchor_died: died\n",
            "died_subject: commander\n",
            "died_sub_modifier: Joubert\n",
            "\n",
            "Match found in doc 121: Mrs Adam Borrowman died\n",
            "anchor_died: died\n",
            "died_subject: Borrowman\n",
            "died_sub_modifier: Mrs\n",
            "\n",
            "Match found in doc 121: Adam Borrowman died\n",
            "anchor_died: died\n",
            "died_subject: Borrowman\n",
            "died_sub_modifier: Adam\n",
            "\n",
            "Match found in doc 265: Mrs Milner died\n",
            "anchor_died: died\n",
            "died_subject: Milner\n",
            "died_sub_modifier: Mrs\n",
            "\n",
            "Match found in doc 299: Mrs Keating died\n",
            "anchor_died: died\n",
            "died_subject: Keating\n",
            "died_sub_modifier: Mrs\n",
            "\n",
            "Match found in doc 320: Mr J. P. Merritt died\n",
            "anchor_died: died\n",
            "died_subject: Merritt\n",
            "died_sub_modifier: Mr\n",
            "\n",
            "Match found in doc 320: J. P. Merritt died\n",
            "anchor_died: died\n",
            "died_subject: Merritt\n",
            "died_sub_modifier: J.\n",
            "\n",
            "Match found in doc 320: P. Merritt died\n",
            "anchor_died: died\n",
            "died_subject: Merritt\n",
            "died_sub_modifier: P.\n",
            "\n",
            "Match found in doc 327: Sir Arthur Sullivan died\n",
            "anchor_died: died\n",
            "died_subject: Sullivan\n",
            "died_sub_modifier: Sir\n",
            "\n",
            "Match found in doc 327: Arthur Sullivan died\n",
            "anchor_died: died\n",
            "died_subject: Sullivan\n",
            "died_sub_modifier: Arthur\n",
            "\n",
            "Match found in doc 330: Miss Bird died\n",
            "anchor_died: died\n",
            "died_subject: Bird\n",
            "died_sub_modifier: Miss\n",
            "\n",
            "Match found in doc 349: Mrs Kennedy of St. Louis died\n",
            "anchor_died: died\n",
            "died_subject: Kennedy\n",
            "died_sub_modifier: Mrs\n",
            "\n"
          ]
        }
      ],
      "source": [
        "# apply the above pattern at scale and see how it compares to our previous attempt\n",
        "docs = nlp.pipe(winnie_corpus.entry)\n",
        "doc_num = 0\n",
        "for doc in docs:\n",
        "    matches = (depMatcher(doc))\n",
        "    # Iterate over the matches and print the span text\n",
        "    for match_id, token_ids in matches:\n",
        "        start = min(token_ids)\n",
        "        end = max(token_ids)+1\n",
        "        print(\"Match found in doc \" +  str(doc_num) + \":\", doc[start:end].text)\n",
        "        # adding the precise matching info, to get a sense of how this is working \n",
        "        for i in range(len(token_ids)):\n",
        "            print(pattern[i][\"RIGHT_ID\"] + \":\", doc[token_ids[i]].text)\n",
        "        print()\n",
        "    doc_num += 1"
      ]
    },
    {
      "cell_type": "code",
      "execution_count": null,
      "metadata": {
        "colab": {
          "base_uri": "https://localhost:8080/",
          "height": 353
        },
        "id": "oXdQ6x3E6EKX",
        "outputId": "61b2969e-acc3-4cc1-d417-a90b98d87997"
      },
      "outputs": [
        {
          "data": {
            "text/html": [
              "<span class=\"tex2jax_ignore\"><svg xmlns=\"http://www.w3.org/2000/svg\" xmlns:xlink=\"http://www.w3.org/1999/xlink\" xml:lang=\"en\" id=\"1554cd9b05c748708ac05545471f9d77-0\" class=\"displacy\" width=\"1450\" height=\"312.0\" direction=\"ltr\" style=\"max-width: none; height: 312.0px; color: #000000; background: #ffffff; font-family: Arial; direction: ltr\">\n",
              "<text class=\"displacy-token\" fill=\"currentColor\" text-anchor=\"middle\" y=\"222.0\">\n",
              "    <tspan class=\"displacy-word\" fill=\"currentColor\" x=\"50\">Mrs</tspan>\n",
              "    <tspan class=\"displacy-tag\" dy=\"2em\" fill=\"currentColor\" x=\"50\">PROPN</tspan>\n",
              "</text>\n",
              "\n",
              "<text class=\"displacy-token\" fill=\"currentColor\" text-anchor=\"middle\" y=\"222.0\">\n",
              "    <tspan class=\"displacy-word\" fill=\"currentColor\" x=\"225\">Pays</tspan>\n",
              "    <tspan class=\"displacy-tag\" dy=\"2em\" fill=\"currentColor\" x=\"225\">VERB</tspan>\n",
              "</text>\n",
              "\n",
              "<text class=\"displacy-token\" fill=\"currentColor\" text-anchor=\"middle\" y=\"222.0\">\n",
              "    <tspan class=\"displacy-word\" fill=\"currentColor\" x=\"400\">niece</tspan>\n",
              "    <tspan class=\"displacy-tag\" dy=\"2em\" fill=\"currentColor\" x=\"400\">NOUN</tspan>\n",
              "</text>\n",
              "\n",
              "<text class=\"displacy-token\" fill=\"currentColor\" text-anchor=\"middle\" y=\"222.0\">\n",
              "    <tspan class=\"displacy-word\" fill=\"currentColor\" x=\"575\">Alice</tspan>\n",
              "    <tspan class=\"displacy-tag\" dy=\"2em\" fill=\"currentColor\" x=\"575\">PROPN</tspan>\n",
              "</text>\n",
              "\n",
              "<text class=\"displacy-token\" fill=\"currentColor\" text-anchor=\"middle\" y=\"222.0\">\n",
              "    <tspan class=\"displacy-word\" fill=\"currentColor\" x=\"750\">Boyle</tspan>\n",
              "    <tspan class=\"displacy-tag\" dy=\"2em\" fill=\"currentColor\" x=\"750\">PROPN</tspan>\n",
              "</text>\n",
              "\n",
              "<text class=\"displacy-token\" fill=\"currentColor\" text-anchor=\"middle\" y=\"222.0\">\n",
              "    <tspan class=\"displacy-word\" fill=\"currentColor\" x=\"925\">died</tspan>\n",
              "    <tspan class=\"displacy-tag\" dy=\"2em\" fill=\"currentColor\" x=\"925\">VERB</tspan>\n",
              "</text>\n",
              "\n",
              "<text class=\"displacy-token\" fill=\"currentColor\" text-anchor=\"middle\" y=\"222.0\">\n",
              "    <tspan class=\"displacy-word\" fill=\"currentColor\" x=\"1100\">on</tspan>\n",
              "    <tspan class=\"displacy-tag\" dy=\"2em\" fill=\"currentColor\" x=\"1100\">ADP</tspan>\n",
              "</text>\n",
              "\n",
              "<text class=\"displacy-token\" fill=\"currentColor\" text-anchor=\"middle\" y=\"222.0\">\n",
              "    <tspan class=\"displacy-word\" fill=\"currentColor\" x=\"1275\">Sunday.</tspan>\n",
              "    <tspan class=\"displacy-tag\" dy=\"2em\" fill=\"currentColor\" x=\"1275\">PROPN</tspan>\n",
              "</text>\n",
              "\n",
              "<g class=\"displacy-arrow\">\n",
              "    <path class=\"displacy-arc\" id=\"arrow-1554cd9b05c748708ac05545471f9d77-0-0\" stroke-width=\"2px\" d=\"M70,177.0 C70,89.5 220.0,89.5 220.0,177.0\" fill=\"none\" stroke=\"currentColor\"/>\n",
              "    <text dy=\"1.25em\" style=\"font-size: 0.8em; letter-spacing: 1px\">\n",
              "        <textPath xlink:href=\"#arrow-1554cd9b05c748708ac05545471f9d77-0-0\" class=\"displacy-label\" startOffset=\"50%\" side=\"left\" fill=\"currentColor\" text-anchor=\"middle\">compound</textPath>\n",
              "    </text>\n",
              "    <path class=\"displacy-arrowhead\" d=\"M70,179.0 L62,167.0 78,167.0\" fill=\"currentColor\"/>\n",
              "</g>\n",
              "\n",
              "<g class=\"displacy-arrow\">\n",
              "    <path class=\"displacy-arc\" id=\"arrow-1554cd9b05c748708ac05545471f9d77-0-1\" stroke-width=\"2px\" d=\"M245,177.0 C245,2.0 750.0,2.0 750.0,177.0\" fill=\"none\" stroke=\"currentColor\"/>\n",
              "    <text dy=\"1.25em\" style=\"font-size: 0.8em; letter-spacing: 1px\">\n",
              "        <textPath xlink:href=\"#arrow-1554cd9b05c748708ac05545471f9d77-0-1\" class=\"displacy-label\" startOffset=\"50%\" side=\"left\" fill=\"currentColor\" text-anchor=\"middle\">compound</textPath>\n",
              "    </text>\n",
              "    <path class=\"displacy-arrowhead\" d=\"M245,179.0 L237,167.0 253,167.0\" fill=\"currentColor\"/>\n",
              "</g>\n",
              "\n",
              "<g class=\"displacy-arrow\">\n",
              "    <path class=\"displacy-arc\" id=\"arrow-1554cd9b05c748708ac05545471f9d77-0-2\" stroke-width=\"2px\" d=\"M245,177.0 C245,89.5 395.0,89.5 395.0,177.0\" fill=\"none\" stroke=\"currentColor\"/>\n",
              "    <text dy=\"1.25em\" style=\"font-size: 0.8em; letter-spacing: 1px\">\n",
              "        <textPath xlink:href=\"#arrow-1554cd9b05c748708ac05545471f9d77-0-2\" class=\"displacy-label\" startOffset=\"50%\" side=\"left\" fill=\"currentColor\" text-anchor=\"middle\">dobj</textPath>\n",
              "    </text>\n",
              "    <path class=\"displacy-arrowhead\" d=\"M395.0,179.0 L403.0,167.0 387.0,167.0\" fill=\"currentColor\"/>\n",
              "</g>\n",
              "\n",
              "<g class=\"displacy-arrow\">\n",
              "    <path class=\"displacy-arc\" id=\"arrow-1554cd9b05c748708ac05545471f9d77-0-3\" stroke-width=\"2px\" d=\"M595,177.0 C595,89.5 745.0,89.5 745.0,177.0\" fill=\"none\" stroke=\"currentColor\"/>\n",
              "    <text dy=\"1.25em\" style=\"font-size: 0.8em; letter-spacing: 1px\">\n",
              "        <textPath xlink:href=\"#arrow-1554cd9b05c748708ac05545471f9d77-0-3\" class=\"displacy-label\" startOffset=\"50%\" side=\"left\" fill=\"currentColor\" text-anchor=\"middle\">compound</textPath>\n",
              "    </text>\n",
              "    <path class=\"displacy-arrowhead\" d=\"M595,179.0 L587,167.0 603,167.0\" fill=\"currentColor\"/>\n",
              "</g>\n",
              "\n",
              "<g class=\"displacy-arrow\">\n",
              "    <path class=\"displacy-arc\" id=\"arrow-1554cd9b05c748708ac05545471f9d77-0-4\" stroke-width=\"2px\" d=\"M770,177.0 C770,89.5 920.0,89.5 920.0,177.0\" fill=\"none\" stroke=\"currentColor\"/>\n",
              "    <text dy=\"1.25em\" style=\"font-size: 0.8em; letter-spacing: 1px\">\n",
              "        <textPath xlink:href=\"#arrow-1554cd9b05c748708ac05545471f9d77-0-4\" class=\"displacy-label\" startOffset=\"50%\" side=\"left\" fill=\"currentColor\" text-anchor=\"middle\">nsubj</textPath>\n",
              "    </text>\n",
              "    <path class=\"displacy-arrowhead\" d=\"M770,179.0 L762,167.0 778,167.0\" fill=\"currentColor\"/>\n",
              "</g>\n",
              "\n",
              "<g class=\"displacy-arrow\">\n",
              "    <path class=\"displacy-arc\" id=\"arrow-1554cd9b05c748708ac05545471f9d77-0-5\" stroke-width=\"2px\" d=\"M945,177.0 C945,89.5 1095.0,89.5 1095.0,177.0\" fill=\"none\" stroke=\"currentColor\"/>\n",
              "    <text dy=\"1.25em\" style=\"font-size: 0.8em; letter-spacing: 1px\">\n",
              "        <textPath xlink:href=\"#arrow-1554cd9b05c748708ac05545471f9d77-0-5\" class=\"displacy-label\" startOffset=\"50%\" side=\"left\" fill=\"currentColor\" text-anchor=\"middle\">prep</textPath>\n",
              "    </text>\n",
              "    <path class=\"displacy-arrowhead\" d=\"M1095.0,179.0 L1103.0,167.0 1087.0,167.0\" fill=\"currentColor\"/>\n",
              "</g>\n",
              "\n",
              "<g class=\"displacy-arrow\">\n",
              "    <path class=\"displacy-arc\" id=\"arrow-1554cd9b05c748708ac05545471f9d77-0-6\" stroke-width=\"2px\" d=\"M1120,177.0 C1120,89.5 1270.0,89.5 1270.0,177.0\" fill=\"none\" stroke=\"currentColor\"/>\n",
              "    <text dy=\"1.25em\" style=\"font-size: 0.8em; letter-spacing: 1px\">\n",
              "        <textPath xlink:href=\"#arrow-1554cd9b05c748708ac05545471f9d77-0-6\" class=\"displacy-label\" startOffset=\"50%\" side=\"left\" fill=\"currentColor\" text-anchor=\"middle\">pobj</textPath>\n",
              "    </text>\n",
              "    <path class=\"displacy-arrowhead\" d=\"M1270.0,179.0 L1278.0,167.0 1262.0,167.0\" fill=\"currentColor\"/>\n",
              "</g>\n",
              "</svg></span>"
            ],
            "text/plain": [
              "<IPython.core.display.HTML object>"
            ]
          },
          "metadata": {},
          "output_type": "display_data"
        }
      ],
      "source": [
        "# investigating the structure of a particular match\n",
        "doc = nlp(\"Mrs Pays niece Alice Boyle died on Sunday.\")\n",
        "displacy.render(doc, style=\"dep\", jupyter=True)"
      ]
    },
    {
      "cell_type": "code",
      "execution_count": null,
      "metadata": {
        "colab": {
          "base_uri": "https://localhost:8080/",
          "height": 333
        },
        "id": "2ubq7eoJ9PQR",
        "outputId": "b92d81e0-04d2-4e03-a65b-2b3a521f39c3"
      },
      "outputs": [
        {
          "data": {
            "text/html": [
              "<span class=\"tex2jax_ignore\"><svg xmlns=\"http://www.w3.org/2000/svg\" xmlns:xlink=\"http://www.w3.org/1999/xlink\" xml:lang=\"en\" id=\"503d570da4aa47878db6c25fb343e120-0\" class=\"displacy\" width=\"1100\" height=\"312.0\" direction=\"ltr\" style=\"max-width: none; height: 312.0px; color: #000000; background: #ffffff; font-family: Arial; direction: ltr\">\n",
              "<text class=\"displacy-token\" fill=\"currentColor\" text-anchor=\"middle\" y=\"222.0\">\n",
              "    <tspan class=\"displacy-word\" fill=\"currentColor\" x=\"50\">Henry</tspan>\n",
              "    <tspan class=\"displacy-tag\" dy=\"2em\" fill=\"currentColor\" x=\"50\">PROPN</tspan>\n",
              "</text>\n",
              "\n",
              "<text class=\"displacy-token\" fill=\"currentColor\" text-anchor=\"middle\" y=\"222.0\">\n",
              "    <tspan class=\"displacy-word\" fill=\"currentColor\" x=\"225\">King</tspan>\n",
              "    <tspan class=\"displacy-tag\" dy=\"2em\" fill=\"currentColor\" x=\"225\">PROPN</tspan>\n",
              "</text>\n",
              "\n",
              "<text class=\"displacy-token\" fill=\"currentColor\" text-anchor=\"middle\" y=\"222.0\">\n",
              "    <tspan class=\"displacy-word\" fill=\"currentColor\" x=\"400\">of</tspan>\n",
              "    <tspan class=\"displacy-tag\" dy=\"2em\" fill=\"currentColor\" x=\"400\">ADP</tspan>\n",
              "</text>\n",
              "\n",
              "<text class=\"displacy-token\" fill=\"currentColor\" text-anchor=\"middle\" y=\"222.0\">\n",
              "    <tspan class=\"displacy-word\" fill=\"currentColor\" x=\"575\">Toronto</tspan>\n",
              "    <tspan class=\"displacy-tag\" dy=\"2em\" fill=\"currentColor\" x=\"575\">PROPN</tspan>\n",
              "</text>\n",
              "\n",
              "<text class=\"displacy-token\" fill=\"currentColor\" text-anchor=\"middle\" y=\"222.0\">\n",
              "    <tspan class=\"displacy-word\" fill=\"currentColor\" x=\"750\">is</tspan>\n",
              "    <tspan class=\"displacy-tag\" dy=\"2em\" fill=\"currentColor\" x=\"750\">AUX</tspan>\n",
              "</text>\n",
              "\n",
              "<text class=\"displacy-token\" fill=\"currentColor\" text-anchor=\"middle\" y=\"222.0\">\n",
              "    <tspan class=\"displacy-word\" fill=\"currentColor\" x=\"925\">dead</tspan>\n",
              "    <tspan class=\"displacy-tag\" dy=\"2em\" fill=\"currentColor\" x=\"925\">ADJ</tspan>\n",
              "</text>\n",
              "\n",
              "<g class=\"displacy-arrow\">\n",
              "    <path class=\"displacy-arc\" id=\"arrow-503d570da4aa47878db6c25fb343e120-0-0\" stroke-width=\"2px\" d=\"M70,177.0 C70,89.5 220.0,89.5 220.0,177.0\" fill=\"none\" stroke=\"currentColor\"/>\n",
              "    <text dy=\"1.25em\" style=\"font-size: 0.8em; letter-spacing: 1px\">\n",
              "        <textPath xlink:href=\"#arrow-503d570da4aa47878db6c25fb343e120-0-0\" class=\"displacy-label\" startOffset=\"50%\" side=\"left\" fill=\"currentColor\" text-anchor=\"middle\">compound</textPath>\n",
              "    </text>\n",
              "    <path class=\"displacy-arrowhead\" d=\"M70,179.0 L62,167.0 78,167.0\" fill=\"currentColor\"/>\n",
              "</g>\n",
              "\n",
              "<g class=\"displacy-arrow\">\n",
              "    <path class=\"displacy-arc\" id=\"arrow-503d570da4aa47878db6c25fb343e120-0-1\" stroke-width=\"2px\" d=\"M245,177.0 C245,2.0 750.0,2.0 750.0,177.0\" fill=\"none\" stroke=\"currentColor\"/>\n",
              "    <text dy=\"1.25em\" style=\"font-size: 0.8em; letter-spacing: 1px\">\n",
              "        <textPath xlink:href=\"#arrow-503d570da4aa47878db6c25fb343e120-0-1\" class=\"displacy-label\" startOffset=\"50%\" side=\"left\" fill=\"currentColor\" text-anchor=\"middle\">nsubj</textPath>\n",
              "    </text>\n",
              "    <path class=\"displacy-arrowhead\" d=\"M245,179.0 L237,167.0 253,167.0\" fill=\"currentColor\"/>\n",
              "</g>\n",
              "\n",
              "<g class=\"displacy-arrow\">\n",
              "    <path class=\"displacy-arc\" id=\"arrow-503d570da4aa47878db6c25fb343e120-0-2\" stroke-width=\"2px\" d=\"M245,177.0 C245,89.5 395.0,89.5 395.0,177.0\" fill=\"none\" stroke=\"currentColor\"/>\n",
              "    <text dy=\"1.25em\" style=\"font-size: 0.8em; letter-spacing: 1px\">\n",
              "        <textPath xlink:href=\"#arrow-503d570da4aa47878db6c25fb343e120-0-2\" class=\"displacy-label\" startOffset=\"50%\" side=\"left\" fill=\"currentColor\" text-anchor=\"middle\">prep</textPath>\n",
              "    </text>\n",
              "    <path class=\"displacy-arrowhead\" d=\"M395.0,179.0 L403.0,167.0 387.0,167.0\" fill=\"currentColor\"/>\n",
              "</g>\n",
              "\n",
              "<g class=\"displacy-arrow\">\n",
              "    <path class=\"displacy-arc\" id=\"arrow-503d570da4aa47878db6c25fb343e120-0-3\" stroke-width=\"2px\" d=\"M420,177.0 C420,89.5 570.0,89.5 570.0,177.0\" fill=\"none\" stroke=\"currentColor\"/>\n",
              "    <text dy=\"1.25em\" style=\"font-size: 0.8em; letter-spacing: 1px\">\n",
              "        <textPath xlink:href=\"#arrow-503d570da4aa47878db6c25fb343e120-0-3\" class=\"displacy-label\" startOffset=\"50%\" side=\"left\" fill=\"currentColor\" text-anchor=\"middle\">pobj</textPath>\n",
              "    </text>\n",
              "    <path class=\"displacy-arrowhead\" d=\"M570.0,179.0 L578.0,167.0 562.0,167.0\" fill=\"currentColor\"/>\n",
              "</g>\n",
              "\n",
              "<g class=\"displacy-arrow\">\n",
              "    <path class=\"displacy-arc\" id=\"arrow-503d570da4aa47878db6c25fb343e120-0-4\" stroke-width=\"2px\" d=\"M770,177.0 C770,89.5 920.0,89.5 920.0,177.0\" fill=\"none\" stroke=\"currentColor\"/>\n",
              "    <text dy=\"1.25em\" style=\"font-size: 0.8em; letter-spacing: 1px\">\n",
              "        <textPath xlink:href=\"#arrow-503d570da4aa47878db6c25fb343e120-0-4\" class=\"displacy-label\" startOffset=\"50%\" side=\"left\" fill=\"currentColor\" text-anchor=\"middle\">acomp</textPath>\n",
              "    </text>\n",
              "    <path class=\"displacy-arrowhead\" d=\"M920.0,179.0 L928.0,167.0 912.0,167.0\" fill=\"currentColor\"/>\n",
              "</g>\n",
              "</svg></span>"
            ],
            "text/plain": [
              "<IPython.core.display.HTML object>"
            ]
          },
          "metadata": {},
          "output_type": "display_data"
        }
      ],
      "source": [
        "# exploring the dependencies for other kinds of sentences (captured by our previous match attempt)\n",
        "doc = nlp(\"Henry King of Toronto is dead\") # from 252\n",
        "displacy.render(doc, style=\"dep\", jupyter=True)"
      ]
    },
    {
      "cell_type": "code",
      "execution_count": null,
      "metadata": {
        "id": "yhDm-kxK97MY"
      },
      "outputs": [],
      "source": [
        "# trying to match the above style and see if it matches the other \"is dead\" type matches from the previous approach\n",
        "pattern = [ \n",
        "           {\n",
        "               \"RIGHT_ID\": \"anchor_is\", # unique name for the node\n",
        "               \"RIGHT_ATTRS\": {\"LEMMA\": \"be\"} # token match pattern for \"be\" / \"is\" / \"was\"\n",
        "           }, \n",
        "           {\n",
        "               \"LEFT_ID\": \"anchor_is\", # the id for the node on the left (in this case, the anchor)\n",
        "               \"REL_OP\": \">\", # the anchor is the direct head of this node in the dep grammar\n",
        "               \"RIGHT_ID\": \"is_state\", # name for this node\n",
        "               \"RIGHT_ATTRS\":{\"DEP\": \"acomp\"}  # attributes for this token\n",
        "           },\n",
        "           {\n",
        "                \"LEFT_ID\": \"anchor_is\",\n",
        "                \"REL_OP\": \">\",\n",
        "                \"RIGHT_ID\": \"is_subject\",\n",
        "                \"RIGHT_ATTRS\": {\"DEP\": \"nsubj\"}\n",
        "           },\n",
        "           {\n",
        "               \"LEFT_ID\": \"is_subject\",\n",
        "                \"REL_OP\": \">\",\n",
        "                \"RIGHT_ID\":\"subject_mod\",\n",
        "                \"RIGHT_ATTRS\": {\"DEP\":\"compound\"}\n",
        "           }\n",
        "]\n",
        "depMatcher.add(\"IS_DEAD\", [pattern])\n",
        "# small test example \n",
        "doc = nlp(winnie_corpus.entry[156])\n",
        "matches = depMatcher(doc)\n",
        "print(len(matches))\n",
        "for match_id, token_ids in matches:\n",
        "    start = min(token_ids)\n",
        "    end = max(token_ids)+1\n",
        "    print(\"Match found:\", doc[start:end].text)\n",
        "    # adding the precise matching info, to get a sense of how this is working \n",
        "    for i in range(len(token_ids)):\n",
        "        print(pattern[i][\"RIGHT_ID\"] + \":\", doc[token_ids[i]].text)\n",
        "    print()\n"
      ]
    },
    {
      "cell_type": "markdown",
      "metadata": {
        "id": "x6y3kTtsHMdx"
      },
      "source": [
        "## More Matching\n",
        "\n",
        "- we can write match patterns to match on a number of different kinds of token attributes, the [Matcher API page](https://spacy.io/api/matcher) has a full list of the types of things it can match on but here is a short sampling\n",
        "    - exact token text\n",
        "        - \"TEXT\" \n",
        "    - lexical attributes\n",
        "        - \"LOWER\" matches the lowercase text of the token to the pattern (which must itself be lowercase text) \n",
        "    - any token attribute (including predicted attributes)\n",
        "        - \"LEMMA\" any word with that \"root\" (\"LEMMA\": \"buy\" would match \"bought\", \"buying\" etc)\n",
        "        - \"POS\" part-of-speech\n",
        "- we can also choose to match things 0, 1, or more times (note, notation is shortened here in all except example 1)\n",
        "    - {\"OP\" : \"!\"} - negation match 0 times\n",
        "    - \"?\" - optional, match 0 or 1 times\n",
        "    - \"+\" - match 1 or more times\n",
        "    - \"*\" - match 0 or more times\n",
        "- matches are returned with the following 3 pieces of info (this format is really handy when using the matcher to \"bootstrap\" labelled training examples)\n",
        "    - `match_id`: hash value of the pattern name \n",
        "    - `start` start index of the matched span\n",
        "    - `end` end index of the matched span \n",
        "- can match on words + require them to be used as a certain POS (ex \"duck\" (verb) but not \"duck\" (noun))\n",
        "\n",
        "Another interesting feature of the `Matcher` is the ability to specify a custom callback function for match rules. When adding a new rule to the `Matcher`, you can specify a function `on_match=function(matcher, doc, i, matches)` which will be evaluated after the `Matcher` has completed the process of matching on the document. The [on_match documentation](https://spacy.io/usage/rule-based-matching#on_match) demonstrates some interesting use-cases for this feature, including marking bad html tags for removal, or implementing a basic sentiment analyzer or automatically adding additional attribute information to matched spans.    \n",
        "\n",
        "Explosion have a [rule-based Matcher Explorer](https://explosion.ai/demos/matcher) available on their website that can be helpful for creating match patterns and generally exploring how the Matcher behaves! \n",
        "\n",
        "Lastly, the [rule-based matching documentation](https://spacy.io/usage/rule-based-matching) is another helpul reference for all things matching related. \n"
      ]
    },
    {
      "cell_type": "code",
      "execution_count": null,
      "metadata": {
        "colab": {
          "base_uri": "https://localhost:8080/",
          "height": 122
        },
        "id": "45RtfFIBKPCc",
        "outputId": "28099783-ab4f-42cb-8b50-5ab1286b5e6b"
      },
      "outputs": [
        {
          "data": {
            "text/html": [
              "<span class=\"tex2jax_ignore\"><div class=\"entities\" style=\"line-height: 2.5; direction: ltr\">Went to school in \n",
              "<mark class=\"entity\" style=\"background: #bfe1d9; padding: 0.45em 0.6em; margin: 0 0.25em; line-height: 1; border-radius: 0.35em;\">\n",
              "    morning\n",
              "    <span style=\"font-size: 0.8em; font-weight: bold; line-height: 1; border-radius: 0.35em; vertical-align: middle; margin-left: 0.5rem\">TIME</span>\n",
              "</mark>\n",
              ", but had my walk for nothing for they had the \n",
              "<mark class=\"entity\" style=\"background: #bfe1d9; padding: 0.45em 0.6em; margin: 0 0.25em; line-height: 1; border-radius: 0.35em;\">\n",
              "    weekly\n",
              "    <span style=\"font-size: 0.8em; font-weight: bold; line-height: 1; border-radius: 0.35em; vertical-align: middle; margin-left: 0.5rem\">DATE</span>\n",
              "</mark>\n",
              " examinations. \n",
              "<mark class=\"entity\" style=\"background: #aa9cfc; padding: 0.45em 0.6em; margin: 0 0.25em; line-height: 1; border-radius: 0.35em;\">\n",
              "    Miss Fowler\n",
              "    <span style=\"font-size: 0.8em; font-weight: bold; line-height: 1; border-radius: 0.35em; vertical-align: middle; margin-left: 0.5rem\">PERSON</span>\n",
              "</mark>\n",
              " on Queen St. died \n",
              "<mark class=\"entity\" style=\"background: #bfe1d9; padding: 0.45em 0.6em; margin: 0 0.25em; line-height: 1; border-radius: 0.35em;\">\n",
              "    yesterday\n",
              "    <span style=\"font-size: 0.8em; font-weight: bold; line-height: 1; border-radius: 0.35em; vertical-align: middle; margin-left: 0.5rem\">DATE</span>\n",
              "</mark>\n",
              " in the hospital. Papa got \n",
              "<mark class=\"entity\" style=\"background: #e4e7d2; padding: 0.45em 0.6em; margin: 0 0.25em; line-height: 1; border-radius: 0.35em;\">\n",
              "    five\n",
              "    <span style=\"font-size: 0.8em; font-weight: bold; line-height: 1; border-radius: 0.35em; vertical-align: middle; margin-left: 0.5rem\">CARDINAL</span>\n",
              "</mark>\n",
              " books at \n",
              "<mark class=\"entity\" style=\"background: #bfe1d9; padding: 0.45em 0.6em; margin: 0 0.25em; line-height: 1; border-radius: 0.35em;\">\n",
              "    night\n",
              "    <span style=\"font-size: 0.8em; font-weight: bold; line-height: 1; border-radius: 0.35em; vertical-align: middle; margin-left: 0.5rem\">TIME</span>\n",
              "</mark>\n",
              ". Premiums with \n",
              "<mark class=\"entity\" style=\"background: #bfeeb7; padding: 0.45em 0.6em; margin: 0 0.25em; line-height: 1; border-radius: 0.35em;\">\n",
              "    the &quot;Hall Hour&quot;\n",
              "    <span style=\"font-size: 0.8em; font-weight: bold; line-height: 1; border-radius: 0.35em; vertical-align: middle; margin-left: 0.5rem\">PRODUCT</span>\n",
              "</mark>\n",
              " \n",
              "<mark class=\"entity\" style=\"background: #e4e7d2; padding: 0.45em 0.6em; margin: 0 0.25em; line-height: 1; border-radius: 0.35em;\">\n",
              "    Four\n",
              "    <span style=\"font-size: 0.8em; font-weight: bold; line-height: 1; border-radius: 0.35em; vertical-align: middle; margin-left: 0.5rem\">CARDINAL</span>\n",
              "</mark>\n",
              " by \n",
              "<mark class=\"entity\" style=\"background: #aa9cfc; padding: 0.45em 0.6em; margin: 0 0.25em; line-height: 1; border-radius: 0.35em;\">\n",
              "    A. Conan Doyle\n",
              "    <span style=\"font-size: 0.8em; font-weight: bold; line-height: 1; border-radius: 0.35em; vertical-align: middle; margin-left: 0.5rem\">PERSON</span>\n",
              "</mark>\n",
              " and \n",
              "<mark class=\"entity\" style=\"background: #e4e7d2; padding: 0.45em 0.6em; margin: 0 0.25em; line-height: 1; border-radius: 0.35em;\">\n",
              "    one\n",
              "    <span style=\"font-size: 0.8em; font-weight: bold; line-height: 1; border-radius: 0.35em; vertical-align: middle; margin-left: 0.5rem\">CARDINAL</span>\n",
              "</mark>\n",
              " by \n",
              "<mark class=\"entity\" style=\"background: #aa9cfc; padding: 0.45em 0.6em; margin: 0 0.25em; line-height: 1; border-radius: 0.35em;\">\n",
              "    Robert Louis Stevenson\n",
              "    <span style=\"font-size: 0.8em; font-weight: bold; line-height: 1; border-radius: 0.35em; vertical-align: middle; margin-left: 0.5rem\">PERSON</span>\n",
              "</mark>\n",
              ". It rained very hard at \n",
              "<mark class=\"entity\" style=\"background: #bfe1d9; padding: 0.45em 0.6em; margin: 0 0.25em; line-height: 1; border-radius: 0.35em;\">\n",
              "    night\n",
              "    <span style=\"font-size: 0.8em; font-weight: bold; line-height: 1; border-radius: 0.35em; vertical-align: middle; margin-left: 0.5rem\">TIME</span>\n",
              "</mark>\n",
              ".</div></span>"
            ],
            "text/plain": [
              "<IPython.core.display.HTML object>"
            ]
          },
          "metadata": {},
          "output_type": "display_data"
        }
      ],
      "source": [
        "doc = nlp(winnie_corpus.entry[14])\n",
        "displacy.render(doc, style=\"ent\", jupyter=\"True\")"
      ]
    },
    {
      "cell_type": "markdown",
      "metadata": {
        "id": "u26DpAqhwE8X"
      },
      "source": [
        "<a name=\"word-vec-sem-sim\"></a>\n",
        "## Word Vectors + Semantic Similarity\n",
        "\n",
        "In order to examine similarity, our model needs to contain word vectors. We need to load in at least the medium size model (`en_core_web_md`) to get those. \n",
        "\n",
        "Let's compare the \"similarity\" of two of Winnie's diary entries"
      ]
    },
    {
      "cell_type": "code",
      "execution_count": null,
      "metadata": {
        "colab": {
          "base_uri": "https://localhost:8080/"
        },
        "id": "zRl-XL3t1hs6",
        "outputId": "635e2440-9167-4847-e98a-182b4d15525a"
      },
      "outputs": [
        {
          "name": "stdout",
          "output_type": "stream",
          "text": [
            "New Year. First day of 1900 Charlie Merritt died at Grand Forks British Columbia yesterday of typhoid fever. To-day is election day and pap went up about 3 o'clock and did not get back until nearly 10. He brought us some candy chocolate drops. We had a very fat goose for dinner, not a very young one. Had to have good teeth.\n",
            "Went uptown in afternoon. Was up to Eckardt's but Miss Macfarlane was not there so I did not get what I wanted. Called at office and Nettie came home with me for tea. Mr Carman came over and borrowed my Mildred books. Then Leta came & borrowed my German Grammar as she forgot hers & left it at school before holiday. Papa, mamma, Nettie & I played crokinole. Mamma & I beat. The 2nd Contingent left for Toronto today to go to South Africa. Dr King's som went.\n",
            "Similarity:  0.9488148548475432\n"
          ]
        }
      ],
      "source": [
        "doc1 = nlp(winnie_corpus.entry[0])\n",
        "doc2 = nlp(winnie_corpus.entry[1])\n",
        "print(doc1.text)\n",
        "print(doc2.text)\n",
        "similarity = doc1.similarity(doc2)\n",
        "print(\"Similarity: \", similarity)"
      ]
    },
    {
      "cell_type": "code",
      "execution_count": null,
      "metadata": {
        "colab": {
          "base_uri": "https://localhost:8080/"
        },
        "id": "4iQxZDjnT33G",
        "outputId": "87d637fa-8a59-4fe5-ded0-420bf294394a"
      },
      "outputs": [
        {
          "name": "stdout",
          "output_type": "stream",
          "text": [
            "New Year . day 1900 Charlie Merritt died Grand Forks British Columbia yesterday typhoid fever . - day election day pap went 3 o'clock nearly 10 . brought candy chocolate drops . fat goose dinner , young . good teeth .\n",
            "Went uptown afternoon . Eckardt Miss Macfarlane wanted . Called office Nettie came home tea . Mr Carman came borrowed Mildred books . Leta came & borrowed German Grammar forgot & left school holiday . Papa , mamma , Nettie & played crokinole . Mamma & beat . 2nd Contingent left Toronto today South Africa . Dr King som went .\n",
            "Similarity:  0.8874908273739859\n"
          ]
        }
      ],
      "source": [
        "# try comparing the same two entries with stop words removed\n",
        "doc1 = nlp(winnie_corpus.entry[0])\n",
        "doc2 = nlp(winnie_corpus.entry[1])\n",
        "doc1 = nlp(' '.join([str(t) for t in doc1 if not t.is_stop]))\n",
        "doc2 = nlp(' '.join([str(t) for t in doc2 if not t.is_stop]))\n",
        "print(doc1.text)\n",
        "print(doc2.text)\n",
        "similarity = doc1.similarity(doc2)\n",
        "print(\"Similarity: \", similarity)"
      ]
    },
    {
      "cell_type": "markdown",
      "metadata": {
        "id": "MmFoNC6Y377h"
      },
      "source": [
        "We can also compare the similarity of individual tokens or groups of consecutive tokens (spans)."
      ]
    },
    {
      "cell_type": "code",
      "execution_count": null,
      "metadata": {
        "colab": {
          "base_uri": "https://localhost:8080/"
        },
        "id": "QQsEPV01K354",
        "outputId": "c8507731-1eb4-469d-84a3-ecc2b51129f4"
      },
      "outputs": [
        {
          "name": "stdout",
          "output_type": "stream",
          "text": [
            "First token similarity: 0.29820922\n",
            "Opening sentence similarity: 0.6196896\n"
          ]
        }
      ],
      "source": [
        "# compare the similarity of the first token of doc1 and doc2\n",
        "print(\"First token similarity:\", doc1[0:1].similarity(doc2[0:1])) # tokens\n",
        "# compare the similarity of the first sentences of doc1 and doc2\n",
        "doc1_sentence = next(doc1.sents)\n",
        "doc2_sentence = next(doc2.sents)\n",
        "print(\"Opening sentence similarity:\", doc1_sentence.similarity(doc2_sentence)) #spans"
      ]
    },
    {
      "cell_type": "markdown",
      "metadata": {
        "id": "L6WJkGo4QWgf"
      },
      "source": [
        "spaCy calculates similarity scores by comparing word vectors, which come pre-trained in the medium and large models. For a doc or span, this comparison is performed on the average of the token vectors. Some important things to note here:\n",
        "- the meaning of multi-token phrases like \"fast food\" might not be captured since this is just averaging the word vectors of \"fast\" and \"food\" \n",
        "- this approach is insensitive to word order\n",
        "- documents that have the same meaning but different wordings will likely return a lower similarity score than documents with similar wording and different meanings\n",
        "- removing stop words or only focusing on nouns/proper nouns can sometimes be helpful for calculating similarity as it removes words which don't have a great deal of meaning/information within the overall text from being averaged into the similarity score\n",
        "\n",
        "[More documentation on similarity](https://spacy.io/usage/linguistic-features#vectors-similarity). "
      ]
    },
    {
      "cell_type": "markdown",
      "metadata": {
        "id": "zIXtWSiq5PTw"
      },
      "source": [
        "<a name=\"pipelines-components\"></a>\n",
        "## Pipelines + Custom Components \n",
        "We can customize the nlp pipeline that spacy uses to analyze the text, including by adding or removing components from it, or creating our own components.\n",
        "\n",
        "In spaCy 3.X in order to create components you need to mark them with `@Language.component` or `@Language.factory` decorators (for function components and class components, respectively). In order to do this, we must first import `Language`. \n",
        "\n",
        "Below is a very simple example to automatically print the length of a processed document.\n",
        "\n",
        "(For more detailed documentation, examples and ideas see the [processing pipeline documentation](https://spacy.io/usage/processing-pipelines))\n"
      ]
    },
    {
      "cell_type": "code",
      "execution_count": null,
      "metadata": {
        "id": "Xyft0EA5NZ3l"
      },
      "outputs": [],
      "source": [
        "from spacy.language import Language"
      ]
    },
    {
      "cell_type": "code",
      "execution_count": null,
      "metadata": {
        "colab": {
          "base_uri": "https://localhost:8080/"
        },
        "id": "39Z-opVp8RDj",
        "outputId": "ecd273bb-e7d3-40bc-b4a6-f07daeed3366"
      },
      "outputs": [
        {
          "name": "stdout",
          "output_type": "stream",
          "text": [
            "['tok2vec', 'tagger', 'parser', 'attribute_ruler', 'lemmatizer', 'ner', 'length_component']\n",
            "This doc has 71 tokens.\n"
          ]
        }
      ],
      "source": [
        "if \"length_component\" in nlp.pipe_names: \n",
        "    nlp.remove_pipe(\"length_component\")\n",
        "\n",
        "@Language.component(name=\"length_component\")\n",
        "def length_component(doc): \n",
        "    doc_len = len(doc)\n",
        "    print(\"This doc has\", doc_len, \"tokens.\")\n",
        "    return doc\n",
        "if \"length_component\" not in nlp.pipe_names:\n",
        "    nlp.add_pipe('length_component')\n",
        "print(nlp.pipe_names)\n",
        "doc = nlp(winnie_corpus.entry[0])"
      ]
    },
    {
      "cell_type": "code",
      "execution_count": null,
      "metadata": {
        "colab": {
          "base_uri": "https://localhost:8080/"
        },
        "id": "pfWYlxYF-SW9",
        "outputId": "5044a9fb-74d9-4390-c4ea-acec6736e458"
      },
      "outputs": [
        {
          "name": "stdout",
          "output_type": "stream",
          "text": [
            "['tok2vec', 'tagger', 'parser', 'attribute_ruler', 'lemmatizer', 'ner', 'exp_length_comp']\n"
          ]
        }
      ],
      "source": [
        "# Experimental and maybe not a best practice/not very reusable\n",
        "lengths = [] \n",
        "@Language.component(name=\"exp_length_comp\")\n",
        "def exp_length_comp(doc):\n",
        "    doc_len = len(doc)\n",
        "    lengths.append(doc_len)\n",
        "    return doc\n",
        "if \"length_component\" in nlp.pipe_names: \n",
        "    nlp.remove_pipe(\"length_component\")\n",
        "nlp.add_pipe(\"exp_length_comp\")\n",
        "\n",
        "print(nlp.pipe_names)"
      ]
    },
    {
      "cell_type": "markdown",
      "metadata": {
        "id": "3vgQh0Xc8xH8"
      },
      "source": [
        "\n",
        "### Efficiently processing a lot of documents \n",
        "\n",
        "When you have a lot of documents that need processing, spaCy recommends using the `nlp.pipe()` method. For large collections of documents, this approach is significantly faster than processing the documents with a loop structure."
      ]
    },
    {
      "cell_type": "code",
      "execution_count": null,
      "metadata": {
        "colab": {
          "base_uri": "https://localhost:8080/",
          "height": 496
        },
        "id": "5nDblGcP9tQ1",
        "outputId": "d2b985d5-654c-4046-9173-534fbd523274"
      },
      "outputs": [
        {
          "name": "stdout",
          "output_type": "stream",
          "text": [
            "[71, 101, 72, 109, 97, 110, 96, 102, 75, 121, 97, 97, 80, 100, 63, 94, 80, 92, 78, 90, 83, 86, 101, 82, 99, 120, 89, 86, 75, 93, 87, 93, 80, 95, 81, 91, 79, 101, 84, 87, 94, 119, 77, 92, 102, 100, 71, 98, 79, 97, 86, 92, 91, 101, 91, 99, 85, 112, 92, 102, 78, 91, 101, 94, 60, 110, 90, 85, 101, 107, 105, 97, 79, 102, 67, 89, 87, 61, 73, 73, 58, 93, 74, 90, 70, 71, 85, 108, 78, 89, 109, 112, 107, 67, 88, 82, 82, 116, 91, 102, 76, 93, 105, 85, 70, 99, 96, 103, 103, 89, 73, 63, 94, 127, 79, 91, 93, 99, 100, 111, 76, 78, 102, 104, 71, 77, 55, 94, 63, 93, 76, 72, 66, 111, 101, 93, 82, 101, 76, 62, 100, 116, 97, 135, 125, 70, 66, 95, 116, 108, 104, 90, 91, 102, 68, 62, 97, 84, 91, 71, 85, 95, 75, 81, 90, 109, 74, 104, 62, 99, 52, 108, 86, 99, 81, 73, 86, 83, 84, 85, 61, 66, 75, 84, 75, 81, 92, 78, 81, 75, 90, 84, 83, 99, 89, 60, 85, 121, 103, 75, 79, 76, 91, 88, 64, 83, 89, 116, 86, 123, 76, 101, 75, 99, 103, 83, 57, 111, 82, 79, 65, 96, 61, 85, 93, 87, 68, 86, 68, 53, 74, 111, 84, 77, 73, 79, 63, 86, 85, 68, 81, 81, 59, 85, 69, 83, 68, 73, 93, 95, 85, 92, 83, 116, 71, 108, 76, 37, 74, 81, 38, 70, 78, 105, 78, 79, 63, 74, 75, 70, 81, 84, 86, 83, 70, 88, 71, 101, 64, 89, 60, 77, 54, 100, 87, 84, 70, 110, 56, 99, 119, 78, 74, 69, 83, 88, 71, 106, 86, 62, 68, 97, 63, 72, 74, 91, 64, 103, 70, 82, 84, 110, 58, 92, 61, 89, 65, 99, 82, 88, 48, 113, 91, 68, 74, 76, 78, 52, 69, 99, 54, 55, 98, 89, 71, 71, 94, 111, 65, 98, 88, 73, 83, 111, 88, 46, 96, 80, 75, 80, 73, 68, 79, 137, 101, 84, 131, 109, 67, 87, 65, 109, 68]\n"
          ]
        },
        {
          "data": {
            "text/html": [
              "\n",
              "  <div id=\"df-34e59799-67df-49c2-a71e-b86e89811e0d\">\n",
              "    <div class=\"colab-df-container\">\n",
              "      <div>\n",
              "<style scoped>\n",
              "    .dataframe tbody tr th:only-of-type {\n",
              "        vertical-align: middle;\n",
              "    }\n",
              "\n",
              "    .dataframe tbody tr th {\n",
              "        vertical-align: top;\n",
              "    }\n",
              "\n",
              "    .dataframe thead th {\n",
              "        text-align: right;\n",
              "    }\n",
              "</style>\n",
              "<table border=\"1\" class=\"dataframe\">\n",
              "  <thead>\n",
              "    <tr style=\"text-align: right;\">\n",
              "      <th></th>\n",
              "      <th>page</th>\n",
              "      <th>date</th>\n",
              "      <th>entry</th>\n",
              "      <th>length</th>\n",
              "    </tr>\n",
              "  </thead>\n",
              "  <tbody>\n",
              "    <tr>\n",
              "      <th>0</th>\n",
              "      <td>7</td>\n",
              "      <td>1900-01-01</td>\n",
              "      <td>New Year. First day of 1900 Charlie Merritt died at Grand Forks British Columbia yesterday of typhoid fever. To-day is election day and pap went up about 3 o'clock and did not get back until nearly 10. He brought us some candy chocolate drops. We had a very fat goose for dinner, not a very young one. Had to have good teeth.</td>\n",
              "      <td>71</td>\n",
              "    </tr>\n",
              "    <tr>\n",
              "      <th>1</th>\n",
              "      <td>7</td>\n",
              "      <td>1900-01-02</td>\n",
              "      <td>Went uptown in afternoon. Was up to Eckardt's but Miss Macfarlane was not there so I did not get what I wanted. Called at office and Nettie came home with me for tea. Mr Carman came over and borrowed my Mildred books. Then Leta came &amp; borrowed my German Grammar as she forgot hers &amp; left it at school before holiday. Papa, mamma, Nettie &amp; I played crokinole. Mamma &amp; I beat. The 2nd Contingent left for Toronto today to go to South Africa. Dr King's som went.</td>\n",
              "      <td>101</td>\n",
              "    </tr>\n",
              "    <tr>\n",
              "      <th>2</th>\n",
              "      <td>8</td>\n",
              "      <td>1900-01-03</td>\n",
              "      <td>Mrs Trusty was here washing School started to-day, but I was not going this week. Mamma went to the church and then to Mrs Chatfields Took her the church books. The queen Street Baptist church had a service of praise this evening. Mrs Chapman is organist &amp; Mrs Read-Muir sang Mrs George Armstrong has a daughter was born on New Year's day.</td>\n",
              "      <td>72</td>\n",
              "    </tr>\n",
              "    <tr>\n",
              "      <th>3</th>\n",
              "      <td>8</td>\n",
              "      <td>1900-01-04</td>\n",
              "      <td>Went over to Carman's to have Ella go with me to Dunn's greenhouse. We went about half past three. I brought a primrose Miss Chaplin was in there. Mamma went to Mrs Klotz at home Beatrice helped. Papa &amp; I went to Sunday School entertainment at night. Had a very long programme. There was a dialogue called \"Aunt Ketty's shopping which was good, and a shaving scene. Mr perry gave a tableful of prizes away. Beatrice came home with us. They had a drill of girls &amp; they sang \"Soldiers of the Queen\"</td>\n",
              "      <td>109</td>\n",
              "    </tr>\n",
              "    <tr>\n",
              "      <th>4</th>\n",
              "      <td>9</td>\n",
              "      <td>1900-01-05</td>\n",
              "      <td>Sweep day. I read \"At the Camerons\" in the \"Harper's Young People\" when mamma was sweeping. We had a beggar in afternoon asking for a few cents as he had a long way to go. Rats! Went over to Lee's in afternoon after eggs. Took a \"Young Ladies Journal\" Mrs Pay lent me. Her kitty has a sore tail. Mrs Malcolmson came after eggs when I was there. She got large sum of 2. Had some candy at night.</td>\n",
              "      <td>97</td>\n",
              "    </tr>\n",
              "  </tbody>\n",
              "</table>\n",
              "</div>\n",
              "      <button class=\"colab-df-convert\" onclick=\"convertToInteractive('df-34e59799-67df-49c2-a71e-b86e89811e0d')\"\n",
              "              title=\"Convert this dataframe to an interactive table.\"\n",
              "              style=\"display:none;\">\n",
              "        \n",
              "  <svg xmlns=\"http://www.w3.org/2000/svg\" height=\"24px\"viewBox=\"0 0 24 24\"\n",
              "       width=\"24px\">\n",
              "    <path d=\"M0 0h24v24H0V0z\" fill=\"none\"/>\n",
              "    <path d=\"M18.56 5.44l.94 2.06.94-2.06 2.06-.94-2.06-.94-.94-2.06-.94 2.06-2.06.94zm-11 1L8.5 8.5l.94-2.06 2.06-.94-2.06-.94L8.5 2.5l-.94 2.06-2.06.94zm10 10l.94 2.06.94-2.06 2.06-.94-2.06-.94-.94-2.06-.94 2.06-2.06.94z\"/><path d=\"M17.41 7.96l-1.37-1.37c-.4-.4-.92-.59-1.43-.59-.52 0-1.04.2-1.43.59L10.3 9.45l-7.72 7.72c-.78.78-.78 2.05 0 2.83L4 21.41c.39.39.9.59 1.41.59.51 0 1.02-.2 1.41-.59l7.78-7.78 2.81-2.81c.8-.78.8-2.07 0-2.86zM5.41 20L4 18.59l7.72-7.72 1.47 1.35L5.41 20z\"/>\n",
              "  </svg>\n",
              "      </button>\n",
              "      \n",
              "  <style>\n",
              "    .colab-df-container {\n",
              "      display:flex;\n",
              "      flex-wrap:wrap;\n",
              "      gap: 12px;\n",
              "    }\n",
              "\n",
              "    .colab-df-convert {\n",
              "      background-color: #E8F0FE;\n",
              "      border: none;\n",
              "      border-radius: 50%;\n",
              "      cursor: pointer;\n",
              "      display: none;\n",
              "      fill: #1967D2;\n",
              "      height: 32px;\n",
              "      padding: 0 0 0 0;\n",
              "      width: 32px;\n",
              "    }\n",
              "\n",
              "    .colab-df-convert:hover {\n",
              "      background-color: #E2EBFA;\n",
              "      box-shadow: 0px 1px 2px rgba(60, 64, 67, 0.3), 0px 1px 3px 1px rgba(60, 64, 67, 0.15);\n",
              "      fill: #174EA6;\n",
              "    }\n",
              "\n",
              "    [theme=dark] .colab-df-convert {\n",
              "      background-color: #3B4455;\n",
              "      fill: #D2E3FC;\n",
              "    }\n",
              "\n",
              "    [theme=dark] .colab-df-convert:hover {\n",
              "      background-color: #434B5C;\n",
              "      box-shadow: 0px 1px 3px 1px rgba(0, 0, 0, 0.15);\n",
              "      filter: drop-shadow(0px 1px 2px rgba(0, 0, 0, 0.3));\n",
              "      fill: #FFFFFF;\n",
              "    }\n",
              "  </style>\n",
              "\n",
              "      <script>\n",
              "        const buttonEl =\n",
              "          document.querySelector('#df-34e59799-67df-49c2-a71e-b86e89811e0d button.colab-df-convert');\n",
              "        buttonEl.style.display =\n",
              "          google.colab.kernel.accessAllowed ? 'block' : 'none';\n",
              "\n",
              "        async function convertToInteractive(key) {\n",
              "          const element = document.querySelector('#df-34e59799-67df-49c2-a71e-b86e89811e0d');\n",
              "          const dataTable =\n",
              "            await google.colab.kernel.invokeFunction('convertToInteractive',\n",
              "                                                     [key], {});\n",
              "          if (!dataTable) return;\n",
              "\n",
              "          const docLinkHtml = 'Like what you see? Visit the ' +\n",
              "            '<a target=\"_blank\" href=https://colab.research.google.com/notebooks/data_table.ipynb>data table notebook</a>'\n",
              "            + ' to learn more about interactive tables.';\n",
              "          element.innerHTML = '';\n",
              "          dataTable['output_type'] = 'display_data';\n",
              "          await google.colab.output.renderOutput(dataTable, element);\n",
              "          const docLink = document.createElement('div');\n",
              "          docLink.innerHTML = docLinkHtml;\n",
              "          element.appendChild(docLink);\n",
              "        }\n",
              "      </script>\n",
              "    </div>\n",
              "  </div>\n",
              "  "
            ],
            "text/plain": [
              "   page  ... length\n",
              "0     7  ...     71\n",
              "1     7  ...    101\n",
              "2     8  ...     72\n",
              "3     8  ...    109\n",
              "4     9  ...     97\n",
              "\n",
              "[5 rows x 4 columns]"
            ]
          },
          "execution_count": 46,
          "metadata": {},
          "output_type": "execute_result"
        }
      ],
      "source": [
        "# this cell relies on the exp_length_component being included in the pipeline\n",
        "lengths = []\n",
        "docs = list(nlp.pipe(winnie_corpus.entry)) # this creates a list of docs from each entry in the dataframe\n",
        "print(lengths)\n",
        "\n",
        "#add it to the dataframe\n",
        "winnie_corpus['length'] = lengths\n",
        "\n",
        "winnie_corpus.head()"
      ]
    },
    {
      "cell_type": "code",
      "execution_count": null,
      "metadata": {
        "colab": {
          "base_uri": "https://localhost:8080/"
        },
        "id": "E-o6eWInP-Yu",
        "outputId": "221acb76-8a4e-4b0f-d6e5-fcb76bedee8c"
      },
      "outputs": [
        {
          "data": {
            "text/plain": [
              "('exp_length_comp', <function __main__.exp_length_comp>)"
            ]
          },
          "execution_count": 47,
          "metadata": {},
          "output_type": "execute_result"
        }
      ],
      "source": [
        "nlp.remove_pipe(\"exp_length_comp\")\n",
        "# nlp.remove_pipe(\"length_component\")"
      ]
    },
    {
      "cell_type": "code",
      "execution_count": null,
      "metadata": {
        "colab": {
          "base_uri": "https://localhost:8080/",
          "height": 308
        },
        "id": "0dPPrPERDgfj",
        "outputId": "0ea962b4-71a4-452b-943b-a4b8dbda8e4b"
      },
      "outputs": [
        {
          "data": {
            "image/png": "[encoded data removed]",
            "text/plain": [
              "<Figure size 432x288 with 1 Axes>"
            ]
          },
          "metadata": {
            "needs_background": "light"
          },
          "output_type": "display_data"
        }
      ],
      "source": [
        "# graphing the length, just to see\n",
        "plt.plot(winnie_corpus[\"date\"], winnie_corpus[\"length\"])\n",
        "plt.xticks(rotation='45')\n",
        "plt.title(\"Token Length of Winnie's Diary Entries\")\n",
        "plt.show()"
      ]
    },
    {
      "cell_type": "markdown",
      "metadata": {
        "id": "IpENahp48-58"
      },
      "source": [
        "## Extension Attributes\n",
        "Allow you to add custom metadata to docs, spans, and tokens.\n",
        "\n",
        "This metadata can be attributes (with default values you can overwrite), properties (which can be dynamically determined with getters and setters), or methods. For more information on extension attributes, see: [spaCy documentation: Custom Attributes](https://spacy.io/usage/processing-pipelines#custom-components-attributes)\n"
      ]
    },
    {
      "cell_type": "markdown",
      "metadata": {
        "id": "Oae1U589IgtZ"
      },
      "source": [
        "<a name=\"training\"></a>\n",
        "# Training Your Own Models \n",
        "Useful for named entity recognition (NER) especially. \n",
        "Learn classification schemes specific to your problem. \n",
        "Many components of the spaCy pipeline are trainable, allowing you to train them from scratch or tweak an existing model to work better for your needs.\n",
        "\n",
        "Below we look at training a new model to do basic sentiment analysis using a very small dataset. This isn't a practical example so much as a demonstration of the basic process of training a spaCy model. \n",
        "\n",
        "Each pipeline component will indicate on its [API page](https://spacy.io/api) whether or not it is a trainable component and give some information on how training that component works. For the example below, we'll be using the [TextCategorizer](https://spacy.io/api/textcategorizer).\n",
        "\n",
        "For a more detailed overview of how training works see [the spaCy training documentation](https://spacy.io/usage/training). "
      ]
    },
    {
      "cell_type": "markdown",
      "metadata": {
        "id": "pwnZl9ejc1oL"
      },
      "source": [
        "# Sentiment Analysis\n",
        "The two main approaches I have seen for this are: combine spaCy with TextBlob (a [spaCyTextBlob library](https://github.com/SamEdwardes/spaCyTextBlob) exists to integrate TextBlob as a pipeline component, though you can also do it yourself), or train spaCy's text classifier yourself with a lot of labelled data. \n",
        "\n",
        "Another option is to update an existing model instead of starting from scratch with a new model, this method still requires a good bit of labelled data, but much less than starting from scratch. \n",
        "\n",
        "## Text Classifiers, generally\n",
        "\n",
        "Basing this code off of [this tutorial](https://medium.com/analytics-vidhya/building-a-text-classifier-with-spacy-3-0-dd16e9979a) as well as these [spaCy](https://spacy.io/usage/training) [docs](https://spacy.io/api/textcategorizer)"
      ]
    },
    {
      "cell_type": "code",
      "execution_count": null,
      "metadata": {
        "id": "t33qoZZcEb2w"
      },
      "outputs": [],
      "source": [
        "from spacy.tokens import DocBin # allows us to save our training data in a compact format, easily read by the system "
      ]
    },
    {
      "cell_type": "code",
      "execution_count": null,
      "metadata": {
        "id": "B6wHLor7FJwQ"
      },
      "outputs": [],
      "source": [
        "# make the documents to use as training info\n",
        "\n",
        "def make_docbin(data, path):\n",
        "    \"\"\"\n",
        "    this will take a list of texts and labels \n",
        "    and transform them into spacy documents\n",
        "    data: list(tuple(text, label))\n",
        "    path: file path to save to\n",
        "    \"\"\"\n",
        "    db = DocBin()\n",
        "    for doc, label in nlp.pipe(data, as_tuples=True):\n",
        "        # give the appropriate training value\n",
        "        if label == 'sub':\n",
        "            doc.cats[\"objective\"] = False\n",
        "            doc.cats[\"subjective\"] = True\n",
        "        else:\n",
        "            doc.cats[\"objective\"] = True\n",
        "            doc.cats[\"subjective\"] = False\n",
        "        # add the document to the list\n",
        "        db.add(doc)\n",
        "    db.to_disk(path)\n",
        "    "
      ]
    },
    {
      "cell_type": "code",
      "execution_count": null,
      "metadata": {
        "id": "9KsTXayTQsUk",
        "scrolled": true
      },
      "outputs": [],
      "source": [
        "train = [\n",
        "    ('I think Twitter is stupid', 'sub'),\n",
        "    ('Lots of people send too much time on Twitter.', 'obj'),\n",
        "    ('Twitter is a waste of time.', 'sub'),\n",
        "    ('Twitter can be used to find information.', 'obj'),\n",
        "    ('Many celebrites have Twitter accounts.', 'obj'),\n",
        "    ('I think there is too much misinformation on Twitter', 'sub'),\n",
        "    (\"I don't like Twitter.\", 'sub'),\n",
        "    (\"Twitter is the best ever\", 'sub'),\n",
        "    ('Twitter is great because all of my friends us it', 'sub'),\n",
        "    ('Twitter is a fortune 500 company', 'obj')\n",
        "    ]\n",
        "\n",
        "test = [\n",
        "     ('Twitter is a company', 'obj'),\n",
        "     (\"You can't communicate well with such short sentences\", 'sub'),\n",
        "     (\"Twitter is disruptive to soceity\", 'sub'),\n",
        "     (\"Over 500 million people use Twitter\", 'obj'),\n",
        "     ('A Twitter message can have 280 characters', 'obj'),\n",
        "     (\"A Twitter message is always stupid\", 'sub')\n",
        "    ]"
      ]
    },
    {
      "cell_type": "code",
      "execution_count": null,
      "metadata": {
        "id": "txglBkx-PfPV"
      },
      "outputs": [],
      "source": [
        "# before running this make sure you add a \"data\" folder to your files pane on the left\n",
        "make_docbin(train, \"./data/train.spacy\")\n",
        "make_docbin(test, \"./data/test.spacy\")"
      ]
    },
    {
      "cell_type": "markdown",
      "metadata": {
        "id": "r_ceh3PrZeIq"
      },
      "source": [
        "Now that we have the binary data, we can set up training for the model via a `config` file. We can create a default config file using the [config file generator](https://spacy.io/usage/training#quickstart) on the spaCy website. \n",
        "\n",
        "For this we'll use the settings: English, CPU, textcat (exclusive categories), efficiency. Download the file from the spaCy website. Then upload this file to the files pane on the left and double click to open it. Add the appropriate paths to the train and test data at the top of the file under `[paths]`\n",
        "\n",
        "i.e.\n",
        "```\n",
        "[paths]\n",
        "train = \"data/train.spacy\"\n",
        "dev = \"data/test.spacy\"\n",
        "```\n",
        "\n",
        "Run the following command to ensure the config file contains all the required values. \n",
        "\n"
      ]
    },
    {
      "cell_type": "code",
      "execution_count": null,
      "metadata": {
        "id": "9DGwj8ylYWs0"
      },
      "outputs": [],
      "source": [
        "!python -m spacy init fill-config base_config.cfg config.cfg --diff"
      ]
    },
    {
      "cell_type": "markdown",
      "metadata": {
        "id": "DRlHcJxPcEO5"
      },
      "source": [
        "Once this is done we can edit the config.cfg file to add the appropriate paths to our stored train and test data. We can then proceed with training our model. \n",
        "\n",
        "Since this is a very small dataset I am going to try to change the `patience` to 10 and the `eval_frequency` to 5 in the `config` and see what happens. \n",
        "\n",
        "Note: you can also make small on-the-fly changes to params etc from the `config` within the CLI, so you don't have to alter your config file to mess around with some hyperparameters etc. Can also use this method for setting the train/test/output paths \n",
        "\n",
        "Ex `!python -m spacy train config.cfg --paths.train ./data/train.spacy --paths.dev ./data/valid.spacy --output ./output`\n",
        "\n"
      ]
    },
    {
      "cell_type": "code",
      "execution_count": null,
      "metadata": {
        "id": "O719b7n3cCnS"
      },
      "outputs": [],
      "source": [
        "!python -m spacy train config.cfg --output ./output"
      ]
    },
    {
      "cell_type": "markdown",
      "metadata": {
        "id": "2CXhwa9YdKyy"
      },
      "source": [
        "Now that we have a trained model, let's test it out on some data to see how it does! "
      ]
    },
    {
      "cell_type": "code",
      "execution_count": null,
      "metadata": {
        "id": "1nLcPy55dKpS"
      },
      "outputs": [],
      "source": [
        "# load the model \n",
        "nlp = spacy.load(\"output/model-last\") # this is from the above output where it tells us where it stored our trained pipeline\n",
        "\n",
        "doc_label = \"Document Text\"\n",
        "obj_label = \"obj\"\n",
        "sub_label = \"sub\"\n",
        "true_label = \"True Label\"\n",
        "predict = \"Prediction\"\n",
        "space = \"\"\n",
        "print(f\"{doc_label:53}{obj_label:10}{sub_label:10}{true_label:11}{predict:11}\")\n",
        "for doc, label in nlp.pipe(test, as_tuples=True):\n",
        "    predicted_label ='obj' if doc.cats['objective']>= 0.5 else 'sub'\n",
        "    print(f\"{doc.text:53}{doc.cats['objective']:1.4}{space:5}{doc.cats['subjective']:1.4}{space:5}{label:11}{predicted_label:11}\")\n",
        "\n"
      ]
    },
    {
      "cell_type": "code",
      "execution_count": null,
      "metadata": {
        "id": "O8dy_eEwxQuQ"
      },
      "outputs": [],
      "source": [
        "clean_test = [\n",
        "    ('Twitter messages used to be limited to 140 characters', 'obj'),\n",
        "    ('Nothing good ever happens on Twitter','sub'),\n",
        "    ('Twitter is the worst kind of social media', 'sub'),\n",
        "    ('Twitter is the best social media', 'sub'),\n",
        "    ('Twitter was founded in 2006', 'obj'), \n",
        "    ('Messages posted to Twitter are called tweets', 'obj')              \n",
        "]"
      ]
    },
    {
      "cell_type": "code",
      "execution_count": null,
      "metadata": {
        "id": "aR_jyfHvx6B6"
      },
      "outputs": [],
      "source": [
        "print(f\"{doc_label:53}{obj_label:10}{sub_label:10}{true_label:11}{predict:11}\")\n",
        "for doc, label in nlp.pipe(clean_test, as_tuples=True):\n",
        "    predicted_label ='obj' if doc.cats['objective']>= 0.5 else 'sub'\n",
        "    print(f\"{doc.text:53}{doc.cats['objective']:1.3}{space:5}{doc.cats['subjective']:1.3}{space:5}{label:11}{predicted_label:11}\")"
      ]
    },
    {
      "cell_type": "markdown",
      "metadata": {
        "id": "oTH66GrWqEFQ"
      },
      "source": [
        "<a name=\"readability\"></a>\n",
        "# Readability\n",
        "\n",
        "The package [`TextDescriptives`](https://github.com/HLasse/TextDescriptives) is a spaCy add-on that adds readability calculations amongst other descriptive stats metrics. We will use this package to calculate a variety of readability scores for our text.\n",
        "[Documentation for the readability section](https://hlasse.github.io/TextDescriptives/readability.html) of the package.\n"
      ]
    },
    {
      "cell_type": "code",
      "execution_count": null,
      "metadata": {
        "id": "fPQ4B8AUjdzg"
      },
      "outputs": [],
      "source": [
        "!pip install textdescriptives"
      ]
    },
    {
      "cell_type": "code",
      "execution_count": null,
      "metadata": {
        "colab": {
          "base_uri": "https://localhost:8080/"
        },
        "id": "DaRD54fXjr0g",
        "outputId": "44476dd8-f7b9-4b92-8095-08b656e0c677"
      },
      "outputs": [
        {
          "data": {
            "text/plain": [
              "<textdescriptives.load_components.TextDescriptives at 0x7f13e5f768d0>"
            ]
          },
          "execution_count": 7,
          "metadata": {},
          "output_type": "execute_result"
        }
      ],
      "source": [
        "import spacy \n",
        "import textdescriptives as td\n",
        "nlp = spacy.load(\"en_core_web_md\")\n",
        "nlp.add_pipe(\"textdescriptives\")"
      ]
    },
    {
      "cell_type": "code",
      "execution_count": null,
      "metadata": {
        "colab": {
          "base_uri": "https://localhost:8080/",
          "height": 839
        },
        "id": "3QfPpobpkBgA",
        "outputId": "9c954375-b855-4276-f527-ba057b7831b8"
      },
      "outputs": [
        {
          "data": {
            "text/html": [
              "\n",
              "  <div id=\"df-6b9e5358-30c9-4808-8399-269a95abc7a7\">\n",
              "    <div class=\"colab-df-container\">\n",
              "      <div>\n",
              "<style scoped>\n",
              "    .dataframe tbody tr th:only-of-type {\n",
              "        vertical-align: middle;\n",
              "    }\n",
              "\n",
              "    .dataframe tbody tr th {\n",
              "        vertical-align: top;\n",
              "    }\n",
              "\n",
              "    .dataframe thead th {\n",
              "        text-align: right;\n",
              "    }\n",
              "</style>\n",
              "<table border=\"1\" class=\"dataframe\">\n",
              "  <thead>\n",
              "    <tr style=\"text-align: right;\">\n",
              "      <th></th>\n",
              "      <th>text</th>\n",
              "      <th>flesch_reading_ease</th>\n",
              "      <th>flesch_kincaid_grade</th>\n",
              "      <th>smog</th>\n",
              "      <th>gunning_fog</th>\n",
              "      <th>automated_readability_index</th>\n",
              "      <th>coleman_liau_index</th>\n",
              "      <th>lix</th>\n",
              "      <th>rix</th>\n",
              "    </tr>\n",
              "  </thead>\n",
              "  <tbody>\n",
              "    <tr>\n",
              "      <th>0</th>\n",
              "      <td>New Year. First day of 1900 Charlie Merritt died at Grand Forks British Columbia yesterday of typhoid fever. To-day is election day and pap went up about 3 o'clock and did not get back until nearly 10. He brought us some candy chocolate drops. We had a very fat goose for dinner, not a very young one. Had to have good teeth.</td>\n",
              "      <td>100.830538</td>\n",
              "      <td>1.762581</td>\n",
              "      <td>5.461319</td>\n",
              "      <td>4.778495</td>\n",
              "      <td>2.652634</td>\n",
              "      <td>4.950323</td>\n",
              "      <td>24.849462</td>\n",
              "      <td>1.5</td>\n",
              "    </tr>\n",
              "  </tbody>\n",
              "</table>\n",
              "</div>\n",
              "      <button class=\"colab-df-convert\" onclick=\"convertToInteractive('df-6b9e5358-30c9-4808-8399-269a95abc7a7')\"\n",
              "              title=\"Convert this dataframe to an interactive table.\"\n",
              "              style=\"display:none;\">\n",
              "        \n",
              "  <svg xmlns=\"http://www.w3.org/2000/svg\" height=\"24px\"viewBox=\"0 0 24 24\"\n",
              "       width=\"24px\">\n",
              "    <path d=\"M0 0h24v24H0V0z\" fill=\"none\"/>\n",
              "    <path d=\"M18.56 5.44l.94 2.06.94-2.06 2.06-.94-2.06-.94-.94-2.06-.94 2.06-2.06.94zm-11 1L8.5 8.5l.94-2.06 2.06-.94-2.06-.94L8.5 2.5l-.94 2.06-2.06.94zm10 10l.94 2.06.94-2.06 2.06-.94-2.06-.94-.94-2.06-.94 2.06-2.06.94z\"/><path d=\"M17.41 7.96l-1.37-1.37c-.4-.4-.92-.59-1.43-.59-.52 0-1.04.2-1.43.59L10.3 9.45l-7.72 7.72c-.78.78-.78 2.05 0 2.83L4 21.41c.39.39.9.59 1.41.59.51 0 1.02-.2 1.41-.59l7.78-7.78 2.81-2.81c.8-.78.8-2.07 0-2.86zM5.41 20L4 18.59l7.72-7.72 1.47 1.35L5.41 20z\"/>\n",
              "  </svg>\n",
              "      </button>\n",
              "      \n",
              "  <style>\n",
              "    .colab-df-container {\n",
              "      display:flex;\n",
              "      flex-wrap:wrap;\n",
              "      gap: 12px;\n",
              "    }\n",
              "\n",
              "    .colab-df-convert {\n",
              "      background-color: #E8F0FE;\n",
              "      border: none;\n",
              "      border-radius: 50%;\n",
              "      cursor: pointer;\n",
              "      display: none;\n",
              "      fill: #1967D2;\n",
              "      height: 32px;\n",
              "      padding: 0 0 0 0;\n",
              "      width: 32px;\n",
              "    }\n",
              "\n",
              "    .colab-df-convert:hover {\n",
              "      background-color: #E2EBFA;\n",
              "      box-shadow: 0px 1px 2px rgba(60, 64, 67, 0.3), 0px 1px 3px 1px rgba(60, 64, 67, 0.15);\n",
              "      fill: #174EA6;\n",
              "    }\n",
              "\n",
              "    [theme=dark] .colab-df-convert {\n",
              "      background-color: #3B4455;\n",
              "      fill: #D2E3FC;\n",
              "    }\n",
              "\n",
              "    [theme=dark] .colab-df-convert:hover {\n",
              "      background-color: #434B5C;\n",
              "      box-shadow: 0px 1px 3px 1px rgba(0, 0, 0, 0.15);\n",
              "      filter: drop-shadow(0px 1px 2px rgba(0, 0, 0, 0.3));\n",
              "      fill: #FFFFFF;\n",
              "    }\n",
              "  </style>\n",
              "\n",
              "      <script>\n",
              "        const buttonEl =\n",
              "          document.querySelector('#df-6b9e5358-30c9-4808-8399-269a95abc7a7 button.colab-df-convert');\n",
              "        buttonEl.style.display =\n",
              "          google.colab.kernel.accessAllowed ? 'block' : 'none';\n",
              "\n",
              "        async function convertToInteractive(key) {\n",
              "          const element = document.querySelector('#df-6b9e5358-30c9-4808-8399-269a95abc7a7');\n",
              "          const dataTable =\n",
              "            await google.colab.kernel.invokeFunction('convertToInteractive',\n",
              "                                                     [key], {});\n",
              "          if (!dataTable) return;\n",
              "\n",
              "          const docLinkHtml = 'Like what you see? Visit the ' +\n",
              "            '<a target=\"_blank\" href=https://colab.research.google.com/notebooks/data_table.ipynb>data table notebook</a>'\n",
              "            + ' to learn more about interactive tables.';\n",
              "          element.innerHTML = '';\n",
              "          dataTable['output_type'] = 'display_data';\n",
              "          await google.colab.output.renderOutput(dataTable, element);\n",
              "          const docLink = document.createElement('div');\n",
              "          docLink.innerHTML = docLinkHtml;\n",
              "          element.appendChild(docLink);\n",
              "        }\n",
              "      </script>\n",
              "    </div>\n",
              "  </div>\n",
              "  "
            ],
            "text/plain": [
              "                                                                                                                                                                                                                                                                                                                                    text  ...  rix\n",
              "0  New Year. First day of 1900 Charlie Merritt died at Grand Forks British Columbia yesterday of typhoid fever. To-day is election day and pap went up about 3 o'clock and did not get back until nearly 10. He brought us some candy chocolate drops. We had a very fat goose for dinner, not a very young one. Had to have good teeth.  ...  1.5\n",
              "\n",
              "[1 rows x 9 columns]"
            ]
          },
          "execution_count": 8,
          "metadata": {},
          "output_type": "execute_result"
        }
      ],
      "source": [
        "doc = nlp(winnie_corpus.entry[0])\n",
        "# readability statistics can be accessed either through \n",
        "doc._.readability\n",
        "# or through a dataframe \n",
        "td.extract_df(doc, metrics=\"readability\") #allows you to specify which metrics to calculate"
      ]
    },
    {
      "cell_type": "markdown",
      "metadata": {
        "id": "KvlWjspfsFVy"
      },
      "source": [
        "## Flesch-Kincaid Tests\n",
        "### [Flesch Reading Ease](https://en.wikipedia.org/wiki/Flesch%E2%80%93Kincaid_readability_tests#Flesch_reading_ease)\n",
        "- the higher the score, the easier the text is to read, to get a break down, see the table below ([source](https://web.archive.org/web/20160712094308/http://www.mang.canterbury.ac.nz/writing_guide/writing/flesch.shtml)). \n",
        "\n",
        "| Score  | School Level                | Notes            |\n",
        "|--------|-----------------------------|------------------|\n",
        "| 90-100 | 5th grade                   | Very easy.       |\n",
        "| 80-90  | 6th grade                   | Easy.            |\n",
        "| 70-80  | 7th grade                   | Fairly easy.     |\n",
        "| 60-70  | 8th-9th grade               | Plain English.   |\n",
        "| 50-60  | 10th-12th grade             | Fairly difficult |\n",
        "| 30-50  | College/University          | Difficult.       |\n",
        "| 0-30   | College/University graduate | Very difficult.  |\n",
        "<br> \n",
        "\n",
        "\n",
        "- the formula used to calculate this score is:\n",
        "\\begin{equation}\n",
        "206.835 - 1.015 \\bigg(\\frac{\\text{total words}}{\\text{total sentences}}\\bigg) - 84.6 \\bigg(\\frac{\\text{total syllables}}{\\text{total words}}\\bigg)\n",
        "\\end{equation}\n"
      ]
    },
    {
      "cell_type": "code",
      "execution_count": null,
      "metadata": {
        "colab": {
          "base_uri": "https://localhost:8080/"
        },
        "id": "-PwOavO3EQKw",
        "outputId": "ae7a1e21-0584-42e3-bcb6-8ff9267c172d"
      },
      "outputs": [
        {
          "data": {
            "text/plain": [
              "100.8305376344086"
            ]
          },
          "execution_count": 54,
          "metadata": {},
          "output_type": "execute_result"
        }
      ],
      "source": [
        "# example usage\n",
        "doc = nlp(winnie_corpus.entry[0])\n",
        "doc._.readability[\"flesch_reading_ease\"]"
      ]
    },
    {
      "cell_type": "markdown",
      "metadata": {
        "id": "Fe4DNKqbEZCQ"
      },
      "source": [
        "### [Flesch-Kincaid Grade Level](https://en.wikipedia.org/wiki/Flesch%E2%80%93Kincaid_readability_tests#Flesch%E2%80%93Kincaid_grade_level)\n",
        "- this test builds upon the Flesch Reading Ease test, and instead approximates the US grade level needed to understand the text \n",
        "- the result is the approximate grade level or number of years of education required to understand the text\n",
        "- the formula is \n",
        "\n",
        "\n",
        "\\begin{equation}\n",
        "0.39 \\bigg(\\frac{\\text{total words}}{\\text{total sentences}}\\bigg) + 11.8 \\bigg(\\frac{\\text{total syllables}}{\\text{total words}}\\bigg) - 15.59\n",
        "\\end{equation}"
      ]
    },
    {
      "cell_type": "code",
      "execution_count": null,
      "metadata": {
        "colab": {
          "base_uri": "https://localhost:8080/"
        },
        "id": "9sZHGMqHuAcI",
        "outputId": "ff22ef8f-a3e6-41fd-9e9d-33a3a2d60389"
      },
      "outputs": [
        {
          "data": {
            "text/plain": [
              "1.762580645161293"
            ]
          },
          "execution_count": 55,
          "metadata": {},
          "output_type": "execute_result"
        }
      ],
      "source": [
        "# example usage\n",
        "doc = nlp(winnie_corpus.entry[0])\n",
        "doc._.readability[\"flesch_kincaid_grade\"]"
      ]
    },
    {
      "cell_type": "markdown",
      "metadata": {
        "id": "Kc1nfB3hsEwo"
      },
      "source": [
        "## [SMOG Readability](https://en.wikipedia.org/wiki/SMOG)\n",
        "- SMOG stands for \"Simple Measure of Goobledygook\" \n",
        "- validation studies have shown that this measure has a strong correlation (r=0.985) with the actual grade level required for complete comprehension of the text\n",
        "- popularly used for assessing readability of health care information  \n",
        "- to calculate\n",
        "    - count a number of sentences (min. 30)\n",
        "    - count the polysyllables (words of 3 or more syllables) in those sentences\n",
        "    - apply the following formula\n",
        "    \\begin{equation}\n",
        "    \\text{grade} = 1.0430 \\sqrt{\\text{number of polysyllables} \\times \\frac{30}{\\text{number of sentences}}} + 3.1291\n",
        "    \\end{equation}\n"
      ]
    },
    {
      "cell_type": "code",
      "execution_count": null,
      "metadata": {
        "colab": {
          "base_uri": "https://localhost:8080/"
        },
        "id": "a-BzicUMuHZ4",
        "outputId": "34f28f29-632f-4449-9f45-dd1b5c92435f"
      },
      "outputs": [
        {
          "data": {
            "text/plain": [
              "5.46131890053228"
            ]
          },
          "execution_count": 56,
          "metadata": {},
          "output_type": "execute_result"
        }
      ],
      "source": [
        "# example usage\n",
        "doc = nlp(winnie_corpus.entry[0])\n",
        "doc._.readability[\"smog\"]"
      ]
    },
    {
      "cell_type": "markdown",
      "metadata": {
        "id": "ncXY9thosL8P"
      },
      "source": [
        "## [Coleman-Liau Index](https://en.wikipedia.org/wiki/Coleman%E2%80%93Liau_index)\n",
        "- based on the number of characters per word (instead of the number of syllables common in other methods) \n",
        "- formula, where $L$ is average number of letters per 100 words, $S$ is average number of sentences per 100 words\n",
        "\\begin{equation}\n",
        "CLI = 0.0588L - 0.296S -15.8 \n",
        "\\end{equation}"
      ]
    },
    {
      "cell_type": "code",
      "execution_count": null,
      "metadata": {
        "colab": {
          "base_uri": "https://localhost:8080/"
        },
        "id": "P35O1Vq0uQev",
        "outputId": "1f7d3663-ce5e-4ff0-ca93-baf803041265"
      },
      "outputs": [
        {
          "data": {
            "text/plain": [
              "4.950322580645164"
            ]
          },
          "execution_count": 57,
          "metadata": {},
          "output_type": "execute_result"
        }
      ],
      "source": [
        "# example usage\n",
        "doc = nlp(winnie_corpus.entry[0])\n",
        "doc._.readability[\"coleman_liau_index\"]"
      ]
    },
    {
      "cell_type": "markdown",
      "metadata": {
        "id": "BlwRVAaGER0P"
      },
      "source": [
        "## [Automated Readability Index](https://en.wikipedia.org/wiki/Automated_readability_index)\n",
        "- approximates US grade level needed to understand a text\n",
        "- like Coleman-Liau, based on number of characters instead of number of syllables (the accuracy of this vs syllable-based methods is debated, but this is much faster and easier to compute)\n",
        "- non-integer scores are always rounded up to the next whole integer (take the ceiling of the score)\n",
        "\n",
        "\\begin{equation}\n",
        "4.71 \\bigg(\\frac{\\text{characters}}{\\text{words}} + 0.5 \\frac{\\text{words}}{\\text{sentences}} - 21.43\\bigg)\n",
        "\\end{equation}\n",
        "\n",
        "- the resulting scores correspond with this table \n",
        "\n",
        "| Score | Age   | Grade Level  |\n",
        "|-------|-------|--------------|\n",
        "| 1     | 5-6   | Kindergarten |\n",
        "| 2     | 6-7   | 1st Grade    |\n",
        "| 3     | 7-8   | 2nd Grade    |\n",
        "| 4     | 8-9   | 3rd Grade    |\n",
        "| 5     | 9-10  | 4th Grade    |\n",
        "| 6     | 10-11 | 5th Grade    |\n",
        "| 7     | 11-12 | 6th Grade    |\n",
        "| 8     | 12-13 | 7th Grade    |\n",
        "| 9     | 13-14 | 8th Grade    |\n",
        "| 10    | 14-15 | 9th Grade    |\n",
        "| 11    | 15-16 | 10th Grade   |\n",
        "| 12    | 16-17 | 11th Grade   |\n",
        "| 13    | 17-18 | 12th Grade   |\n",
        "| 14    | 18-22 | College      |\n",
        "<br>\n",
        "\n"
      ]
    },
    {
      "cell_type": "code",
      "execution_count": null,
      "metadata": {
        "colab": {
          "base_uri": "https://localhost:8080/"
        },
        "id": "k_ZNgYAKuMAn",
        "outputId": "075319cc-ddaa-43ed-edf2-a9df11162b74"
      },
      "outputs": [
        {
          "data": {
            "text/plain": [
              "2.652634408602154"
            ]
          },
          "execution_count": 58,
          "metadata": {},
          "output_type": "execute_result"
        }
      ],
      "source": [
        "# example usage\n",
        "doc = nlp(winnie_corpus.entry[0])\n",
        "doc._.readability[\"automated_readability_index\"]"
      ]
    },
    {
      "cell_type": "markdown",
      "metadata": {
        "id": "NNKjKCstuc34"
      },
      "source": [
        "## [Gunning fog index (AKA the fog index)](https://en.wikipedia.org/wiki/Gunning_fog_index)\n",
        "\n",
        "The Gunning-fog index is a test for English writing which calculates the approximate number of years of formal education that a person needs to be able to understand a text. \n",
        "\n",
        "To calculate the Gunning fog index: \n",
        "- Select a passage of around 100 words in length\n",
        "- Count the number of \"complex words\". A complex word is one which consists of 3 or more syllables, excluding proper nouns and compound words. Do not include common suffixes (like -es, -ed, or -ing) in syllable counts\n",
        "- Apply the following formula\n",
        "\\begin{equation}\n",
        "0.4 \\bigg[\\bigg(\\frac{\\text{words}}{\\text{sentences}}\\bigg) + 100 \\bigg(\\frac{\\text{complex words}}{\\text{words}}\\bigg) \\bigg]\n",
        "\\end{equation}\n",
        "\n",
        "The results of the Gunning fog index can be interpretted using the following table: \n",
        "\n",
        "| Fog Index |  Grade Level        |\n",
        "|-----------|---------------------|\n",
        "| 6         |  Grade 6            |\n",
        "| 7         |  Grade 7            |\n",
        "| 8         |  Grade 8            |\n",
        "| 9         |  Grade 9            |\n",
        "| 10        |  Grade 10           |\n",
        "| 11        |  Grade 11           |\n",
        "| 12        |  Grade 12           |\n",
        "| 13        |  College - 1st year |\n",
        "| 14        |  College - 2nd year |\n",
        "| 15        |  College - 3rd year |\n",
        "| 16        |  College - 4th year |\n",
        "| 17        |  College Graduate   |"
      ]
    },
    {
      "cell_type": "code",
      "execution_count": null,
      "metadata": {
        "colab": {
          "base_uri": "https://localhost:8080/"
        },
        "id": "gmr6fUSBwv2o",
        "outputId": "fb9644b0-1c72-4d14-a7da-95241b83cd77"
      },
      "outputs": [
        {
          "data": {
            "text/plain": [
              "4.778494623655915"
            ]
          },
          "execution_count": 59,
          "metadata": {},
          "output_type": "execute_result"
        }
      ],
      "source": [
        "# example usage\n",
        "doc = nlp(winnie_corpus.entry[0])\n",
        "doc._.readability[\"gunning_fog\"]"
      ]
    },
    {
      "cell_type": "markdown",
      "metadata": {
        "id": "2tTkbzoVwqjQ"
      },
      "source": [
        "# Lix and Rix\n",
        "These two readability formulas employ character counting as opposed to syllable counting and have been used on a variety of texts and found to be reliable for English as well as several other languages.\n",
        "\n",
        "## Lix\n",
        "\n",
        "Lix is a readability formula developed in Sweden. It has been shown to be reliable for a variety of age ranges, from elementary school age children to adults.\n",
        "\n",
        "The Lix formula is defined as follows: \n",
        "\\begin{equation}\n",
        "\\frac{\\text{number of long words × 100}}{\\text{number of words}} + \\frac{\\text{number of words}}{\\text{number of sentences}}\n",
        "\\end{equation}\n",
        "\n",
        "Lix scores can be interpretted for English as follows: \n",
        "\n",
        "| Lix Score     |  Grade Level        |\n",
        "|---------------|---------------------|\n",
        "| below 10      |  Grade 1            |\n",
        "| 10 - 14       |  Grade 2            |\n",
        "| 15 - 19       |  Grade 3            |\n",
        "| 20 - 23       |  Grade 4            |\n",
        "| 24 - 27       |  Grade 5            |\n",
        "| 28 - 31       |  Grade 6            |\n",
        "| 32 - 35       |  Grade 7            |\n",
        "| 36 - 39       |  Grade 8            |\n",
        "| 40 - 43       |  Grade 9            |\n",
        "| 44 - 47       |  Grade 10           |\n",
        "| 48 - 51       |  Grade 11           |\n",
        "| 52 - 55       |  Grade 12           |\n",
        "| 56 of higher  |  College            |\n",
        "\n"
      ]
    },
    {
      "cell_type": "code",
      "execution_count": null,
      "metadata": {
        "colab": {
          "base_uri": "https://localhost:8080/"
        },
        "id": "6dhlwMuBwwRP",
        "outputId": "01243e24-b9b9-4425-d98e-b1d6b9b43ff2"
      },
      "outputs": [
        {
          "data": {
            "text/plain": [
              "24.8494623655914"
            ]
          },
          "execution_count": 60,
          "metadata": {},
          "output_type": "execute_result"
        }
      ],
      "source": [
        "# example usage\n",
        "doc = nlp(winnie_corpus.entry[0])\n",
        "doc._.readability[\"lix\"]"
      ]
    },
    {
      "cell_type": "markdown",
      "metadata": {
        "id": "0ZnKhVePwsXQ"
      },
      "source": [
        "## Rix\n",
        "\n",
        "Rix is a variation on the Lix readability measure, this measure has been simplified and adapted to be well suited to quickly assessing the grade level of English reading materials. \n",
        "\n",
        "The Rix formula is as follows: \n",
        "\\begin{equation}\n",
        "\\frac{\\text{number of long words}}{\\text{number of sentences}}\n",
        "\\end{equation}\n",
        "\n",
        "For this formula, a word is defined as a sequence of characters surrounded by whitespace. A \"long word\" is defined as a word of 7 or more characters (excluding hyphens, punctuation marks, or brackets). \n",
        "\n",
        "The output of Rix can be interpretted using the following table: \n",
        "\n",
        "| Rix Score     |  Grade Level        |\n",
        "|---------------|---------------------|\n",
        "| below 0.2     |  Grade 1            |\n",
        "| 0.2 and above |  Grade 2            |\n",
        "| 0.5 and above |  Grade 3            |\n",
        "| 0.8 and above |  Grade 4            |\n",
        "| 1.3 and above |  Grade 5            |\n",
        "| 1.8 and above |  Grade 6            |\n",
        "| 2.4 and above |  Grade 7            |\n",
        "| 3.0 and above |  Grade 8            |\n",
        "| 3.7 and above |  Grade 9            |\n",
        "| 4.5 and above |  Grade 10           |\n",
        "| 5.3 and above |  Grade 11           |\n",
        "| 6.2 and above |  Grade 12           |\n",
        "| 7.2 and above |  College            |\n",
        "\n",
        "\n",
        "Sources: \n",
        "https://www.jstor.org/stable/40031755 <br>\n",
        "https://readable.com/blog/the-lix-and-rix-readability-formulas/ <br>\n",
        "https://hlasse.github.io/TextDescriptives/readability.html"
      ]
    },
    {
      "cell_type": "code",
      "execution_count": null,
      "metadata": {
        "colab": {
          "base_uri": "https://localhost:8080/"
        },
        "id": "IOW53n6Rwxpn",
        "outputId": "6685250b-b3fd-4bac-a294-fb08fd948937"
      },
      "outputs": [
        {
          "data": {
            "text/plain": [
              "1.5"
            ]
          },
          "execution_count": 61,
          "metadata": {},
          "output_type": "execute_result"
        }
      ],
      "source": [
        "# example usage\n",
        "doc = nlp(winnie_corpus.entry[0])\n",
        "doc._.readability[\"rix\"]"
      ]
    },
    {
      "cell_type": "code",
      "execution_count": null,
      "metadata": {
        "id": "wCrfogGEA96d"
      },
      "outputs": [],
      "source": [
        "# TextDescriptives makes it super easy to quickly calculate a group of desired metrics \n",
        "# and display them in a pandas dataframe! \n",
        "# here we create a generator of docs using nlp.pipe on all the entries of the diary\n",
        "docs = nlp.pipe(winnie_corpus.entry)\n",
        "# and we give that generator of docs to TextDescriptives to get the readability scores.\n",
        "read_data = td.extract_df(docs, metrics=\"readability\")"
      ]
    },
    {
      "cell_type": "code",
      "execution_count": null,
      "metadata": {
        "colab": {
          "base_uri": "https://localhost:8080/",
          "height": 1000
        },
        "id": "iG0tzwhwGkp1",
        "outputId": "23da468a-187f-4f07-eb8b-301efd85892d"
      },
      "outputs": [
        {
          "data": {
            "text/html": [
              "\n",
              "  <div id=\"df-360b893e-360d-432b-ad1f-afaf97ad689d\">\n",
              "    <div class=\"colab-df-container\">\n",
              "      <div>\n",
              "<style scoped>\n",
              "    .dataframe tbody tr th:only-of-type {\n",
              "        vertical-align: middle;\n",
              "    }\n",
              "\n",
              "    .dataframe tbody tr th {\n",
              "        vertical-align: top;\n",
              "    }\n",
              "\n",
              "    .dataframe thead th {\n",
              "        text-align: right;\n",
              "    }\n",
              "</style>\n",
              "<table border=\"1\" class=\"dataframe\">\n",
              "  <thead>\n",
              "    <tr style=\"text-align: right;\">\n",
              "      <th></th>\n",
              "      <th>page</th>\n",
              "      <th>date</th>\n",
              "      <th>entry</th>\n",
              "      <th>length</th>\n",
              "      <th>flesch_reading_ease</th>\n",
              "      <th>flesch_kincaid_grade</th>\n",
              "      <th>smog</th>\n",
              "      <th>gunning_fog</th>\n",
              "      <th>automated_readability_index</th>\n",
              "      <th>coleman_liau_index</th>\n",
              "      <th>lix</th>\n",
              "      <th>rix</th>\n",
              "    </tr>\n",
              "  </thead>\n",
              "  <tbody>\n",
              "    <tr>\n",
              "      <th>0</th>\n",
              "      <td>7</td>\n",
              "      <td>1900-01-01</td>\n",
              "      <td>New Year. First day of 1900 Charlie Merritt died at Grand Forks British Columbia yesterday of typhoid fever. To-day is election day and pap went up about 3 o'clock and did not get back until nearly 10. He brought us some candy chocolate drops. We had a very fat goose for dinner, not a very young one. Had to have good teeth.</td>\n",
              "      <td>71</td>\n",
              "      <td>100.830538</td>\n",
              "      <td>1.762581</td>\n",
              "      <td>5.461319</td>\n",
              "      <td>4.778495</td>\n",
              "      <td>2.652634</td>\n",
              "      <td>4.950323</td>\n",
              "      <td>24.849462</td>\n",
              "      <td>1.5</td>\n",
              "    </tr>\n",
              "    <tr>\n",
              "      <th>1</th>\n",
              "      <td>7</td>\n",
              "      <td>1900-01-02</td>\n",
              "      <td>Went uptown in afternoon. Was up to Eckardt's but Miss Macfarlane was not there so I did not get what I wanted. Called at office and Nettie came home with me for tea. Mr Carman came over and borrowed my Mildred books. Then Leta came &amp; borrowed my German Grammar as she forgot hers &amp; left it at school before holiday. Papa, mamma, Nettie &amp; I played crokinole. Mamma &amp; I beat. The 2nd Contingent left for Toronto today to go to South Africa. Dr King's som went.</td>\n",
              "      <td>101</td>\n",
              "      <td>90.544714</td>\n",
              "      <td>2.716952</td>\n",
              "      <td>7.168622</td>\n",
              "      <td>5.740952</td>\n",
              "      <td>2.563214</td>\n",
              "      <td>5.386190</td>\n",
              "      <td>21.495238</td>\n",
              "      <td>1.1</td>\n",
              "    </tr>\n",
              "    <tr>\n",
              "      <th>2</th>\n",
              "      <td>8</td>\n",
              "      <td>1900-01-03</td>\n",
              "      <td>Mrs Trusty was here washing School started to-day, but I was not going this week. Mamma went to the church and then to Mrs Chatfields Took her the church books. The queen Street Baptist church had a service of praise this evening. Mrs Chapman is organist &amp; Mrs Read-Muir sang Mrs George Armstrong has a daughter was born on New Year's day.</td>\n",
              "      <td>72</td>\n",
              "      <td>91.477321</td>\n",
              "      <td>4.412817</td>\n",
              "      <td>5.985473</td>\n",
              "      <td>6.934921</td>\n",
              "      <td>6.481190</td>\n",
              "      <td>7.333968</td>\n",
              "      <td>31.623016</td>\n",
              "      <td>2.5</td>\n",
              "    </tr>\n",
              "    <tr>\n",
              "      <th>3</th>\n",
              "      <td>8</td>\n",
              "      <td>1900-01-04</td>\n",
              "      <td>Went over to Carman's to have Ella go with me to Dunn's greenhouse. We went about half past three. I brought a primrose Miss Chaplin was in there. Mamma went to Mrs Klotz at home Beatrice helped. Papa &amp; I went to Sunday School entertainment at night. Had a very long programme. There was a dialogue called \"Aunt Ketty's shopping which was good, and a shaving scene. Mr perry gave a tableful of prizes away. Beatrice came home with us. They had a drill of girls &amp; they sang \"Soldiers of the Queen\"</td>\n",
              "      <td>109</td>\n",
              "      <td>99.053445</td>\n",
              "      <td>1.704055</td>\n",
              "      <td>4.935629</td>\n",
              "      <td>4.079560</td>\n",
              "      <td>2.943407</td>\n",
              "      <td>5.694945</td>\n",
              "      <td>23.385714</td>\n",
              "      <td>1.3</td>\n",
              "    </tr>\n",
              "    <tr>\n",
              "      <th>4</th>\n",
              "      <td>9</td>\n",
              "      <td>1900-01-05</td>\n",
              "      <td>Sweep day. I read \"At the Camerons\" in the \"Harper's Young People\" when mamma was sweeping. We had a beggar in afternoon asking for a few cents as he had a long way to go. Rats! Went over to Lee's in afternoon after eggs. Took a \"Young Ladies Journal\" Mrs Pay lent me. Her kitty has a sore tail. Mrs Malcolmson came after eggs when I was there. She got large sum of 2. Had some candy at night.</td>\n",
              "      <td>97</td>\n",
              "      <td>102.436753</td>\n",
              "      <td>0.934038</td>\n",
              "      <td>5.683918</td>\n",
              "      <td>4.172658</td>\n",
              "      <td>0.107975</td>\n",
              "      <td>2.410127</td>\n",
              "      <td>15.494937</td>\n",
              "      <td>0.6</td>\n",
              "    </tr>\n",
              "  </tbody>\n",
              "</table>\n",
              "</div>\n",
              "      <button class=\"colab-df-convert\" onclick=\"convertToInteractive('df-360b893e-360d-432b-ad1f-afaf97ad689d')\"\n",
              "              title=\"Convert this dataframe to an interactive table.\"\n",
              "              style=\"display:none;\">\n",
              "        \n",
              "  <svg xmlns=\"http://www.w3.org/2000/svg\" height=\"24px\"viewBox=\"0 0 24 24\"\n",
              "       width=\"24px\">\n",
              "    <path d=\"M0 0h24v24H0V0z\" fill=\"none\"/>\n",
              "    <path d=\"M18.56 5.44l.94 2.06.94-2.06 2.06-.94-2.06-.94-.94-2.06-.94 2.06-2.06.94zm-11 1L8.5 8.5l.94-2.06 2.06-.94-2.06-.94L8.5 2.5l-.94 2.06-2.06.94zm10 10l.94 2.06.94-2.06 2.06-.94-2.06-.94-.94-2.06-.94 2.06-2.06.94z\"/><path d=\"M17.41 7.96l-1.37-1.37c-.4-.4-.92-.59-1.43-.59-.52 0-1.04.2-1.43.59L10.3 9.45l-7.72 7.72c-.78.78-.78 2.05 0 2.83L4 21.41c.39.39.9.59 1.41.59.51 0 1.02-.2 1.41-.59l7.78-7.78 2.81-2.81c.8-.78.8-2.07 0-2.86zM5.41 20L4 18.59l7.72-7.72 1.47 1.35L5.41 20z\"/>\n",
              "  </svg>\n",
              "      </button>\n",
              "      \n",
              "  <style>\n",
              "    .colab-df-container {\n",
              "      display:flex;\n",
              "      flex-wrap:wrap;\n",
              "      gap: 12px;\n",
              "    }\n",
              "\n",
              "    .colab-df-convert {\n",
              "      background-color: #E8F0FE;\n",
              "      border: none;\n",
              "      border-radius: 50%;\n",
              "      cursor: pointer;\n",
              "      display: none;\n",
              "      fill: #1967D2;\n",
              "      height: 32px;\n",
              "      padding: 0 0 0 0;\n",
              "      width: 32px;\n",
              "    }\n",
              "\n",
              "    .colab-df-convert:hover {\n",
              "      background-color: #E2EBFA;\n",
              "      box-shadow: 0px 1px 2px rgba(60, 64, 67, 0.3), 0px 1px 3px 1px rgba(60, 64, 67, 0.15);\n",
              "      fill: #174EA6;\n",
              "    }\n",
              "\n",
              "    [theme=dark] .colab-df-convert {\n",
              "      background-color: #3B4455;\n",
              "      fill: #D2E3FC;\n",
              "    }\n",
              "\n",
              "    [theme=dark] .colab-df-convert:hover {\n",
              "      background-color: #434B5C;\n",
              "      box-shadow: 0px 1px 3px 1px rgba(0, 0, 0, 0.15);\n",
              "      filter: drop-shadow(0px 1px 2px rgba(0, 0, 0, 0.3));\n",
              "      fill: #FFFFFF;\n",
              "    }\n",
              "  </style>\n",
              "\n",
              "      <script>\n",
              "        const buttonEl =\n",
              "          document.querySelector('#df-360b893e-360d-432b-ad1f-afaf97ad689d button.colab-df-convert');\n",
              "        buttonEl.style.display =\n",
              "          google.colab.kernel.accessAllowed ? 'block' : 'none';\n",
              "\n",
              "        async function convertToInteractive(key) {\n",
              "          const element = document.querySelector('#df-360b893e-360d-432b-ad1f-afaf97ad689d');\n",
              "          const dataTable =\n",
              "            await google.colab.kernel.invokeFunction('convertToInteractive',\n",
              "                                                     [key], {});\n",
              "          if (!dataTable) return;\n",
              "\n",
              "          const docLinkHtml = 'Like what you see? Visit the ' +\n",
              "            '<a target=\"_blank\" href=https://colab.research.google.com/notebooks/data_table.ipynb>data table notebook</a>'\n",
              "            + ' to learn more about interactive tables.';\n",
              "          element.innerHTML = '';\n",
              "          dataTable['output_type'] = 'display_data';\n",
              "          await google.colab.output.renderOutput(dataTable, element);\n",
              "          const docLink = document.createElement('div');\n",
              "          docLink.innerHTML = docLinkHtml;\n",
              "          element.appendChild(docLink);\n",
              "        }\n",
              "      </script>\n",
              "    </div>\n",
              "  </div>\n",
              "  "
            ],
            "text/plain": [
              "   page       date  ...        lix  rix\n",
              "0     7 1900-01-01  ...  24.849462  1.5\n",
              "1     7 1900-01-02  ...  21.495238  1.1\n",
              "2     8 1900-01-03  ...  31.623016  2.5\n",
              "3     8 1900-01-04  ...  23.385714  1.3\n",
              "4     9 1900-01-05  ...  15.494937  0.6\n",
              "\n",
              "[5 rows x 12 columns]"
            ]
          },
          "execution_count": 68,
          "metadata": {},
          "output_type": "execute_result"
        }
      ],
      "source": [
        "# remove the text from the readability data\n",
        "read_data = read_data.drop(columns='text')\n",
        "# add the readability scores to the winnie dataframe\n",
        "result = pd.merge(winnie_corpus, read_data, left_index=True, right_index=True)\n",
        "result.head()"
      ]
    },
    {
      "cell_type": "code",
      "execution_count": null,
      "metadata": {
        "colab": {
          "base_uri": "https://localhost:8080/",
          "height": 308
        },
        "id": "8oUV6rzILi6F",
        "outputId": "4aad4b90-84a5-4ad5-e04d-c555cd559349"
      },
      "outputs": [
        {
          "data": {
            "image/png": "[encoded data removed]",
            "text/plain": [
              "<Figure size 432x288 with 1 Axes>"
            ]
          },
          "metadata": {
            "needs_background": "light"
          },
          "output_type": "display_data"
        }
      ],
      "source": [
        "# plot the flesch-kincaid grade level over time (to see if it fluctuates or stays steady)\n",
        "plt.plot(result[\"date\"], result[\"flesch_kincaid_grade\"], color='blue')\n",
        "plt.xticks(rotation='45')\n",
        "plt.title(\"Readability of Winnie's Diary Entries\")\n",
        "plt.show()"
      ]
    },
    {
      "cell_type": "code",
      "execution_count": null,
      "metadata": {
        "colab": {
          "base_uri": "https://localhost:8080/",
          "height": 1000
        },
        "id": "HgK9V1x5Q_Im",
        "outputId": "c4f7ba4e-57f9-4abc-de28-8ddfdf130b2c"
      },
      "outputs": [
        {
          "data": {
            "text/html": [
              "\n",
              "  <div id=\"df-55efb239-56ad-4d82-854f-70368274814e\">\n",
              "    <div class=\"colab-df-container\">\n",
              "      <div>\n",
              "<style scoped>\n",
              "    .dataframe tbody tr th:only-of-type {\n",
              "        vertical-align: middle;\n",
              "    }\n",
              "\n",
              "    .dataframe tbody tr th {\n",
              "        vertical-align: top;\n",
              "    }\n",
              "\n",
              "    .dataframe thead th {\n",
              "        text-align: right;\n",
              "    }\n",
              "</style>\n",
              "<table border=\"1\" class=\"dataframe\">\n",
              "  <thead>\n",
              "    <tr style=\"text-align: right;\">\n",
              "      <th></th>\n",
              "      <th>page</th>\n",
              "      <th>date</th>\n",
              "      <th>entry</th>\n",
              "      <th>length</th>\n",
              "      <th>flesch_reading_ease</th>\n",
              "      <th>flesch_kincaid_grade</th>\n",
              "      <th>smog</th>\n",
              "      <th>gunning_fog</th>\n",
              "      <th>automated_readability_index</th>\n",
              "      <th>coleman_liau_index</th>\n",
              "      <th>lix</th>\n",
              "      <th>rix</th>\n",
              "    </tr>\n",
              "  </thead>\n",
              "  <tbody>\n",
              "    <tr>\n",
              "      <th>0</th>\n",
              "      <td>7</td>\n",
              "      <td>1900-01-01</td>\n",
              "      <td>New Year. First day of 1900 Charlie Merritt died at Grand Forks British Columbia yesterday of typhoid fever. To-day is election day and pap went up about 3 o'clock and did not get back until nearly 10. He brought us some candy chocolate drops. We had a very fat goose for dinner, not a very young one. Had to have good teeth.</td>\n",
              "      <td>71</td>\n",
              "      <td>100.830538</td>\n",
              "      <td>1.762581</td>\n",
              "      <td>5.461319</td>\n",
              "      <td>4.778495</td>\n",
              "      <td>2.652634</td>\n",
              "      <td>4.950323</td>\n",
              "      <td>24.849462</td>\n",
              "      <td>1.5</td>\n",
              "    </tr>\n",
              "    <tr>\n",
              "      <th>1</th>\n",
              "      <td>7</td>\n",
              "      <td>1900-01-02</td>\n",
              "      <td>Went uptown in afternoon. Was up to Eckardt's but Miss Macfarlane was not there so I did not get what I wanted. Called at office and Nettie came home with me for tea. Mr Carman came over and borrowed my Mildred books. Then Leta came &amp; borrowed my German Grammar as she forgot hers &amp; left it at school before holiday. Papa, mamma, Nettie &amp; I played crokinole. Mamma &amp; I beat. The 2nd Contingent left for Toronto today to go to South Africa. Dr King's som went.</td>\n",
              "      <td>101</td>\n",
              "      <td>90.544714</td>\n",
              "      <td>2.716952</td>\n",
              "      <td>7.168622</td>\n",
              "      <td>5.740952</td>\n",
              "      <td>2.563214</td>\n",
              "      <td>5.386190</td>\n",
              "      <td>21.495238</td>\n",
              "      <td>1.1</td>\n",
              "    </tr>\n",
              "    <tr>\n",
              "      <th>2</th>\n",
              "      <td>8</td>\n",
              "      <td>1900-01-03</td>\n",
              "      <td>Mrs Trusty was here washing School started to-day, but I was not going this week. Mamma went to the church and then to Mrs Chatfields Took her the church books. The queen Street Baptist church had a service of praise this evening. Mrs Chapman is organist &amp; Mrs Read-Muir sang Mrs George Armstrong has a daughter was born on New Year's day.</td>\n",
              "      <td>72</td>\n",
              "      <td>91.477321</td>\n",
              "      <td>4.412817</td>\n",
              "      <td>5.985473</td>\n",
              "      <td>6.934921</td>\n",
              "      <td>6.481190</td>\n",
              "      <td>7.333968</td>\n",
              "      <td>31.623016</td>\n",
              "      <td>2.5</td>\n",
              "    </tr>\n",
              "    <tr>\n",
              "      <th>3</th>\n",
              "      <td>8</td>\n",
              "      <td>1900-01-04</td>\n",
              "      <td>Went over to Carman's to have Ella go with me to Dunn's greenhouse. We went about half past three. I brought a primrose Miss Chaplin was in there. Mamma went to Mrs Klotz at home Beatrice helped. Papa &amp; I went to Sunday School entertainment at night. Had a very long programme. There was a dialogue called \"Aunt Ketty's shopping which was good, and a shaving scene. Mr perry gave a tableful of prizes away. Beatrice came home with us. They had a drill of girls &amp; they sang \"Soldiers of the Queen\"</td>\n",
              "      <td>109</td>\n",
              "      <td>99.053445</td>\n",
              "      <td>1.704055</td>\n",
              "      <td>4.935629</td>\n",
              "      <td>4.079560</td>\n",
              "      <td>2.943407</td>\n",
              "      <td>5.694945</td>\n",
              "      <td>23.385714</td>\n",
              "      <td>1.3</td>\n",
              "    </tr>\n",
              "    <tr>\n",
              "      <th>4</th>\n",
              "      <td>9</td>\n",
              "      <td>1900-01-05</td>\n",
              "      <td>Sweep day. I read \"At the Camerons\" in the \"Harper's Young People\" when mamma was sweeping. We had a beggar in afternoon asking for a few cents as he had a long way to go. Rats! Went over to Lee's in afternoon after eggs. Took a \"Young Ladies Journal\" Mrs Pay lent me. Her kitty has a sore tail. Mrs Malcolmson came after eggs when I was there. She got large sum of 2. Had some candy at night.</td>\n",
              "      <td>97</td>\n",
              "      <td>102.436753</td>\n",
              "      <td>0.934038</td>\n",
              "      <td>5.683918</td>\n",
              "      <td>4.172658</td>\n",
              "      <td>0.107975</td>\n",
              "      <td>2.410127</td>\n",
              "      <td>15.494937</td>\n",
              "      <td>0.6</td>\n",
              "    </tr>\n",
              "  </tbody>\n",
              "</table>\n",
              "</div>\n",
              "      <button class=\"colab-df-convert\" onclick=\"convertToInteractive('df-55efb239-56ad-4d82-854f-70368274814e')\"\n",
              "              title=\"Convert this dataframe to an interactive table.\"\n",
              "              style=\"display:none;\">\n",
              "        \n",
              "  <svg xmlns=\"http://www.w3.org/2000/svg\" height=\"24px\"viewBox=\"0 0 24 24\"\n",
              "       width=\"24px\">\n",
              "    <path d=\"M0 0h24v24H0V0z\" fill=\"none\"/>\n",
              "    <path d=\"M18.56 5.44l.94 2.06.94-2.06 2.06-.94-2.06-.94-.94-2.06-.94 2.06-2.06.94zm-11 1L8.5 8.5l.94-2.06 2.06-.94-2.06-.94L8.5 2.5l-.94 2.06-2.06.94zm10 10l.94 2.06.94-2.06 2.06-.94-2.06-.94-.94-2.06-.94 2.06-2.06.94z\"/><path d=\"M17.41 7.96l-1.37-1.37c-.4-.4-.92-.59-1.43-.59-.52 0-1.04.2-1.43.59L10.3 9.45l-7.72 7.72c-.78.78-.78 2.05 0 2.83L4 21.41c.39.39.9.59 1.41.59.51 0 1.02-.2 1.41-.59l7.78-7.78 2.81-2.81c.8-.78.8-2.07 0-2.86zM5.41 20L4 18.59l7.72-7.72 1.47 1.35L5.41 20z\"/>\n",
              "  </svg>\n",
              "      </button>\n",
              "      \n",
              "  <style>\n",
              "    .colab-df-container {\n",
              "      display:flex;\n",
              "      flex-wrap:wrap;\n",
              "      gap: 12px;\n",
              "    }\n",
              "\n",
              "    .colab-df-convert {\n",
              "      background-color: #E8F0FE;\n",
              "      border: none;\n",
              "      border-radius: 50%;\n",
              "      cursor: pointer;\n",
              "      display: none;\n",
              "      fill: #1967D2;\n",
              "      height: 32px;\n",
              "      padding: 0 0 0 0;\n",
              "      width: 32px;\n",
              "    }\n",
              "\n",
              "    .colab-df-convert:hover {\n",
              "      background-color: #E2EBFA;\n",
              "      box-shadow: 0px 1px 2px rgba(60, 64, 67, 0.3), 0px 1px 3px 1px rgba(60, 64, 67, 0.15);\n",
              "      fill: #174EA6;\n",
              "    }\n",
              "\n",
              "    [theme=dark] .colab-df-convert {\n",
              "      background-color: #3B4455;\n",
              "      fill: #D2E3FC;\n",
              "    }\n",
              "\n",
              "    [theme=dark] .colab-df-convert:hover {\n",
              "      background-color: #434B5C;\n",
              "      box-shadow: 0px 1px 3px 1px rgba(0, 0, 0, 0.15);\n",
              "      filter: drop-shadow(0px 1px 2px rgba(0, 0, 0, 0.3));\n",
              "      fill: #FFFFFF;\n",
              "    }\n",
              "  </style>\n",
              "\n",
              "      <script>\n",
              "        const buttonEl =\n",
              "          document.querySelector('#df-55efb239-56ad-4d82-854f-70368274814e button.colab-df-convert');\n",
              "        buttonEl.style.display =\n",
              "          google.colab.kernel.accessAllowed ? 'block' : 'none';\n",
              "\n",
              "        async function convertToInteractive(key) {\n",
              "          const element = document.querySelector('#df-55efb239-56ad-4d82-854f-70368274814e');\n",
              "          const dataTable =\n",
              "            await google.colab.kernel.invokeFunction('convertToInteractive',\n",
              "                                                     [key], {});\n",
              "          if (!dataTable) return;\n",
              "\n",
              "          const docLinkHtml = 'Like what you see? Visit the ' +\n",
              "            '<a target=\"_blank\" href=https://colab.research.google.com/notebooks/data_table.ipynb>data table notebook</a>'\n",
              "            + ' to learn more about interactive tables.';\n",
              "          element.innerHTML = '';\n",
              "          dataTable['output_type'] = 'display_data';\n",
              "          await google.colab.output.renderOutput(dataTable, element);\n",
              "          const docLink = document.createElement('div');\n",
              "          docLink.innerHTML = docLinkHtml;\n",
              "          element.appendChild(docLink);\n",
              "        }\n",
              "      </script>\n",
              "    </div>\n",
              "  </div>\n",
              "  "
            ],
            "text/plain": [
              "   page       date  ...        lix  rix\n",
              "0     7 1900-01-01  ...  24.849462  1.5\n",
              "1     7 1900-01-02  ...  21.495238  1.1\n",
              "2     8 1900-01-03  ...  31.623016  2.5\n",
              "3     8 1900-01-04  ...  23.385714  1.3\n",
              "4     9 1900-01-05  ...  15.494937  0.6\n",
              "\n",
              "[5 rows x 12 columns]"
            ]
          },
          "execution_count": 70,
          "metadata": {},
          "output_type": "execute_result"
        }
      ],
      "source": [
        "lengths = []\n",
        "# docs is a generator and not a list, so you can only use it once unless you make it a list(docs)\n",
        "docs = nlp.pipe(winnie_corpus.entry)\n",
        "for doc in docs: \n",
        "    lengths.append(doc.__len__())\n",
        "result['length'] = lengths\n",
        "result.head()"
      ]
    },
    {
      "cell_type": "code",
      "execution_count": null,
      "metadata": {
        "colab": {
          "base_uri": "https://localhost:8080/",
          "height": 292
        },
        "id": "37x40JhOXN3e",
        "outputId": "4ee4218a-83bf-4bb2-b6b1-0e4f09bba089"
      },
      "outputs": [
        {
          "data": {
            "image/png": "[encoded data removed]",
            "text/plain": [
              "<Figure size 432x288 with 1 Axes>"
            ]
          },
          "metadata": {
            "needs_background": "light"
          },
          "output_type": "display_data"
        }
      ],
      "source": [
        "# plot the flesch-kincaid grade level versus the length of the entries to see if there is a relationship\n",
        "plt.scatter(result[\"length\"], result['flesch_kincaid_grade'])\n",
        "plt.xticks(rotation='45')\n",
        "plt.title(\"Readability vs Length of Winnie's Diary Entries\")\n",
        "plt.show()"
      ]
    },
    {
      "cell_type": "markdown",
      "metadata": {
        "id": "-ftqwo91rABF"
      },
      "source": [
        "# Miscellaneous: TextDescriptives\n",
        "Since we are already using `TextDescriptives`, here's a look at some of the other attributes it can calculate:\n",
        "\n",
        "## [Descriptive Statistics](https://hlasse.github.io/TextDescriptives/descriptivestats.html)\n",
        "The following attributes can be calculated for a complete `Doc`:\n",
        "- `Doc._.token_length`\n",
        "    - mean, median and standard deviation of token length\n",
        "- `Doc._.sentence_length`\n",
        "    - mean, median and standard deviation of sentence length\n",
        "- `Doc._.syllables`\n",
        "    - mean, median and standard deviation of number of syllables per token \n",
        "- `Doc._.counts`\n",
        "    - number of tokens, number of unique tokens, proportion of unique tokens, number of characters\n",
        "\n",
        "For a `Span`, we can calculate: \n",
        "- `Span._.token_length`\n",
        "- `Span._.counts`\n",
        "\n",
        "These operate in the same manner as their `Doc` counterparts, only on a specified `Span` object.\n"
      ]
    },
    {
      "cell_type": "code",
      "execution_count": null,
      "metadata": {
        "colab": {
          "base_uri": "https://localhost:8080/",
          "height": 145
        },
        "id": "ECMo_NvRrHzR",
        "outputId": "d0c70a43-43b4-4841-8354-af9810eef376"
      },
      "outputs": [
        {
          "data": {
            "text/html": [
              "\n",
              "  <div id=\"df-38432c75-2f0a-483f-837e-8bfabb0215e3\">\n",
              "    <div class=\"colab-df-container\">\n",
              "      <div>\n",
              "<style scoped>\n",
              "    .dataframe tbody tr th:only-of-type {\n",
              "        vertical-align: middle;\n",
              "    }\n",
              "\n",
              "    .dataframe tbody tr th {\n",
              "        vertical-align: top;\n",
              "    }\n",
              "\n",
              "    .dataframe thead th {\n",
              "        text-align: right;\n",
              "    }\n",
              "</style>\n",
              "<table border=\"1\" class=\"dataframe\">\n",
              "  <thead>\n",
              "    <tr style=\"text-align: right;\">\n",
              "      <th></th>\n",
              "      <th>token_length_mean</th>\n",
              "      <th>token_length_median</th>\n",
              "      <th>token_length_std</th>\n",
              "      <th>sentence_length_mean</th>\n",
              "      <th>sentence_length_median</th>\n",
              "      <th>sentence_length_std</th>\n",
              "      <th>syllables_per_token_mean</th>\n",
              "      <th>syllables_per_token_median</th>\n",
              "      <th>syllables_per_token_std</th>\n",
              "      <th>n_tokens</th>\n",
              "      <th>n_unique_tokens</th>\n",
              "      <th>proportion_unique_tokens</th>\n",
              "      <th>n_characters</th>\n",
              "      <th>n_sentences</th>\n",
              "    </tr>\n",
              "  </thead>\n",
              "  <tbody>\n",
              "    <tr>\n",
              "      <th>0</th>\n",
              "      <td>4.016129</td>\n",
              "      <td>4.0</td>\n",
              "      <td>1.938506</td>\n",
              "      <td>10.333333</td>\n",
              "      <td>10.0</td>\n",
              "      <td>6.101002</td>\n",
              "      <td>1.129032</td>\n",
              "      <td>1.0</td>\n",
              "      <td>0.380317</td>\n",
              "      <td>62</td>\n",
              "      <td>53</td>\n",
              "      <td>0.854839</td>\n",
              "      <td>264</td>\n",
              "      <td>6</td>\n",
              "    </tr>\n",
              "  </tbody>\n",
              "</table>\n",
              "</div>\n",
              "      <button class=\"colab-df-convert\" onclick=\"convertToInteractive('df-38432c75-2f0a-483f-837e-8bfabb0215e3')\"\n",
              "              title=\"Convert this dataframe to an interactive table.\"\n",
              "              style=\"display:none;\">\n",
              "        \n",
              "  <svg xmlns=\"http://www.w3.org/2000/svg\" height=\"24px\"viewBox=\"0 0 24 24\"\n",
              "       width=\"24px\">\n",
              "    <path d=\"M0 0h24v24H0V0z\" fill=\"none\"/>\n",
              "    <path d=\"M18.56 5.44l.94 2.06.94-2.06 2.06-.94-2.06-.94-.94-2.06-.94 2.06-2.06.94zm-11 1L8.5 8.5l.94-2.06 2.06-.94-2.06-.94L8.5 2.5l-.94 2.06-2.06.94zm10 10l.94 2.06.94-2.06 2.06-.94-2.06-.94-.94-2.06-.94 2.06-2.06.94z\"/><path d=\"M17.41 7.96l-1.37-1.37c-.4-.4-.92-.59-1.43-.59-.52 0-1.04.2-1.43.59L10.3 9.45l-7.72 7.72c-.78.78-.78 2.05 0 2.83L4 21.41c.39.39.9.59 1.41.59.51 0 1.02-.2 1.41-.59l7.78-7.78 2.81-2.81c.8-.78.8-2.07 0-2.86zM5.41 20L4 18.59l7.72-7.72 1.47 1.35L5.41 20z\"/>\n",
              "  </svg>\n",
              "      </button>\n",
              "      \n",
              "  <style>\n",
              "    .colab-df-container {\n",
              "      display:flex;\n",
              "      flex-wrap:wrap;\n",
              "      gap: 12px;\n",
              "    }\n",
              "\n",
              "    .colab-df-convert {\n",
              "      background-color: #E8F0FE;\n",
              "      border: none;\n",
              "      border-radius: 50%;\n",
              "      cursor: pointer;\n",
              "      display: none;\n",
              "      fill: #1967D2;\n",
              "      height: 32px;\n",
              "      padding: 0 0 0 0;\n",
              "      width: 32px;\n",
              "    }\n",
              "\n",
              "    .colab-df-convert:hover {\n",
              "      background-color: #E2EBFA;\n",
              "      box-shadow: 0px 1px 2px rgba(60, 64, 67, 0.3), 0px 1px 3px 1px rgba(60, 64, 67, 0.15);\n",
              "      fill: #174EA6;\n",
              "    }\n",
              "\n",
              "    [theme=dark] .colab-df-convert {\n",
              "      background-color: #3B4455;\n",
              "      fill: #D2E3FC;\n",
              "    }\n",
              "\n",
              "    [theme=dark] .colab-df-convert:hover {\n",
              "      background-color: #434B5C;\n",
              "      box-shadow: 0px 1px 3px 1px rgba(0, 0, 0, 0.15);\n",
              "      filter: drop-shadow(0px 1px 2px rgba(0, 0, 0, 0.3));\n",
              "      fill: #FFFFFF;\n",
              "    }\n",
              "  </style>\n",
              "\n",
              "      <script>\n",
              "        const buttonEl =\n",
              "          document.querySelector('#df-38432c75-2f0a-483f-837e-8bfabb0215e3 button.colab-df-convert');\n",
              "        buttonEl.style.display =\n",
              "          google.colab.kernel.accessAllowed ? 'block' : 'none';\n",
              "\n",
              "        async function convertToInteractive(key) {\n",
              "          const element = document.querySelector('#df-38432c75-2f0a-483f-837e-8bfabb0215e3');\n",
              "          const dataTable =\n",
              "            await google.colab.kernel.invokeFunction('convertToInteractive',\n",
              "                                                     [key], {});\n",
              "          if (!dataTable) return;\n",
              "\n",
              "          const docLinkHtml = 'Like what you see? Visit the ' +\n",
              "            '<a target=\"_blank\" href=https://colab.research.google.com/notebooks/data_table.ipynb>data table notebook</a>'\n",
              "            + ' to learn more about interactive tables.';\n",
              "          element.innerHTML = '';\n",
              "          dataTable['output_type'] = 'display_data';\n",
              "          await google.colab.output.renderOutput(dataTable, element);\n",
              "          const docLink = document.createElement('div');\n",
              "          docLink.innerHTML = docLinkHtml;\n",
              "          element.appendChild(docLink);\n",
              "        }\n",
              "      </script>\n",
              "    </div>\n",
              "  </div>\n",
              "  "
            ],
            "text/plain": [
              "   token_length_mean  token_length_median  ...  n_characters  n_sentences\n",
              "0           4.016129                  4.0  ...           264            6\n",
              "\n",
              "[1 rows x 14 columns]"
            ]
          },
          "execution_count": 10,
          "metadata": {},
          "output_type": "execute_result"
        }
      ],
      "source": [
        "doc = nlp(winnie_corpus.entry[0])\n",
        "# extracting all of the descriptive stats for this entry into a dataframe\n",
        "# could also get them as dictionaries by using the doc attributes listed above\n",
        "td.extract_df(doc, metrics=\"descriptive_stats\", include_text=False)"
      ]
    },
    {
      "cell_type": "code",
      "execution_count": null,
      "metadata": {
        "colab": {
          "base_uri": "https://localhost:8080/",
          "height": 487
        },
        "id": "ZwSBfWjwujzg",
        "outputId": "93f22168-a90f-4c5c-e2c2-ce25d085b6e2"
      },
      "outputs": [
        {
          "data": {
            "text/html": [
              "\n",
              "  <div id=\"df-7d79c7d8-5f19-4359-a609-613c8fe5cb7f\">\n",
              "    <div class=\"colab-df-container\">\n",
              "      <div>\n",
              "<style scoped>\n",
              "    .dataframe tbody tr th:only-of-type {\n",
              "        vertical-align: middle;\n",
              "    }\n",
              "\n",
              "    .dataframe tbody tr th {\n",
              "        vertical-align: top;\n",
              "    }\n",
              "\n",
              "    .dataframe thead th {\n",
              "        text-align: right;\n",
              "    }\n",
              "</style>\n",
              "<table border=\"1\" class=\"dataframe\">\n",
              "  <thead>\n",
              "    <tr style=\"text-align: right;\">\n",
              "      <th></th>\n",
              "      <th>token_length_mean</th>\n",
              "      <th>token_length_median</th>\n",
              "      <th>token_length_std</th>\n",
              "      <th>sentence_length_mean</th>\n",
              "      <th>sentence_length_median</th>\n",
              "      <th>sentence_length_std</th>\n",
              "      <th>syllables_per_token_mean</th>\n",
              "      <th>syllables_per_token_median</th>\n",
              "      <th>syllables_per_token_std</th>\n",
              "      <th>n_tokens</th>\n",
              "      <th>n_unique_tokens</th>\n",
              "      <th>proportion_unique_tokens</th>\n",
              "      <th>n_characters</th>\n",
              "      <th>n_sentences</th>\n",
              "    </tr>\n",
              "  </thead>\n",
              "  <tbody>\n",
              "    <tr>\n",
              "      <th>0</th>\n",
              "      <td>4.016129</td>\n",
              "      <td>4.0</td>\n",
              "      <td>1.938506</td>\n",
              "      <td>10.333333</td>\n",
              "      <td>10.0</td>\n",
              "      <td>6.101002</td>\n",
              "      <td>1.129032</td>\n",
              "      <td>1.0</td>\n",
              "      <td>0.380317</td>\n",
              "      <td>62</td>\n",
              "      <td>53</td>\n",
              "      <td>0.854839</td>\n",
              "      <td>264</td>\n",
              "      <td>6</td>\n",
              "    </tr>\n",
              "    <tr>\n",
              "      <th>1</th>\n",
              "      <td>4.202381</td>\n",
              "      <td>4.0</td>\n",
              "      <td>2.097503</td>\n",
              "      <td>8.400000</td>\n",
              "      <td>8.5</td>\n",
              "      <td>4.127953</td>\n",
              "      <td>1.273810</td>\n",
              "      <td>1.0</td>\n",
              "      <td>0.563813</td>\n",
              "      <td>84</td>\n",
              "      <td>66</td>\n",
              "      <td>0.785714</td>\n",
              "      <td>372</td>\n",
              "      <td>10</td>\n",
              "    </tr>\n",
              "    <tr>\n",
              "      <th>2</th>\n",
              "      <td>4.253968</td>\n",
              "      <td>4.0</td>\n",
              "      <td>1.991795</td>\n",
              "      <td>15.750000</td>\n",
              "      <td>15.5</td>\n",
              "      <td>2.861381</td>\n",
              "      <td>1.174603</td>\n",
              "      <td>1.0</td>\n",
              "      <td>0.419360</td>\n",
              "      <td>63</td>\n",
              "      <td>48</td>\n",
              "      <td>0.761905</td>\n",
              "      <td>278</td>\n",
              "      <td>4</td>\n",
              "    </tr>\n",
              "    <tr>\n",
              "      <th>3</th>\n",
              "      <td>4.208791</td>\n",
              "      <td>4.0</td>\n",
              "      <td>2.245956</td>\n",
              "      <td>9.100000</td>\n",
              "      <td>9.0</td>\n",
              "      <td>3.207803</td>\n",
              "      <td>1.164835</td>\n",
              "      <td>1.0</td>\n",
              "      <td>0.451219</td>\n",
              "      <td>91</td>\n",
              "      <td>67</td>\n",
              "      <td>0.736264</td>\n",
              "      <td>404</td>\n",
              "      <td>10</td>\n",
              "    </tr>\n",
              "    <tr>\n",
              "      <th>4</th>\n",
              "      <td>3.734177</td>\n",
              "      <td>3.0</td>\n",
              "      <td>1.940304</td>\n",
              "      <td>7.900000</td>\n",
              "      <td>7.0</td>\n",
              "      <td>5.107837</td>\n",
              "      <td>1.139241</td>\n",
              "      <td>1.0</td>\n",
              "      <td>0.412899</td>\n",
              "      <td>79</td>\n",
              "      <td>60</td>\n",
              "      <td>0.759494</td>\n",
              "      <td>315</td>\n",
              "      <td>10</td>\n",
              "    </tr>\n",
              "    <tr>\n",
              "      <th>...</th>\n",
              "      <td>...</td>\n",
              "      <td>...</td>\n",
              "      <td>...</td>\n",
              "      <td>...</td>\n",
              "      <td>...</td>\n",
              "      <td>...</td>\n",
              "      <td>...</td>\n",
              "      <td>...</td>\n",
              "      <td>...</td>\n",
              "      <td>...</td>\n",
              "      <td>...</td>\n",
              "      <td>...</td>\n",
              "      <td>...</td>\n",
              "      <td>...</td>\n",
              "    </tr>\n",
              "    <tr>\n",
              "      <th>358</th>\n",
              "      <td>4.339286</td>\n",
              "      <td>4.0</td>\n",
              "      <td>2.385049</td>\n",
              "      <td>8.000000</td>\n",
              "      <td>6.0</td>\n",
              "      <td>6.546537</td>\n",
              "      <td>1.250000</td>\n",
              "      <td>1.0</td>\n",
              "      <td>0.542810</td>\n",
              "      <td>56</td>\n",
              "      <td>45</td>\n",
              "      <td>0.803571</td>\n",
              "      <td>254</td>\n",
              "      <td>7</td>\n",
              "    </tr>\n",
              "    <tr>\n",
              "      <th>359</th>\n",
              "      <td>3.986486</td>\n",
              "      <td>4.0</td>\n",
              "      <td>2.030133</td>\n",
              "      <td>12.333333</td>\n",
              "      <td>7.0</td>\n",
              "      <td>9.637888</td>\n",
              "      <td>1.175676</td>\n",
              "      <td>1.0</td>\n",
              "      <td>0.445946</td>\n",
              "      <td>74</td>\n",
              "      <td>57</td>\n",
              "      <td>0.770270</td>\n",
              "      <td>310</td>\n",
              "      <td>6</td>\n",
              "    </tr>\n",
              "    <tr>\n",
              "      <th>360</th>\n",
              "      <td>4.214286</td>\n",
              "      <td>4.0</td>\n",
              "      <td>2.144047</td>\n",
              "      <td>9.333333</td>\n",
              "      <td>8.5</td>\n",
              "      <td>2.426703</td>\n",
              "      <td>1.232143</td>\n",
              "      <td>1.0</td>\n",
              "      <td>0.534224</td>\n",
              "      <td>56</td>\n",
              "      <td>43</td>\n",
              "      <td>0.767857</td>\n",
              "      <td>245</td>\n",
              "      <td>6</td>\n",
              "    </tr>\n",
              "    <tr>\n",
              "      <th>361</th>\n",
              "      <td>3.860215</td>\n",
              "      <td>4.0</td>\n",
              "      <td>1.926562</td>\n",
              "      <td>11.625000</td>\n",
              "      <td>11.0</td>\n",
              "      <td>6.081478</td>\n",
              "      <td>1.075269</td>\n",
              "      <td>1.0</td>\n",
              "      <td>0.263825</td>\n",
              "      <td>93</td>\n",
              "      <td>64</td>\n",
              "      <td>0.688172</td>\n",
              "      <td>375</td>\n",
              "      <td>8</td>\n",
              "    </tr>\n",
              "    <tr>\n",
              "      <th>362</th>\n",
              "      <td>4.120690</td>\n",
              "      <td>4.0</td>\n",
              "      <td>1.939406</td>\n",
              "      <td>7.250000</td>\n",
              "      <td>6.0</td>\n",
              "      <td>3.864906</td>\n",
              "      <td>1.172414</td>\n",
              "      <td>1.0</td>\n",
              "      <td>0.460057</td>\n",
              "      <td>58</td>\n",
              "      <td>47</td>\n",
              "      <td>0.810345</td>\n",
              "      <td>250</td>\n",
              "      <td>8</td>\n",
              "    </tr>\n",
              "  </tbody>\n",
              "</table>\n",
              "<p>363 rows × 14 columns</p>\n",
              "</div>\n",
              "      <button class=\"colab-df-convert\" onclick=\"convertToInteractive('df-7d79c7d8-5f19-4359-a609-613c8fe5cb7f')\"\n",
              "              title=\"Convert this dataframe to an interactive table.\"\n",
              "              style=\"display:none;\">\n",
              "        \n",
              "  <svg xmlns=\"http://www.w3.org/2000/svg\" height=\"24px\"viewBox=\"0 0 24 24\"\n",
              "       width=\"24px\">\n",
              "    <path d=\"M0 0h24v24H0V0z\" fill=\"none\"/>\n",
              "    <path d=\"M18.56 5.44l.94 2.06.94-2.06 2.06-.94-2.06-.94-.94-2.06-.94 2.06-2.06.94zm-11 1L8.5 8.5l.94-2.06 2.06-.94-2.06-.94L8.5 2.5l-.94 2.06-2.06.94zm10 10l.94 2.06.94-2.06 2.06-.94-2.06-.94-.94-2.06-.94 2.06-2.06.94z\"/><path d=\"M17.41 7.96l-1.37-1.37c-.4-.4-.92-.59-1.43-.59-.52 0-1.04.2-1.43.59L10.3 9.45l-7.72 7.72c-.78.78-.78 2.05 0 2.83L4 21.41c.39.39.9.59 1.41.59.51 0 1.02-.2 1.41-.59l7.78-7.78 2.81-2.81c.8-.78.8-2.07 0-2.86zM5.41 20L4 18.59l7.72-7.72 1.47 1.35L5.41 20z\"/>\n",
              "  </svg>\n",
              "      </button>\n",
              "      \n",
              "  <style>\n",
              "    .colab-df-container {\n",
              "      display:flex;\n",
              "      flex-wrap:wrap;\n",
              "      gap: 12px;\n",
              "    }\n",
              "\n",
              "    .colab-df-convert {\n",
              "      background-color: #E8F0FE;\n",
              "      border: none;\n",
              "      border-radius: 50%;\n",
              "      cursor: pointer;\n",
              "      display: none;\n",
              "      fill: #1967D2;\n",
              "      height: 32px;\n",
              "      padding: 0 0 0 0;\n",
              "      width: 32px;\n",
              "    }\n",
              "\n",
              "    .colab-df-convert:hover {\n",
              "      background-color: #E2EBFA;\n",
              "      box-shadow: 0px 1px 2px rgba(60, 64, 67, 0.3), 0px 1px 3px 1px rgba(60, 64, 67, 0.15);\n",
              "      fill: #174EA6;\n",
              "    }\n",
              "\n",
              "    [theme=dark] .colab-df-convert {\n",
              "      background-color: #3B4455;\n",
              "      fill: #D2E3FC;\n",
              "    }\n",
              "\n",
              "    [theme=dark] .colab-df-convert:hover {\n",
              "      background-color: #434B5C;\n",
              "      box-shadow: 0px 1px 3px 1px rgba(0, 0, 0, 0.15);\n",
              "      filter: drop-shadow(0px 1px 2px rgba(0, 0, 0, 0.3));\n",
              "      fill: #FFFFFF;\n",
              "    }\n",
              "  </style>\n",
              "\n",
              "      <script>\n",
              "        const buttonEl =\n",
              "          document.querySelector('#df-7d79c7d8-5f19-4359-a609-613c8fe5cb7f button.colab-df-convert');\n",
              "        buttonEl.style.display =\n",
              "          google.colab.kernel.accessAllowed ? 'block' : 'none';\n",
              "\n",
              "        async function convertToInteractive(key) {\n",
              "          const element = document.querySelector('#df-7d79c7d8-5f19-4359-a609-613c8fe5cb7f');\n",
              "          const dataTable =\n",
              "            await google.colab.kernel.invokeFunction('convertToInteractive',\n",
              "                                                     [key], {});\n",
              "          if (!dataTable) return;\n",
              "\n",
              "          const docLinkHtml = 'Like what you see? Visit the ' +\n",
              "            '<a target=\"_blank\" href=https://colab.research.google.com/notebooks/data_table.ipynb>data table notebook</a>'\n",
              "            + ' to learn more about interactive tables.';\n",
              "          element.innerHTML = '';\n",
              "          dataTable['output_type'] = 'display_data';\n",
              "          await google.colab.output.renderOutput(dataTable, element);\n",
              "          const docLink = document.createElement('div');\n",
              "          docLink.innerHTML = docLinkHtml;\n",
              "          element.appendChild(docLink);\n",
              "        }\n",
              "      </script>\n",
              "    </div>\n",
              "  </div>\n",
              "  "
            ],
            "text/plain": [
              "     token_length_mean  token_length_median  ...  n_characters  n_sentences\n",
              "0             4.016129                  4.0  ...           264            6\n",
              "1             4.202381                  4.0  ...           372           10\n",
              "2             4.253968                  4.0  ...           278            4\n",
              "3             4.208791                  4.0  ...           404           10\n",
              "4             3.734177                  3.0  ...           315           10\n",
              "..                 ...                  ...  ...           ...          ...\n",
              "358           4.339286                  4.0  ...           254            7\n",
              "359           3.986486                  4.0  ...           310            6\n",
              "360           4.214286                  4.0  ...           245            6\n",
              "361           3.860215                  4.0  ...           375            8\n",
              "362           4.120690                  4.0  ...           250            8\n",
              "\n",
              "[363 rows x 14 columns]"
            ]
          },
          "execution_count": 14,
          "metadata": {},
          "output_type": "execute_result"
        }
      ],
      "source": [
        "docs = nlp.pipe(winnie_corpus.entry)\n",
        "winnie_stats = td.extract_df(docs, metrics=\"descriptive_stats\", include_text=False)\n",
        "winnie_stats"
      ]
    },
    {
      "cell_type": "code",
      "execution_count": null,
      "metadata": {
        "colab": {
          "base_uri": "https://localhost:8080/",
          "height": 292
        },
        "id": "mlsqwL5nuydy",
        "outputId": "76cef935-c168-4e8b-b276-8ba744737707"
      },
      "outputs": [
        {
          "data": {
            "image/png": "[encoded data removed]",
            "text/plain": [
              "<Figure size 432x288 with 1 Axes>"
            ]
          },
          "metadata": {
            "needs_background": "light"
          },
          "output_type": "display_data"
        }
      ],
      "source": [
        "# plotting things, just to see\n",
        "plt.plot(range(0, 363), winnie_stats['sentence_length_median'])\n",
        "plt.xticks(rotation='45')\n",
        "plt.title(\"Median Sentence Length of Diary Entries\")\n",
        "plt.show()"
      ]
    },
    {
      "cell_type": "markdown",
      "metadata": {
        "id": "rN2z874TtGPw"
      },
      "source": [
        "## [Dependency Distance](https://hlasse.github.io/TextDescriptives/dependencydistance.html)\n",
        "\n",
        "Dependency distance is the \"linear distance between two syntactically related words in a sentence\" ([Liu 2017](https://www.sciencedirect.com/science/article/pii/S1571064517300532)), and can be used to indicate syntactic complexity or difficulty of a sentence ([Liu 2008](https://pdfs.semanticscholar.org/b6b9/cf00698a76d7a1e5ba58baa92d8799366813.pdf), [Oya 2010](http://www.paaljapan.org/conference2011/ProcNewest2011/pdf/poster/P-13.pdf), [Liu 2017](https://www.sciencedirect.com/science/article/pii/S1571064517300532)). Sentences with larger dependency distances are generally more difficult as the reader has a greater \"memory burden\". \n",
        "\n",
        "`TextDescriptives` can calculate the following measures of dependency distance: \n",
        "- For `Doc` objects\n",
        "    - mean and standard deviation of dependency distance for sentences\n",
        "    - mean and standard deviation of \"proportion adjacent dependency relations\" for sentences\n",
        "- For `Span` objects \n",
        "    - mean dependency distance and \"mean proportion adjacent dependency relations\" \n",
        "- For `Token` objects\n",
        "    - dependency distance\n",
        "    - whether the dependency relation is an adjacent token\n",
        "\n"
      ]
    },
    {
      "cell_type": "code",
      "execution_count": null,
      "metadata": {
        "colab": {
          "base_uri": "https://localhost:8080/",
          "height": 159
        },
        "id": "PfxF3kwD0u_P",
        "outputId": "ae125a81-fe76-4ce1-920d-7321c4c9223f"
      },
      "outputs": [
        {
          "data": {
            "text/html": [
              "\n",
              "  <div id=\"df-8fac0835-c211-4b56-a316-eac259d883a3\">\n",
              "    <div class=\"colab-df-container\">\n",
              "      <div>\n",
              "<style scoped>\n",
              "    .dataframe tbody tr th:only-of-type {\n",
              "        vertical-align: middle;\n",
              "    }\n",
              "\n",
              "    .dataframe tbody tr th {\n",
              "        vertical-align: top;\n",
              "    }\n",
              "\n",
              "    .dataframe thead th {\n",
              "        text-align: right;\n",
              "    }\n",
              "</style>\n",
              "<table border=\"1\" class=\"dataframe\">\n",
              "  <thead>\n",
              "    <tr style=\"text-align: right;\">\n",
              "      <th></th>\n",
              "      <th>text</th>\n",
              "      <th>dependency_distance_mean</th>\n",
              "      <th>dependency_distance_std</th>\n",
              "      <th>prop_adjacent_dependency_relation_mean</th>\n",
              "      <th>prop_adjacent_dependency_relation_std</th>\n",
              "    </tr>\n",
              "  </thead>\n",
              "  <tbody>\n",
              "    <tr>\n",
              "      <th>0</th>\n",
              "      <td>New Year. First day of 1900 Charlie Merritt died at Grand Forks British Columbia yesterday of typhoid fever. To-day is election day and pap went up about 3 o'clock and did not get back until nearly 10. He brought us some candy chocolate drops. We had a very fat goose for dinner, not a very young one. Had to have good teeth.</td>\n",
              "      <td>2.09258</td>\n",
              "      <td>0.737249</td>\n",
              "      <td>0.501575</td>\n",
              "      <td>0.10528</td>\n",
              "    </tr>\n",
              "  </tbody>\n",
              "</table>\n",
              "</div>\n",
              "      <button class=\"colab-df-convert\" onclick=\"convertToInteractive('df-8fac0835-c211-4b56-a316-eac259d883a3')\"\n",
              "              title=\"Convert this dataframe to an interactive table.\"\n",
              "              style=\"display:none;\">\n",
              "        \n",
              "  <svg xmlns=\"http://www.w3.org/2000/svg\" height=\"24px\"viewBox=\"0 0 24 24\"\n",
              "       width=\"24px\">\n",
              "    <path d=\"M0 0h24v24H0V0z\" fill=\"none\"/>\n",
              "    <path d=\"M18.56 5.44l.94 2.06.94-2.06 2.06-.94-2.06-.94-.94-2.06-.94 2.06-2.06.94zm-11 1L8.5 8.5l.94-2.06 2.06-.94-2.06-.94L8.5 2.5l-.94 2.06-2.06.94zm10 10l.94 2.06.94-2.06 2.06-.94-2.06-.94-.94-2.06-.94 2.06-2.06.94z\"/><path d=\"M17.41 7.96l-1.37-1.37c-.4-.4-.92-.59-1.43-.59-.52 0-1.04.2-1.43.59L10.3 9.45l-7.72 7.72c-.78.78-.78 2.05 0 2.83L4 21.41c.39.39.9.59 1.41.59.51 0 1.02-.2 1.41-.59l7.78-7.78 2.81-2.81c.8-.78.8-2.07 0-2.86zM5.41 20L4 18.59l7.72-7.72 1.47 1.35L5.41 20z\"/>\n",
              "  </svg>\n",
              "      </button>\n",
              "      \n",
              "  <style>\n",
              "    .colab-df-container {\n",
              "      display:flex;\n",
              "      flex-wrap:wrap;\n",
              "      gap: 12px;\n",
              "    }\n",
              "\n",
              "    .colab-df-convert {\n",
              "      background-color: #E8F0FE;\n",
              "      border: none;\n",
              "      border-radius: 50%;\n",
              "      cursor: pointer;\n",
              "      display: none;\n",
              "      fill: #1967D2;\n",
              "      height: 32px;\n",
              "      padding: 0 0 0 0;\n",
              "      width: 32px;\n",
              "    }\n",
              "\n",
              "    .colab-df-convert:hover {\n",
              "      background-color: #E2EBFA;\n",
              "      box-shadow: 0px 1px 2px rgba(60, 64, 67, 0.3), 0px 1px 3px 1px rgba(60, 64, 67, 0.15);\n",
              "      fill: #174EA6;\n",
              "    }\n",
              "\n",
              "    [theme=dark] .colab-df-convert {\n",
              "      background-color: #3B4455;\n",
              "      fill: #D2E3FC;\n",
              "    }\n",
              "\n",
              "    [theme=dark] .colab-df-convert:hover {\n",
              "      background-color: #434B5C;\n",
              "      box-shadow: 0px 1px 3px 1px rgba(0, 0, 0, 0.15);\n",
              "      filter: drop-shadow(0px 1px 2px rgba(0, 0, 0, 0.3));\n",
              "      fill: #FFFFFF;\n",
              "    }\n",
              "  </style>\n",
              "\n",
              "      <script>\n",
              "        const buttonEl =\n",
              "          document.querySelector('#df-8fac0835-c211-4b56-a316-eac259d883a3 button.colab-df-convert');\n",
              "        buttonEl.style.display =\n",
              "          google.colab.kernel.accessAllowed ? 'block' : 'none';\n",
              "\n",
              "        async function convertToInteractive(key) {\n",
              "          const element = document.querySelector('#df-8fac0835-c211-4b56-a316-eac259d883a3');\n",
              "          const dataTable =\n",
              "            await google.colab.kernel.invokeFunction('convertToInteractive',\n",
              "                                                     [key], {});\n",
              "          if (!dataTable) return;\n",
              "\n",
              "          const docLinkHtml = 'Like what you see? Visit the ' +\n",
              "            '<a target=\"_blank\" href=https://colab.research.google.com/notebooks/data_table.ipynb>data table notebook</a>'\n",
              "            + ' to learn more about interactive tables.';\n",
              "          element.innerHTML = '';\n",
              "          dataTable['output_type'] = 'display_data';\n",
              "          await google.colab.output.renderOutput(dataTable, element);\n",
              "          const docLink = document.createElement('div');\n",
              "          docLink.innerHTML = docLinkHtml;\n",
              "          element.appendChild(docLink);\n",
              "        }\n",
              "      </script>\n",
              "    </div>\n",
              "  </div>\n",
              "  "
            ],
            "text/plain": [
              "                                                                                                                                                                                                                                                                                                                                    text  ...  prop_adjacent_dependency_relation_std\n",
              "0  New Year. First day of 1900 Charlie Merritt died at Grand Forks British Columbia yesterday of typhoid fever. To-day is election day and pap went up about 3 o'clock and did not get back until nearly 10. He brought us some candy chocolate drops. We had a very fat goose for dinner, not a very young one. Had to have good teeth.  ...                                0.10528\n",
              "\n",
              "[1 rows x 5 columns]"
            ]
          },
          "execution_count": 26,
          "metadata": {},
          "output_type": "execute_result"
        }
      ],
      "source": [
        "td.extract_df(doc, metrics=\"dependency_distance\")"
      ]
    },
    {
      "cell_type": "markdown",
      "metadata": {
        "id": "SQGGDdN21v5u"
      },
      "source": [
        "# Miscellaneous: Entity Linking + Knowledge Bases\n",
        "\n",
        "You can train spaCy to be able to use context to disambiguate text mentions of entities to \"real-world\" entities stored in a knowledge base. There is a [tutorial on this concept/topic by one of the main spaCy contributers](https://spacy.io/universe/project/video-entity-linking). The example used in the tutorial is disambiguating a mention of the name \"Emerson\" in a text about winning a tennis championship. Suppose there are 3 people whose names are Emerson in your knowledge base, you can train spaCy to use the context (this Emerson must play tennis) to determine which Emerson is being referred to. "
      ]
    }
  ],
  "metadata": {
    "colab": {
      "collapsed_sections": [],
      "name": "Winnie Beam + spaCy.ipynb",
      "provenance": []
    },
    "kernelspec": {
      "display_name": "Python 3",
      "name": "python3"
    },
    "language_info": {
      "name": "python"
    }
  },
  "nbformat": 4,
  "nbformat_minor": 0
}
